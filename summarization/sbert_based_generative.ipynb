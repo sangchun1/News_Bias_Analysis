{
 "nbformat": 4,
 "nbformat_minor": 0,
 "metadata": {
  "colab": {
   "provenance": [],
   "authorship_tag": "ABX9TyOJZIEulKjCQzReHMNjYtC2"
  },
  "kernelspec": {
   "name": "python3",
   "display_name": "Python 3"
  },
  "language_info": {
   "name": "python"
  }
 },
 "cells": [
  {
   "cell_type": "markdown",
   "source": [
    "최종 완성본"
   ],
   "metadata": {
    "id": "B84nn2RIoi2A"
   }
  },
  {
   "cell_type": "code",
   "source": [
    "!jupyter nbconvert --ClearOutputPreprocessor.enabled=True --inplace generative.ipynb"
   ],
   "metadata": {
    "id": "YJ6E8GQ9wzGg",
    "executionInfo": {
     "status": "ok",
     "timestamp": 1749742230853,
     "user_tz": -540,
     "elapsed": 3550,
     "user": {
      "displayName": "최수진",
      "userId": "02116108146573633334"
     }
    },
    "outputId": "9f4bb168-f225-4ca6-fc6d-ce496ed3f684",
    "colab": {
     "base_uri": "https://localhost:8080/"
    }
   },
   "execution_count": null,
   "outputs": [
    {
     "output_type": "stream",
     "name": "stdout",
     "text": [
      "[NbConvertApp] WARNING | pattern 'generative.ipynb' matched no files\n",
      "This application is used to convert notebook files (*.ipynb)\n",
      "        to various other formats.\n",
      "\n",
      "        WARNING: THE COMMANDLINE INTERFACE MAY CHANGE IN FUTURE RELEASES.\n",
      "\n",
      "Options\n",
      "=======\n",
      "The options below are convenience aliases to configurable class-options,\n",
      "as listed in the \"Equivalent to\" description-line of the aliases.\n",
      "To see all configurable class-options for some <cmd>, use:\n",
      "    <cmd> --help-all\n",
      "\n",
      "--debug\n",
      "    set log level to logging.DEBUG (maximize logging output)\n",
      "    Equivalent to: [--Application.log_level=10]\n",
      "--show-config\n",
      "    Show the application's configuration (human-readable format)\n",
      "    Equivalent to: [--Application.show_config=True]\n",
      "--show-config-json\n",
      "    Show the application's configuration (json format)\n",
      "    Equivalent to: [--Application.show_config_json=True]\n",
      "--generate-config\n",
      "    generate default config file\n",
      "    Equivalent to: [--JupyterApp.generate_config=True]\n",
      "-y\n",
      "    Answer yes to any questions instead of prompting.\n",
      "    Equivalent to: [--JupyterApp.answer_yes=True]\n",
      "--execute\n",
      "    Execute the notebook prior to export.\n",
      "    Equivalent to: [--ExecutePreprocessor.enabled=True]\n",
      "--allow-errors\n",
      "    Continue notebook execution even if one of the cells throws an error and include the error message in the cell output (the default behaviour is to abort conversion). This flag is only relevant if '--execute' was specified, too.\n",
      "    Equivalent to: [--ExecutePreprocessor.allow_errors=True]\n",
      "--stdin\n",
      "    read a single notebook file from stdin. Write the resulting notebook with default basename 'notebook.*'\n",
      "    Equivalent to: [--NbConvertApp.from_stdin=True]\n",
      "--stdout\n",
      "    Write notebook output to stdout instead of files.\n",
      "    Equivalent to: [--NbConvertApp.writer_class=StdoutWriter]\n",
      "--inplace\n",
      "    Run nbconvert in place, overwriting the existing notebook (only\n",
      "            relevant when converting to notebook format)\n",
      "    Equivalent to: [--NbConvertApp.use_output_suffix=False --NbConvertApp.export_format=notebook --FilesWriter.build_directory=]\n",
      "--clear-output\n",
      "    Clear output of current file and save in place,\n",
      "            overwriting the existing notebook.\n",
      "    Equivalent to: [--NbConvertApp.use_output_suffix=False --NbConvertApp.export_format=notebook --FilesWriter.build_directory= --ClearOutputPreprocessor.enabled=True]\n",
      "--coalesce-streams\n",
      "    Coalesce consecutive stdout and stderr outputs into one stream (within each cell).\n",
      "    Equivalent to: [--NbConvertApp.use_output_suffix=False --NbConvertApp.export_format=notebook --FilesWriter.build_directory= --CoalesceStreamsPreprocessor.enabled=True]\n",
      "--no-prompt\n",
      "    Exclude input and output prompts from converted document.\n",
      "    Equivalent to: [--TemplateExporter.exclude_input_prompt=True --TemplateExporter.exclude_output_prompt=True]\n",
      "--no-input\n",
      "    Exclude input cells and output prompts from converted document.\n",
      "            This mode is ideal for generating code-free reports.\n",
      "    Equivalent to: [--TemplateExporter.exclude_output_prompt=True --TemplateExporter.exclude_input=True --TemplateExporter.exclude_input_prompt=True]\n",
      "--allow-chromium-download\n",
      "    Whether to allow downloading chromium if no suitable version is found on the system.\n",
      "    Equivalent to: [--WebPDFExporter.allow_chromium_download=True]\n",
      "--disable-chromium-sandbox\n",
      "    Disable chromium security sandbox when converting to PDF..\n",
      "    Equivalent to: [--WebPDFExporter.disable_sandbox=True]\n",
      "--show-input\n",
      "    Shows code input. This flag is only useful for dejavu users.\n",
      "    Equivalent to: [--TemplateExporter.exclude_input=False]\n",
      "--embed-images\n",
      "    Embed the images as base64 dataurls in the output. This flag is only useful for the HTML/WebPDF/Slides exports.\n",
      "    Equivalent to: [--HTMLExporter.embed_images=True]\n",
      "--sanitize-html\n",
      "    Whether the HTML in Markdown cells and cell outputs should be sanitized..\n",
      "    Equivalent to: [--HTMLExporter.sanitize_html=True]\n",
      "--log-level=<Enum>\n",
      "    Set the log level by value or name.\n",
      "    Choices: any of [0, 10, 20, 30, 40, 50, 'DEBUG', 'INFO', 'WARN', 'ERROR', 'CRITICAL']\n",
      "    Default: 30\n",
      "    Equivalent to: [--Application.log_level]\n",
      "--config=<Unicode>\n",
      "    Full path of a config file.\n",
      "    Default: ''\n",
      "    Equivalent to: [--JupyterApp.config_file]\n",
      "--to=<Unicode>\n",
      "    The export format to be used, either one of the built-in formats\n",
      "            ['asciidoc', 'custom', 'html', 'latex', 'markdown', 'notebook', 'pdf', 'python', 'qtpdf', 'qtpng', 'rst', 'script', 'slides', 'webpdf']\n",
      "            or a dotted object name that represents the import path for an\n",
      "            ``Exporter`` class\n",
      "    Default: ''\n",
      "    Equivalent to: [--NbConvertApp.export_format]\n",
      "--template=<Unicode>\n",
      "    Name of the template to use\n",
      "    Default: ''\n",
      "    Equivalent to: [--TemplateExporter.template_name]\n",
      "--template-file=<Unicode>\n",
      "    Name of the template file to use\n",
      "    Default: None\n",
      "    Equivalent to: [--TemplateExporter.template_file]\n",
      "--theme=<Unicode>\n",
      "    Template specific theme(e.g. the name of a JupyterLab CSS theme distributed\n",
      "    as prebuilt extension for the lab template)\n",
      "    Default: 'light'\n",
      "    Equivalent to: [--HTMLExporter.theme]\n",
      "--sanitize_html=<Bool>\n",
      "    Whether the HTML in Markdown cells and cell outputs should be sanitized.This\n",
      "    should be set to True by nbviewer or similar tools.\n",
      "    Default: False\n",
      "    Equivalent to: [--HTMLExporter.sanitize_html]\n",
      "--writer=<DottedObjectName>\n",
      "    Writer class used to write the\n",
      "                                        results of the conversion\n",
      "    Default: 'FilesWriter'\n",
      "    Equivalent to: [--NbConvertApp.writer_class]\n",
      "--post=<DottedOrNone>\n",
      "    PostProcessor class used to write the\n",
      "                                        results of the conversion\n",
      "    Default: ''\n",
      "    Equivalent to: [--NbConvertApp.postprocessor_class]\n",
      "--output=<Unicode>\n",
      "    Overwrite base name use for output files.\n",
      "                Supports pattern replacements '{notebook_name}'.\n",
      "    Default: '{notebook_name}'\n",
      "    Equivalent to: [--NbConvertApp.output_base]\n",
      "--output-dir=<Unicode>\n",
      "    Directory to write output(s) to. Defaults\n",
      "                                  to output to the directory of each notebook. To recover\n",
      "                                  previous default behaviour (outputting to the current\n",
      "                                  working directory) use . as the flag value.\n",
      "    Default: ''\n",
      "    Equivalent to: [--FilesWriter.build_directory]\n",
      "--reveal-prefix=<Unicode>\n",
      "    The URL prefix for reveal.js (version 3.x).\n",
      "            This defaults to the reveal CDN, but can be any url pointing to a copy\n",
      "            of reveal.js.\n",
      "            For speaker notes to work, this must be a relative path to a local\n",
      "            copy of reveal.js: e.g., \"reveal.js\".\n",
      "            If a relative path is given, it must be a subdirectory of the\n",
      "            current directory (from which the server is run).\n",
      "            See the usage documentation\n",
      "            (https://nbconvert.readthedocs.io/en/latest/usage.html#reveal-js-html-slideshow)\n",
      "            for more details.\n",
      "    Default: ''\n",
      "    Equivalent to: [--SlidesExporter.reveal_url_prefix]\n",
      "--nbformat=<Enum>\n",
      "    The nbformat version to write.\n",
      "            Use this to downgrade notebooks.\n",
      "    Choices: any of [1, 2, 3, 4]\n",
      "    Default: 4\n",
      "    Equivalent to: [--NotebookExporter.nbformat_version]\n",
      "\n",
      "Examples\n",
      "--------\n",
      "\n",
      "    The simplest way to use nbconvert is\n",
      "\n",
      "            > jupyter nbconvert mynotebook.ipynb --to html\n",
      "\n",
      "            Options include ['asciidoc', 'custom', 'html', 'latex', 'markdown', 'notebook', 'pdf', 'python', 'qtpdf', 'qtpng', 'rst', 'script', 'slides', 'webpdf'].\n",
      "\n",
      "            > jupyter nbconvert --to latex mynotebook.ipynb\n",
      "\n",
      "            Both HTML and LaTeX support multiple output templates. LaTeX includes\n",
      "            'base', 'article' and 'report'.  HTML includes 'basic', 'lab' and\n",
      "            'classic'. You can specify the flavor of the format used.\n",
      "\n",
      "            > jupyter nbconvert --to html --template lab mynotebook.ipynb\n",
      "\n",
      "            You can also pipe the output to stdout, rather than a file\n",
      "\n",
      "            > jupyter nbconvert mynotebook.ipynb --stdout\n",
      "\n",
      "            PDF is generated via latex\n",
      "\n",
      "            > jupyter nbconvert mynotebook.ipynb --to pdf\n",
      "\n",
      "            You can get (and serve) a Reveal.js-powered slideshow\n",
      "\n",
      "            > jupyter nbconvert myslides.ipynb --to slides --post serve\n",
      "\n",
      "            Multiple notebooks can be given at the command line in a couple of\n",
      "            different ways:\n",
      "\n",
      "            > jupyter nbconvert notebook*.ipynb\n",
      "            > jupyter nbconvert notebook1.ipynb notebook2.ipynb\n",
      "\n",
      "            or you can specify the notebooks list in a config file, containing::\n",
      "\n",
      "                c.NbConvertApp.notebooks = [\"my_notebook.ipynb\"]\n",
      "\n",
      "            > jupyter nbconvert --config mycfg.py\n",
      "\n",
      "To see all available configurables, use `--help-all`.\n",
      "\n"
     ]
    }
   ]
  },
  {
   "cell_type": "code",
   "execution_count": null,
   "metadata": {
    "id": "Yd29Ri6y8Dks"
   },
   "outputs": [],
   "source": [
    "import pandas as pd\n",
    "import numpy as np\n",
    "from pathlib import Path\n",
    "import re\n",
    "import torch\n",
    "import torch.nn.functional as F\n",
    "from transformers import AutoTokenizer, AutoModelForSequenceClassification, pipeline"
   ]
  },
  {
   "cell_type": "code",
   "source": [
    "from google.colab import drive\n",
    "drive.mount('/content/drive')"
   ],
   "metadata": {
    "colab": {
     "base_uri": "https://localhost:8080/"
    },
    "id": "4Xw-IM5a8V5R",
    "executionInfo": {
     "status": "ok",
     "timestamp": 1750268770720,
     "user_tz": -540,
     "elapsed": 22978,
     "user": {
      "displayName": "최수진",
      "userId": "02116108146573633334"
     }
    },
    "outputId": "08cba735-ffdc-4cfb-9f2c-5432e2ccccc0"
   },
   "execution_count": null,
   "outputs": [
    {
     "output_type": "stream",
     "name": "stdout",
     "text": [
      "Mounted at /content/drive\n"
     ]
    }
   ]
  },
  {
   "cell_type": "code",
   "source": [
    "import pickle\n",
    "\n",
    "file_path = '/content/drive/My Drive/기말 텍스트마이닝/cleaned_combined_df.pkl'\n",
    "\n",
    "try:\n",
    "    with open(file_path, 'rb') as f:\n",
    "        combined_df = pickle.load(f)\n",
    "\n",
    "    # 5. 불러온 데이터 확인 (선택 사항)\n",
    "    print(\"파일을 성공적으로 불러왔습니다.\")\n",
    "    # print(data) # 데이터 내용을 출력하려면 이 줄의 주석을 해제하세요.\n",
    "\n",
    "except FileNotFoundError:\n",
    "    print(f\"오류: '{file_path}' 경로에 파일이 없습니다. 경로를 다시 확인해주세요.\")"
   ],
   "metadata": {
    "colab": {
     "base_uri": "https://localhost:8080/"
    },
    "id": "AlKGUatm8Wdv",
    "executionInfo": {
     "status": "ok",
     "timestamp": 1750268784205,
     "user_tz": -540,
     "elapsed": 13497,
     "user": {
      "displayName": "최수진",
      "userId": "02116108146573633334"
     }
    },
    "outputId": "9c4bbb7d-4d4b-4b95-d186-fca6ba236d39"
   },
   "execution_count": null,
   "outputs": [
    {
     "output_type": "stream",
     "name": "stderr",
     "text": [
      "/tmp/ipython-input-3-2642707429.py:7: DeprecationWarning: numpy.core.numeric is deprecated and has been renamed to numpy._core.numeric. The numpy._core namespace contains private NumPy internals and its use is discouraged, as NumPy internals can change without warning in any release. In practice, most real-world usage of numpy.core is to access functionality in the public NumPy API. If that is the case, use the public NumPy API. If not, you are using NumPy internals. If you would still like to access an internal attribute, use numpy._core.numeric._frombuffer.\n",
      "  combined_df = pickle.load(f)\n"
     ]
    },
    {
     "output_type": "stream",
     "name": "stdout",
     "text": [
      "파일을 성공적으로 불러왔습니다.\n"
     ]
    }
   ]
  },
  {
   "cell_type": "code",
   "source": [
    "# 키워드 입력 받기\"\n",
    "keywords = input('관심있는 키워드들을 입력하세요. 키워드는 공백으로 구분하여 입력하세요:').split()"
   ],
   "metadata": {
    "colab": {
     "base_uri": "https://localhost:8080/"
    },
    "id": "733jTMrg8Zln",
    "executionInfo": {
     "status": "ok",
     "timestamp": 1750269869562,
     "user_tz": -540,
     "elapsed": 7843,
     "user": {
      "displayName": "최수진",
      "userId": "02116108146573633334"
     }
    },
    "outputId": "fec3e645-8bfb-4cd9-c7c2-c2d5efcd3ca1"
   },
   "execution_count": null,
   "outputs": [
    {
     "name": "stdout",
     "output_type": "stream",
     "text": [
      "가장 관심있는 키워드를 첫 번째에 입력하고, 첫 번째 키워드와 관련된 보조 키워드를 뒤에 입력하세요. 키워드는 공백으로 구분하여 입력하세요:이재명 대장동 유동규\n"
     ]
    }
   ]
  },
  {
   "cell_type": "code",
   "source": [
    "# 모든 키워드를 포함하는 기사인지 확인하는 함수\n",
    "def contains_all_keywords(row, keywords):\n",
    "    text = row['title'] + ' ' + row['content']\n",
    "    return all(kw in text for kw in keywords)\n",
    "\n",
    "# 키워드 포함하는 데이터프레임을 filtered_data로 저장\n",
    "filtered_data = combined_df[\n",
    "    combined_df.apply(lambda row: contains_all_keywords(row, keywords), axis=1)\n",
    "].reset_index(drop=True)\n",
    "\n",
    "from datetime import datetime, timedelta\n",
    "\n",
    "# 1. 오전/오후 → AM/PM으로 바꾸고 공백 제거\n",
    "filtered_data['created_date_parsed'] = filtered_data['created_date'].str.replace('오전', 'AM', regex=False)\n",
    "filtered_data['created_date_parsed'] = filtered_data['created_date_parsed'].str.replace('오후', 'PM', regex=False)\n",
    "\n",
    "# 2. 날짜 형식 변환 (예: \"2025.05.23. PM 1:00\" → datetime)\n",
    "filtered_data['created_date_parsed'] = pd.to_datetime(\n",
    "    filtered_data['created_date_parsed'], format=\"%Y.%m.%d. %p %I:%M\", errors='coerce'\n",
    ")\n",
    "\n",
    "# 3. created_date 기준으로 내림차순 정렬\n",
    "filtered_data = filtered_data.sort_values(by='created_date', ascending=False).reset_index(drop=True)\n",
    "\n",
    "# 4. 만약 필터링된 기사가 500개를 초과하면 → 1달 이내 기사만 추출\n",
    "if len(filtered_data) > 500:\n",
    "    # 최신 기사 날짜 기준 1달 전 계산\n",
    "    latest_date = pd.to_datetime(filtered_data['created_date_parsed'].iloc[0])\n",
    "    one_month_ago = latest_date - timedelta(days=30)\n",
    "\n",
    "    # 1달 이내 기사만 추출\n",
    "    filtered_data = filtered_data[\n",
    "        pd.to_datetime(filtered_data['created_date_parsed']) >= one_month_ago\n",
    "    ].reset_index(drop=True)\n",
    "\n",
    "# 5. 결과 확인\n",
    "print(f\"최종 선택된 기사 수: {len(filtered_data)}\")\n",
    "print(filtered_data[['press', 'created_date', 'title']].head())"
   ],
   "metadata": {
    "colab": {
     "base_uri": "https://localhost:8080/"
    },
    "id": "0UP76-Kr8cSC",
    "executionInfo": {
     "status": "ok",
     "timestamp": 1750269879225,
     "user_tz": -540,
     "elapsed": 1234,
     "user": {
      "displayName": "최수진",
      "userId": "02116108146573633334"
     }
    },
    "outputId": "298e459b-d62c-455f-dd16-2119760b219a"
   },
   "execution_count": null,
   "outputs": [
    {
     "output_type": "stream",
     "name": "stdout",
     "text": [
      "최종 선택된 기사 수: 60\n",
      "  press         created_date                                      title\n",
      "0   SBS  2025.05.14. 오전 9:05     [정치쇼] 주진우 \"조희대 청문회, 사법리스크 방탄 위한 판사 겁박\"\n",
      "1  경향신문  2025.05.07. 오후 5:59  이재명 선거법·대장동 재판 모두 대선 이후로 연기…사법 리스크 일단 벗는다\n",
      "2  조선일보  2025.05.02. 오전 9:48  [단독] 故 김문기 아내, 李 대법 선고에 “조금이라도 살아갈 힘이 생겨”\n",
      "3  한국일보  2025.04.14. 오후 6:01     홍준표 \"'전과자' 이재명에 맞설 적임자\"... 6·3대선 출마 선언\n",
      "4  한국일보  2025.04.11. 오후 4:39   [단독] 유동규 \"범죄자 이재명 이길 사람 홍준표 밖에 없다\" 지지 선언\n"
     ]
    }
   ]
  },
  {
   "cell_type": "code",
   "source": [
    "!pip install -q transformers sentence-transformers"
   ],
   "metadata": {
    "colab": {
     "base_uri": "https://localhost:8080/"
    },
    "id": "Ky42RLad8gF9",
    "executionInfo": {
     "status": "ok",
     "timestamp": 1749732690668,
     "user_tz": -540,
     "elapsed": 135104,
     "user": {
      "displayName": "최수진",
      "userId": "02116108146573633334"
     }
    },
    "outputId": "0764218f-f920-4bb5-fdb7-3521e73262b5"
   },
   "execution_count": null,
   "outputs": [
    {
     "output_type": "stream",
     "name": "stdout",
     "text": [
      "\u001b[2K   \u001b[90m━━━━━━━━━━━━━━━━━━━━━━━━━━━━━━━━━━━━━━━━\u001b[0m \u001b[32m363.4/363.4 MB\u001b[0m \u001b[31m4.7 MB/s\u001b[0m eta \u001b[36m0:00:00\u001b[0m\n",
      "\u001b[2K   \u001b[90m━━━━━━━━━━━━━━━━━━━━━━━━━━━━━━━━━━━━━━━━\u001b[0m \u001b[32m13.8/13.8 MB\u001b[0m \u001b[31m72.1 MB/s\u001b[0m eta \u001b[36m0:00:00\u001b[0m\n",
      "\u001b[2K   \u001b[90m━━━━━━━━━━━━━━━━━━━━━━━━━━━━━━━━━━━━━━━━\u001b[0m \u001b[32m24.6/24.6 MB\u001b[0m \u001b[31m81.4 MB/s\u001b[0m eta \u001b[36m0:00:00\u001b[0m\n",
      "\u001b[2K   \u001b[90m━━━━━━━━━━━━━━━━━━━━━━━━━━━━━━━━━━━━━━━━\u001b[0m \u001b[32m883.7/883.7 kB\u001b[0m \u001b[31m51.7 MB/s\u001b[0m eta \u001b[36m0:00:00\u001b[0m\n",
      "\u001b[2K   \u001b[90m━━━━━━━━━━━━━━━━━━━━━━━━━━━━━━━━━━━━━━━━\u001b[0m \u001b[32m664.8/664.8 MB\u001b[0m \u001b[31m1.3 MB/s\u001b[0m eta \u001b[36m0:00:00\u001b[0m\n",
      "\u001b[2K   \u001b[90m━━━━━━━━━━━━━━━━━━━━━━━━━━━━━━━━━━━━━━━━\u001b[0m \u001b[32m211.5/211.5 MB\u001b[0m \u001b[31m6.7 MB/s\u001b[0m eta \u001b[36m0:00:00\u001b[0m\n",
      "\u001b[2K   \u001b[90m━━━━━━━━━━━━━━━━━━━━━━━━━━━━━━━━━━━━━━━━\u001b[0m \u001b[32m56.3/56.3 MB\u001b[0m \u001b[31m12.9 MB/s\u001b[0m eta \u001b[36m0:00:00\u001b[0m\n",
      "\u001b[2K   \u001b[90m━━━━━━━━━━━━━━━━━━━━━━━━━━━━━━━━━━━━━━━━\u001b[0m \u001b[32m127.9/127.9 MB\u001b[0m \u001b[31m9.2 MB/s\u001b[0m eta \u001b[36m0:00:00\u001b[0m\n",
      "\u001b[2K   \u001b[90m━━━━━━━━━━━━━━━━━━━━━━━━━━━━━━━━━━━━━━━━\u001b[0m \u001b[32m207.5/207.5 MB\u001b[0m \u001b[31m6.0 MB/s\u001b[0m eta \u001b[36m0:00:00\u001b[0m\n",
      "\u001b[2K   \u001b[90m━━━━━━━━━━━━━━━━━━━━━━━━━━━━━━━━━━━━━━━━\u001b[0m \u001b[32m21.1/21.1 MB\u001b[0m \u001b[31m83.9 MB/s\u001b[0m eta \u001b[36m0:00:00\u001b[0m\n",
      "\u001b[?25h"
     ]
    }
   ]
  },
  {
   "cell_type": "code",
   "source": [
    "# 1. 임포트\n",
    "from sentence_transformers import SentenceTransformer\n",
    "from sklearn.cluster import KMeans\n",
    "from sklearn.metrics import silhouette_score\n",
    "from sklearn.metrics import pairwise_distances_argmin_min\n",
    "import matplotlib.pyplot as plt\n",
    "import pandas as pd\n",
    "\n",
    "# 2. SBERT 임베딩\n",
    "model = SentenceTransformer('snunlp/KR-SBERT-V40K-klueNLI-augSTS')\n",
    "texts = filtered_data['text'].tolist()\n",
    "sbert_embeddings = model.encode(texts, show_progress_bar=True)"
   ],
   "metadata": {
    "colab": {
     "base_uri": "https://localhost:8080/",
     "height": 49,
     "referenced_widgets": [
      "46864fb33dc34135b729d5e4ba56e209",
      "11a00d6da2ef4eb7bc7543ed39e738f1",
      "d72692805a4341bea025466c7731b173",
      "57c0ec3bda844ec197688c6ef2d62049",
      "fce26a952edc47de8a6215b37d6b11ed",
      "7d85d8792b8d4b6c84c64a8b5af97af3",
      "38a41d24e316406ba2622416063432e1",
      "0bc572b37a4b4da48827a79653819140",
      "0fbcb84788614bc79add9db6e994080e",
      "bb5198f5e7b14182b6615d95b4b7fa18",
      "82de99a3f55f467f802969e920d98ee0"
     ]
    },
    "id": "y76VQgG8LETf",
    "executionInfo": {
     "status": "ok",
     "timestamp": 1750269911690,
     "user_tz": -540,
     "elapsed": 28067,
     "user": {
      "displayName": "최수진",
      "userId": "02116108146573633334"
     }
    },
    "outputId": "b7a3f063-9126-4877-f71d-35460b20d8b3"
   },
   "execution_count": null,
   "outputs": [
    {
     "output_type": "display_data",
     "data": {
      "text/plain": [
       "Batches:   0%|          | 0/2 [00:00<?, ?it/s]"
      ],
      "application/vnd.jupyter.widget-view+json": {
       "version_major": 2,
       "version_minor": 0,
       "model_id": "46864fb33dc34135b729d5e4ba56e209"
      }
     },
     "metadata": {}
    }
   ]
  },
  {
   "cell_type": "code",
   "source": [
    "# 3. 최적의 K 찾기 (silhouette)\n",
    "sil_scores = []\n",
    "K_range = range(2, min(11, len(texts)))  # 데이터 수가 적을 경우 대비\n",
    "for k in K_range:\n",
    "    kmeans = KMeans(n_clusters=k, random_state=42)\n",
    "    labels = kmeans.fit_predict(sbert_embeddings)\n",
    "    score = silhouette_score(sbert_embeddings, labels)\n",
    "    sil_scores.append(score)\n",
    "\n",
    "# 최적 K 선택\n",
    "best_k = K_range[sil_scores.index(max(sil_scores))]\n",
    "print(f\"✅ 최적 K 값: {best_k}\")"
   ],
   "metadata": {
    "colab": {
     "base_uri": "https://localhost:8080/"
    },
    "id": "xziU2noFLIkO",
    "executionInfo": {
     "status": "ok",
     "timestamp": 1750269932595,
     "user_tz": -540,
     "elapsed": 28,
     "user": {
      "displayName": "최수진",
      "userId": "02116108146573633334"
     }
    },
    "outputId": "017c5752-51d9-426d-da21-b8df4f0f974f"
   },
   "execution_count": null,
   "outputs": [
    {
     "output_type": "stream",
     "name": "stdout",
     "text": [
      "✅ 최적 K 값: 10\n"
     ]
    }
   ]
  },
  {
   "cell_type": "code",
   "source": [
    "# 4. 최종 KMeans 수행 및 중심 기사 선택\n",
    "kmeans = KMeans(n_clusters=best_k, random_state=42)\n",
    "cluster_labels = kmeans.fit_predict(sbert_embeddings)\n",
    "cluster_centers = kmeans.cluster_centers_\n",
    "\n",
    "# 군집 중심과 가장 가까운 기사 인덱스\n",
    "selected_indices, _ = pairwise_distances_argmin_min(cluster_centers, sbert_embeddings)\n",
    "print(f\"✅ 군집별 대표 기사 인덱스: {selected_indices}\")"
   ],
   "metadata": {
    "colab": {
     "base_uri": "https://localhost:8080/"
    },
    "id": "DGvhJ8svLOjJ",
    "executionInfo": {
     "status": "ok",
     "timestamp": 1750269945218,
     "user_tz": -540,
     "elapsed": 40,
     "user": {
      "displayName": "최수진",
      "userId": "02116108146573633334"
     }
    },
    "outputId": "c92872a2-eca0-4a56-fce1-4aabf22d2cdf"
   },
   "execution_count": null,
   "outputs": [
    {
     "output_type": "stream",
     "name": "stdout",
     "text": [
      "✅ 군집별 대표 기사 인덱스: [22 57 51 39  7 32  9 34  2 15]\n"
     ]
    }
   ]
  },
  {
   "cell_type": "code",
   "source": [
    "######추출된 기사 확인용 코드 (미시행해도 최종 결과에 지장 X)\n",
    "# 대표 기사 정보 추출 (요약 없이 기사 본문 포함)\n",
    "summary_rows = []\n",
    "for idx in selected_indices:\n",
    "    row = filtered_data.iloc[idx]\n",
    "    summary_rows.append({\n",
    "        \"언론사\": row['press'],\n",
    "        \"작성일자\": row['created_date'],\n",
    "        \"제목\": row['title'],\n",
    "        \"기사 본문\": row['content'],\n",
    "        \"기사 전문 보기\": row['url']\n",
    "    })\n",
    "\n",
    "# 데이터프레임 변환\n",
    "summary_df = pd.DataFrame(summary_rows)\n",
    "\n",
    "# 엑셀 파일로 저장\n",
    "output_file = \"대표_기사_목록.xlsx\"\n",
    "summary_df.to_excel(output_file, index=False)\n",
    "\n",
    "print(f\"✅ 엑셀 파일 저장 완료: {output_file}\")"
   ],
   "metadata": {
    "colab": {
     "base_uri": "https://localhost:8080/"
    },
    "id": "aRwFpDRNLWQM",
    "executionInfo": {
     "status": "ok",
     "timestamp": 1749737339926,
     "user_tz": -540,
     "elapsed": 56,
     "user": {
      "displayName": "최수진",
      "userId": "02116108146573633334"
     }
    },
    "outputId": "f4071a8c-a428-451e-c51c-e34323228456"
   },
   "execution_count": null,
   "outputs": [
    {
     "output_type": "stream",
     "name": "stdout",
     "text": [
      "✅ 엑셀 파일 저장 완료: 대표_기사_목록.xlsx\n"
     ]
    }
   ]
  },
  {
   "cell_type": "code",
   "source": [
    "######추출된 기사 확인용 코드 (미시행해도 최종 결과에 지장 X)\n",
    "import os\n",
    "import shutil\n",
    "\n",
    "# 1. Google Drive 마운트\n",
    "drive.mount('/content/drive')\n",
    "\n",
    "# 2. 저장 경로 설정\n",
    "drive_dir = '/content/drive/MyDrive/Colab 결과'\n",
    "os.makedirs(drive_dir, exist_ok=True)\n",
    "\n",
    "# 3. 파일 복사\n",
    "shutil.copy(\"대표_기사_목록.xlsx\", os.path.join(drive_dir, \"대표_기사_목록.xlsx\"))\n",
    "\n",
    "print(f\"✅ Google Drive 저장 완료: {drive_dir}/대표_기사_목록.xlsx\")"
   ],
   "metadata": {
    "colab": {
     "base_uri": "https://localhost:8080/"
    },
    "id": "Cq_-ufYNOTt8",
    "executionInfo": {
     "status": "ok",
     "timestamp": 1749733255553,
     "user_tz": -540,
     "elapsed": 1309,
     "user": {
      "displayName": "최수진",
      "userId": "02116108146573633334"
     }
    },
    "outputId": "f23baf16-c9c9-4688-e18e-a974f1732501"
   },
   "execution_count": null,
   "outputs": [
    {
     "output_type": "stream",
     "name": "stdout",
     "text": [
      "Drive already mounted at /content/drive; to attempt to forcibly remount, call drive.mount(\"/content/drive\", force_remount=True).\n",
      "✅ Google Drive 저장 완료: /content/drive/MyDrive/Colab 결과/대표_기사_목록.xlsx\n"
     ]
    }
   ]
  },
  {
   "cell_type": "code",
   "source": [
    "!pip install sentencepiece"
   ],
   "metadata": {
    "colab": {
     "base_uri": "https://localhost:8080/"
    },
    "id": "gvmyaozqSx0M",
    "executionInfo": {
     "status": "ok",
     "timestamp": 1750268919596,
     "user_tz": -540,
     "elapsed": 7724,
     "user": {
      "displayName": "최수진",
      "userId": "02116108146573633334"
     }
    },
    "outputId": "a697fbf1-40a3-40be-c311-f35d1fa6387f"
   },
   "execution_count": null,
   "outputs": [
    {
     "output_type": "stream",
     "name": "stdout",
     "text": [
      "Requirement already satisfied: sentencepiece in /usr/local/lib/python3.11/dist-packages (0.2.0)\n"
     ]
    }
   ]
  },
  {
   "cell_type": "code",
   "source": [
    "from transformers import AutoTokenizer, AutoModelForSeq2SeqLM\n",
    "import torch\n",
    "from tqdm import tqdm\n",
    "\n",
    "# tqdm 연동\n",
    "tqdm.pandas()\n",
    "\n",
    "# 1. 모델 및 토크나이저 로딩\n",
    "model_name = \"digit82/kobart-summarization\"\n",
    "tokenizer = AutoTokenizer.from_pretrained(model_name)\n",
    "model = AutoModelForSeq2SeqLM.from_pretrained(model_name)\n",
    "\n",
    "# 2. 요약 함수 정의\n",
    "def summarize_kobart(text):\n",
    "    # 예외 처리: 빈 문장이나 짧은 문장은 요약 생략\n",
    "    if not isinstance(text, str) or len(text.strip()) < 10:\n",
    "        return \"\"\n",
    "\n",
    "    input_ids = tokenizer.encode(text, return_tensors=\"pt\", truncation=True, max_length=1024)\n",
    "    summary_ids = model.generate(\n",
    "        input_ids,\n",
    "        max_length=100,\n",
    "        min_length=20,\n",
    "        length_penalty=2.0,\n",
    "        num_beams=4,\n",
    "        early_stopping=True\n",
    "    )\n",
    "    return tokenizer.decode(summary_ids[0], skip_special_tokens=True)\n",
    "\n",
    "# 3. 요약 수행\n",
    "filtered_data['kobart_summary'] = filtered_data['text'].progress_apply(summarize_kobart)"
   ],
   "metadata": {
    "colab": {
     "base_uri": "https://localhost:8080/"
    },
    "id": "pj2Wx-AHTNMb",
    "executionInfo": {
     "status": "ok",
     "timestamp": 1750270459069,
     "user_tz": -540,
     "elapsed": 504379,
     "user": {
      "displayName": "최수진",
      "userId": "02116108146573633334"
     }
    },
    "outputId": "883f55f8-e8e3-4a60-bdb5-c59cbfc819f9"
   },
   "execution_count": null,
   "outputs": [
    {
     "output_type": "stream",
     "name": "stderr",
     "text": [
      "You passed along `num_labels=3` with an incompatible id to label map: {'0': 'NEGATIVE', '1': 'POSITIVE'}. The number of labels will be overwritten to 2.\n",
      "100%|██████████| 60/60 [08:22<00:00,  8.38s/it]\n"
     ]
    }
   ]
  },
  {
   "cell_type": "code",
   "source": [
    "!pip install xlsxwriter"
   ],
   "metadata": {
    "colab": {
     "base_uri": "https://localhost:8080/"
    },
    "id": "o5A12Ja_b47K",
    "executionInfo": {
     "status": "ok",
     "timestamp": 1750270483939,
     "user_tz": -540,
     "elapsed": 12733,
     "user": {
      "displayName": "최수진",
      "userId": "02116108146573633334"
     }
    },
    "outputId": "54325018-6d02-4791-8120-2a75c1768fb5"
   },
   "execution_count": null,
   "outputs": [
    {
     "output_type": "stream",
     "name": "stdout",
     "text": [
      "Collecting xlsxwriter\n",
      "  Downloading xlsxwriter-3.2.5-py3-none-any.whl.metadata (2.7 kB)\n",
      "Downloading xlsxwriter-3.2.5-py3-none-any.whl (172 kB)\n",
      "\u001b[2K   \u001b[90m━━━━━━━━━━━━━━━━━━━━━━━━━━━━━━━━━━━━━━━━\u001b[0m \u001b[32m172.3/172.3 kB\u001b[0m \u001b[31m3.1 MB/s\u001b[0m eta \u001b[36m0:00:00\u001b[0m\n",
      "\u001b[?25hInstalling collected packages: xlsxwriter\n",
      "Successfully installed xlsxwriter-3.2.5\n"
     ]
    }
   ]
  },
  {
   "cell_type": "code",
   "source": [
    "# ✅ 대표 기사 인덱스 사용\n",
    "representative_articles = filtered_data.loc[selectedCollecting xlsxwriter\n",
    "  Downloading xlsxwriter-3.2.5-py3-none-any.whl.metadata (2.7 kB)\n",
    "\n",
    "_indices].copy()\n",
    "\n",
    "# ✅ 필요한 열만 선택 및 이름 변경\n",
    "output_df = representative_articles[['press', 'created_date', 'title', 'kobart_summary', 'url']].copy()\n",
    "output_df.columns = ['언론사', '게재일자', '제목', '기사 요약', '기사 전문 보기']\n",
    "\n",
    "# ✅ 최상단 문구\n",
    "headline = f'\"{keywords}\"을 포함하는 기사들 중 가장 다른 논조의 기사들입니다.'\n",
    "\n",
    "# ✅ Google Drive 저장 경로\n",
    "excel_path = \"/content/drive/My Drive/Colab 결과/생성형 요약2.xlsx\"\n",
    "\n",
    "# ✅ 엑셀 파일로 저장\n",
    "with pd.ExcelWriter(excel_path, engine='xlsxwriter') as writer:\n",
    "    output_df.to_excel(writer, sheet_name='요약결과', startrow=1, index=False)\n",
    "\n",
    "    workbook  = writer.book\n",
    "    worksheet = writer.sheets['요약결과']\n",
    "    worksheet.write(0, 0, headline)\n",
    "\n",
    "print(f\"✅ 엑셀 파일이 성공적으로 저장되었습니다: {excel_path}\")"
   ],
   "metadata": {
    "colab": {
     "base_uri": "https://localhost:8080/"
    },
    "id": "x2Zme7V2WK6E",
    "executionInfo": {
     "status": "ok",
     "timestamp": 1750270494519,
     "user_tz": -540,
     "elapsed": 168,
     "user": {
      "displayName": "최수진",
      "userId": "02116108146573633334"
     }
    },
    "outputId": "45ad217b-95e8-47d8-bc39-b69497d25511"
   },
   "execution_count": null,
   "outputs": [
    {
     "output_type": "stream",
     "name": "stdout",
     "text": [
      "✅ 엑셀 파일이 성공적으로 저장되었습니다: /content/drive/My Drive/Colab 결과/생성형 요약2.xlsx\n"
     ]
    }
   ]
  }
 ]
}