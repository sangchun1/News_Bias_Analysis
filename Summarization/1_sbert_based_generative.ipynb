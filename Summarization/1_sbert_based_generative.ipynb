{
 "cells": [
  {
   "cell_type": "markdown",
   "metadata": {
    "id": "B84nn2RIoi2A"
   },
   "source": [
    "최종 완성본"
   ]
  },
  {
   "cell_type": "code",
   "execution_count": 22,
   "metadata": {
    "colab": {
     "base_uri": "https://localhost:8080/"
    },
    "id": "YJ6E8GQ9wzGg",
    "outputId": "9f4bb168-f225-4ca6-fc6d-ce496ed3f684"
   },
   "outputs": [
    {
     "name": "stdout",
     "output_type": "stream",
     "text": [
      "[NbConvertApp] WARNING | pattern 'generative.ipynb' matched no files\n",
      "This application is used to convert notebook files (*.ipynb)\n",
      "        to various other formats.\n",
      "\n",
      "        WARNING: THE COMMANDLINE INTERFACE MAY CHANGE IN FUTURE RELEASES.\n",
      "\n",
      "Options\n",
      "=======\n",
      "The options below are convenience aliases to configurable class-options,\n",
      "as listed in the \"Equivalent to\" description-line of the aliases.\n",
      "To see all configurable class-options for some <cmd>, use:\n",
      "    <cmd> --help-all\n",
      "\n",
      "--debug\n",
      "    set log level to logging.DEBUG (maximize logging output)\n",
      "    Equivalent to: [--Application.log_level=10]\n",
      "--show-config\n",
      "    Show the application's configuration (human-readable format)\n",
      "    Equivalent to: [--Application.show_config=True]\n",
      "--show-config-json\n",
      "    Show the application's configuration (json format)\n",
      "    Equivalent to: [--Application.show_config_json=True]\n",
      "--generate-config\n",
      "    generate default config file\n",
      "    Equivalent to: [--JupyterApp.generate_config=True]\n",
      "-y\n",
      "    Answer yes to any questions instead of prompting.\n",
      "    Equivalent to: [--JupyterApp.answer_yes=True]\n",
      "--execute\n",
      "    Execute the notebook prior to export.\n",
      "    Equivalent to: [--ExecutePreprocessor.enabled=True]\n",
      "--allow-errors\n",
      "    Continue notebook execution even if one of the cells throws an error and include the error message in the cell output (the default behaviour is to abort conversion). This flag is only relevant if '--execute' was specified, too.\n",
      "    Equivalent to: [--ExecutePreprocessor.allow_errors=True]\n",
      "--stdin\n",
      "    read a single notebook file from stdin. Write the resulting notebook with default basename 'notebook.*'\n",
      "    Equivalent to: [--NbConvertApp.from_stdin=True]\n",
      "--stdout\n",
      "    Write notebook output to stdout instead of files.\n",
      "    Equivalent to: [--NbConvertApp.writer_class=StdoutWriter]\n",
      "--inplace\n",
      "    Run nbconvert in place, overwriting the existing notebook (only\n",
      "            relevant when converting to notebook format)\n",
      "    Equivalent to: [--NbConvertApp.use_output_suffix=False --NbConvertApp.export_format=notebook --FilesWriter.build_directory=]\n",
      "--clear-output\n",
      "    Clear output of current file and save in place,\n",
      "            overwriting the existing notebook.\n",
      "    Equivalent to: [--NbConvertApp.use_output_suffix=False --NbConvertApp.export_format=notebook --FilesWriter.build_directory= --ClearOutputPreprocessor.enabled=True]\n",
      "--coalesce-streams\n",
      "    Coalesce consecutive stdout and stderr outputs into one stream (within each cell).\n",
      "    Equivalent to: [--NbConvertApp.use_output_suffix=False --NbConvertApp.export_format=notebook --FilesWriter.build_directory= --CoalesceStreamsPreprocessor.enabled=True]\n",
      "--no-prompt\n",
      "    Exclude input and output prompts from converted document.\n",
      "    Equivalent to: [--TemplateExporter.exclude_input_prompt=True --TemplateExporter.exclude_output_prompt=True]\n",
      "--no-input\n",
      "    Exclude input cells and output prompts from converted document.\n",
      "            This mode is ideal for generating code-free reports.\n",
      "    Equivalent to: [--TemplateExporter.exclude_output_prompt=True --TemplateExporter.exclude_input=True --TemplateExporter.exclude_input_prompt=True]\n",
      "--allow-chromium-download\n",
      "    Whether to allow downloading chromium if no suitable version is found on the system.\n",
      "    Equivalent to: [--WebPDFExporter.allow_chromium_download=True]\n",
      "--disable-chromium-sandbox\n",
      "    Disable chromium security sandbox when converting to PDF..\n",
      "    Equivalent to: [--WebPDFExporter.disable_sandbox=True]\n",
      "--show-input\n",
      "    Shows code input. This flag is only useful for dejavu users.\n",
      "    Equivalent to: [--TemplateExporter.exclude_input=False]\n",
      "--embed-images\n",
      "    Embed the images as base64 dataurls in the output. This flag is only useful for the HTML/WebPDF/Slides exports.\n",
      "    Equivalent to: [--HTMLExporter.embed_images=True]\n",
      "--sanitize-html\n",
      "    Whether the HTML in Markdown cells and cell outputs should be sanitized..\n",
      "    Equivalent to: [--HTMLExporter.sanitize_html=True]\n",
      "--log-level=<Enum>\n",
      "    Set the log level by value or name.\n",
      "    Choices: any of [0, 10, 20, 30, 40, 50, 'DEBUG', 'INFO', 'WARN', 'ERROR', 'CRITICAL']\n",
      "    Default: 30\n",
      "    Equivalent to: [--Application.log_level]\n",
      "--config=<Unicode>\n",
      "    Full path of a config file.\n",
      "    Default: ''\n",
      "    Equivalent to: [--JupyterApp.config_file]\n",
      "--to=<Unicode>\n",
      "    The export format to be used, either one of the built-in formats\n",
      "            ['asciidoc', 'custom', 'html', 'latex', 'markdown', 'notebook', 'pdf', 'python', 'qtpdf', 'qtpng', 'rst', 'script', 'slides', 'webpdf']\n",
      "            or a dotted object name that represents the import path for an\n",
      "            ``Exporter`` class\n",
      "    Default: ''\n",
      "    Equivalent to: [--NbConvertApp.export_format]\n",
      "--template=<Unicode>\n",
      "    Name of the template to use\n",
      "    Default: ''\n",
      "    Equivalent to: [--TemplateExporter.template_name]\n",
      "--template-file=<Unicode>\n",
      "    Name of the template file to use\n",
      "    Default: None\n",
      "    Equivalent to: [--TemplateExporter.template_file]\n",
      "--theme=<Unicode>\n",
      "    Template specific theme(e.g. the name of a JupyterLab CSS theme distributed\n",
      "    as prebuilt extension for the lab template)\n",
      "    Default: 'light'\n",
      "    Equivalent to: [--HTMLExporter.theme]\n",
      "--sanitize_html=<Bool>\n",
      "    Whether the HTML in Markdown cells and cell outputs should be sanitized.This\n",
      "    should be set to True by nbviewer or similar tools.\n",
      "    Default: False\n",
      "    Equivalent to: [--HTMLExporter.sanitize_html]\n",
      "--writer=<DottedObjectName>\n",
      "    Writer class used to write the\n",
      "                                        results of the conversion\n",
      "    Default: 'FilesWriter'\n",
      "    Equivalent to: [--NbConvertApp.writer_class]\n",
      "--post=<DottedOrNone>\n",
      "    PostProcessor class used to write the\n",
      "                                        results of the conversion\n",
      "    Default: ''\n",
      "    Equivalent to: [--NbConvertApp.postprocessor_class]\n",
      "--output=<Unicode>\n",
      "    Overwrite base name use for output files.\n",
      "                Supports pattern replacements '{notebook_name}'.\n",
      "    Default: '{notebook_name}'\n",
      "    Equivalent to: [--NbConvertApp.output_base]\n",
      "--output-dir=<Unicode>\n",
      "    Directory to write output(s) to. Defaults\n",
      "                                  to output to the directory of each notebook. To recover\n",
      "                                  previous default behaviour (outputting to the current\n",
      "                                  working directory) use . as the flag value.\n",
      "    Default: ''\n",
      "    Equivalent to: [--FilesWriter.build_directory]\n",
      "--reveal-prefix=<Unicode>\n",
      "    The URL prefix for reveal.js (version 3.x).\n",
      "            This defaults to the reveal CDN, but can be any url pointing to a copy\n",
      "            of reveal.js.\n",
      "            For speaker notes to work, this must be a relative path to a local\n",
      "            copy of reveal.js: e.g., \"reveal.js\".\n",
      "            If a relative path is given, it must be a subdirectory of the\n",
      "            current directory (from which the server is run).\n",
      "            See the usage documentation\n",
      "            (https://nbconvert.readthedocs.io/en/latest/usage.html#reveal-js-html-slideshow)\n",
      "            for more details.\n",
      "    Default: ''\n",
      "    Equivalent to: [--SlidesExporter.reveal_url_prefix]\n",
      "--nbformat=<Enum>\n",
      "    The nbformat version to write.\n",
      "            Use this to downgrade notebooks.\n",
      "    Choices: any of [1, 2, 3, 4]\n",
      "    Default: 4\n",
      "    Equivalent to: [--NotebookExporter.nbformat_version]\n",
      "\n",
      "Examples\n",
      "--------\n",
      "\n",
      "    The simplest way to use nbconvert is\n",
      "\n",
      "            > jupyter nbconvert mynotebook.ipynb --to html\n",
      "\n",
      "            Options include ['asciidoc', 'custom', 'html', 'latex', 'markdown', 'notebook', 'pdf', 'python', 'qtpdf', 'qtpng', 'rst', 'script', 'slides', 'webpdf'].\n",
      "\n",
      "            > jupyter nbconvert --to latex mynotebook.ipynb\n",
      "\n",
      "            Both HTML and LaTeX support multiple output templates. LaTeX includes\n",
      "            'base', 'article' and 'report'.  HTML includes 'basic', 'lab' and\n",
      "            'classic'. You can specify the flavor of the format used.\n",
      "\n",
      "            > jupyter nbconvert --to html --template lab mynotebook.ipynb\n",
      "\n",
      "            You can also pipe the output to stdout, rather than a file\n",
      "\n",
      "            > jupyter nbconvert mynotebook.ipynb --stdout\n",
      "\n",
      "            PDF is generated via latex\n",
      "\n",
      "            > jupyter nbconvert mynotebook.ipynb --to pdf\n",
      "\n",
      "            You can get (and serve) a Reveal.js-powered slideshow\n",
      "\n",
      "            > jupyter nbconvert myslides.ipynb --to slides --post serve\n",
      "\n",
      "            Multiple notebooks can be given at the command line in a couple of\n",
      "            different ways:\n",
      "\n",
      "            > jupyter nbconvert notebook*.ipynb\n",
      "            > jupyter nbconvert notebook1.ipynb notebook2.ipynb\n",
      "\n",
      "            or you can specify the notebooks list in a config file, containing::\n",
      "\n",
      "                c.NbConvertApp.notebooks = [\"my_notebook.ipynb\"]\n",
      "\n",
      "            > jupyter nbconvert --config mycfg.py\n",
      "\n",
      "To see all available configurables, use `--help-all`.\n",
      "\n"
     ]
    }
   ],
   "source": [
    "!jupyter nbconvert --ClearOutputPreprocessor.enabled=True --inplace generative.ipynb"
   ]
  },
  {
   "cell_type": "code",
   "execution_count": null,
   "metadata": {
    "id": "Yd29Ri6y8Dks"
   },
   "outputs": [],
   "source": [
    "import pandas as pd\n",
    "import numpy as np\n",
    "from pathlib import Path\n",
    "import re\n",
    "import torch\n",
    "import torch.nn.functional as F\n",
    "from transformers import AutoTokenizer, AutoModelForSequenceClassification, pipeline"
   ]
  },
  {
   "cell_type": "code",
   "execution_count": null,
   "metadata": {
    "colab": {
     "base_uri": "https://localhost:8080/"
    },
    "id": "4Xw-IM5a8V5R",
    "outputId": "fc7d399e-2804-4495-eeac-729bd1f01825"
   },
   "outputs": [
    {
     "name": "stdout",
     "output_type": "stream",
     "text": [
      "Mounted at /content/drive\n"
     ]
    }
   ],
   "source": [
    "from google.colab import drive\n",
    "drive.mount('/content/drive')"
   ]
  },
  {
   "cell_type": "code",
   "execution_count": null,
   "metadata": {
    "colab": {
     "base_uri": "https://localhost:8080/"
    },
    "id": "AlKGUatm8Wdv",
    "outputId": "bea3e520-9cce-49c6-c3ec-cd26d98106a3"
   },
   "outputs": [
    {
     "name": "stderr",
     "output_type": "stream",
     "text": [
      "<ipython-input-3-2642707429>:7: DeprecationWarning: numpy.core.numeric is deprecated and has been renamed to numpy._core.numeric. The numpy._core namespace contains private NumPy internals and its use is discouraged, as NumPy internals can change without warning in any release. In practice, most real-world usage of numpy.core is to access functionality in the public NumPy API. If that is the case, use the public NumPy API. If not, you are using NumPy internals. If you would still like to access an internal attribute, use numpy._core.numeric._frombuffer.\n",
      "  combined_df = pickle.load(f)\n"
     ]
    },
    {
     "name": "stdout",
     "output_type": "stream",
     "text": [
      "파일을 성공적으로 불러왔습니다.\n"
     ]
    }
   ],
   "source": [
    "import pickle\n",
    "\n",
    "file_path = '/content/drive/My Drive/기말 텍스트마이닝/cleaned_combined_df.pkl'\n",
    "\n",
    "try:\n",
    "    with open(file_path, 'rb') as f:\n",
    "        combined_df = pickle.load(f)\n",
    "\n",
    "    # 5. 불러온 데이터 확인 (선택 사항)\n",
    "    print(\"파일을 성공적으로 불러왔습니다.\")\n",
    "    # print(data) # 데이터 내용을 출력하려면 이 줄의 주석을 해제하세요.\n",
    "\n",
    "except FileNotFoundError:\n",
    "    print(f\"오류: '{file_path}' 경로에 파일이 없습니다. 경로를 다시 확인해주세요.\")"
   ]
  },
  {
   "cell_type": "code",
   "execution_count": null,
   "metadata": {
    "colab": {
     "base_uri": "https://localhost:8080/"
    },
    "id": "733jTMrg8Zln",
    "outputId": "965d6bb3-b026-4281-8fe2-3e690e62b543"
   },
   "outputs": [
    {
     "name": "stdout",
     "output_type": "stream",
     "text": [
      "가장 관심있는 키워드를 첫 번째에 입력하고, 첫 번째 키워드와 관련된 보조 키워드를 뒤에 입력하세요. 키워드는 공백으로 구분하여 입력하세요:김건희 명태균\n"
     ]
    }
   ],
   "source": [
    "# 키워드 입력 받기\"\n",
    "keywords = input('가장 관심있는 키워드를 첫 번째에 입력하고, 첫 번째 키워드와 관련된 보조 키워드를 뒤에 입력하세요. 키워드는 공백으로 구분하여 입력하세요:').split()"
   ]
  },
  {
   "cell_type": "code",
   "execution_count": null,
   "metadata": {
    "colab": {
     "base_uri": "https://localhost:8080/"
    },
    "id": "0UP76-Kr8cSC",
    "outputId": "2f6a4602-c2ae-4a7e-acaf-a175e80b71c9"
   },
   "outputs": [
    {
     "name": "stdout",
     "output_type": "stream",
     "text": [
      "최종 선택된 기사 수: 65\n",
      "  press         created_date  \\\n",
      "0  한국일보  2025.05.23. 오후 1:00   \n",
      "1  중앙일보  2025.05.23. 오전 9:30   \n",
      "2  한국일보  2025.05.23. 오전 9:00   \n",
      "3  한국일보  2025.05.23. 오전 4:31   \n",
      "4  한국일보  2025.05.23. 오전 4:31   \n",
      "\n",
      "                                               title  \n",
      "0  보수도 \"명태균·김건희특검 둘 다 추진해야\"... '김문수 강경 지지층만' 반대[한...  \n",
      "1               \"김건희 본격 수사는 대선 이후…잔인한 6月 될 것\" [월간중앙]  \n",
      "2  차기 대통령 임기는 '5년' 선호... 개헌은 내년 34%, 3년 뒤 28%[한국일...  \n",
      "3   71%가 지지한 검찰개혁은 '시기의 문제'... 공수처 존폐는 팽팽[한국일보 여론조사]  \n",
      "4  '선택적 모병제' 71% 찬성, '기본소득'은 39% 그쳐... 국민이 원하는 대선...  \n"
     ]
    }
   ],
   "source": [
    "# 모든 키워드를 포함하는 기사인지 확인하는 함수\n",
    "def contains_all_keywords(row, keywords):\n",
    "    text = row['title'] + ' ' + row['content']\n",
    "    return all(kw in text for kw in keywords)\n",
    "\n",
    "# 키워드 포함하는 데이터프레임을 filtered_data로 저장\n",
    "filtered_data = combined_df[\n",
    "    combined_df.apply(lambda row: contains_all_keywords(row, keywords), axis=1)\n",
    "].reset_index(drop=True)\n",
    "\n",
    "from datetime import datetime, timedelta\n",
    "\n",
    "# 1. 오전/오후 → AM/PM으로 바꾸고 공백 제거\n",
    "filtered_data['created_date_parsed'] = filtered_data['created_date'].str.replace('오전', 'AM', regex=False)\n",
    "filtered_data['created_date_parsed'] = filtered_data['created_date_parsed'].str.replace('오후', 'PM', regex=False)\n",
    "\n",
    "# 2. 날짜 형식 변환 (예: \"2025.05.23. PM 1:00\" → datetime)\n",
    "filtered_data['created_date_parsed'] = pd.to_datetime(\n",
    "    filtered_data['created_date_parsed'], format=\"%Y.%m.%d. %p %I:%M\", errors='coerce'\n",
    ")\n",
    "\n",
    "# 3. created_date 기준으로 내림차순 정렬\n",
    "filtered_data = filtered_data.sort_values(by='created_date', ascending=False).reset_index(drop=True)\n",
    "\n",
    "# 4. 만약 필터링된 기사가 500개를 초과하면 → 1달 이내 기사만 추출\n",
    "if len(filtered_data) > 500:\n",
    "    # 최신 기사 날짜 기준 1달 전 계산\n",
    "    latest_date = pd.to_datetime(filtered_data['created_date_parsed'].iloc[0])\n",
    "    one_month_ago = latest_date - timedelta(days=30)\n",
    "\n",
    "    # 1달 이내 기사만 추출\n",
    "    filtered_data = filtered_data[\n",
    "        pd.to_datetime(filtered_data['created_date_parsed']) >= one_month_ago\n",
    "    ].reset_index(drop=True)\n",
    "\n",
    "# 5. 결과 확인\n",
    "print(f\"최종 선택된 기사 수: {len(filtered_data)}\")\n",
    "print(filtered_data[['press', 'created_date', 'title']].head())"
   ]
  },
  {
   "cell_type": "code",
   "execution_count": null,
   "metadata": {
    "colab": {
     "base_uri": "https://localhost:8080/"
    },
    "id": "Ky42RLad8gF9",
    "outputId": "0764218f-f920-4bb5-fdb7-3521e73262b5"
   },
   "outputs": [
    {
     "name": "stdout",
     "output_type": "stream",
     "text": [
      "\u001b[2K   \u001b[90m━━━━━━━━━━━━━━━━━━━━━━━━━━━━━━━━━━━━━━━━\u001b[0m \u001b[32m363.4/363.4 MB\u001b[0m \u001b[31m4.7 MB/s\u001b[0m eta \u001b[36m0:00:00\u001b[0m\n",
      "\u001b[2K   \u001b[90m━━━━━━━━━━━━━━━━━━━━━━━━━━━━━━━━━━━━━━━━\u001b[0m \u001b[32m13.8/13.8 MB\u001b[0m \u001b[31m72.1 MB/s\u001b[0m eta \u001b[36m0:00:00\u001b[0m\n",
      "\u001b[2K   \u001b[90m━━━━━━━━━━━━━━━━━━━━━━━━━━━━━━━━━━━━━━━━\u001b[0m \u001b[32m24.6/24.6 MB\u001b[0m \u001b[31m81.4 MB/s\u001b[0m eta \u001b[36m0:00:00\u001b[0m\n",
      "\u001b[2K   \u001b[90m━━━━━━━━━━━━━━━━━━━━━━━━━━━━━━━━━━━━━━━━\u001b[0m \u001b[32m883.7/883.7 kB\u001b[0m \u001b[31m51.7 MB/s\u001b[0m eta \u001b[36m0:00:00\u001b[0m\n",
      "\u001b[2K   \u001b[90m━━━━━━━━━━━━━━━━━━━━━━━━━━━━━━━━━━━━━━━━\u001b[0m \u001b[32m664.8/664.8 MB\u001b[0m \u001b[31m1.3 MB/s\u001b[0m eta \u001b[36m0:00:00\u001b[0m\n",
      "\u001b[2K   \u001b[90m━━━━━━━━━━━━━━━━━━━━━━━━━━━━━━━━━━━━━━━━\u001b[0m \u001b[32m211.5/211.5 MB\u001b[0m \u001b[31m6.7 MB/s\u001b[0m eta \u001b[36m0:00:00\u001b[0m\n",
      "\u001b[2K   \u001b[90m━━━━━━━━━━━━━━━━━━━━━━━━━━━━━━━━━━━━━━━━\u001b[0m \u001b[32m56.3/56.3 MB\u001b[0m \u001b[31m12.9 MB/s\u001b[0m eta \u001b[36m0:00:00\u001b[0m\n",
      "\u001b[2K   \u001b[90m━━━━━━━━━━━━━━━━━━━━━━━━━━━━━━━━━━━━━━━━\u001b[0m \u001b[32m127.9/127.9 MB\u001b[0m \u001b[31m9.2 MB/s\u001b[0m eta \u001b[36m0:00:00\u001b[0m\n",
      "\u001b[2K   \u001b[90m━━━━━━━━━━━━━━━━━━━━━━━━━━━━━━━━━━━━━━━━\u001b[0m \u001b[32m207.5/207.5 MB\u001b[0m \u001b[31m6.0 MB/s\u001b[0m eta \u001b[36m0:00:00\u001b[0m\n",
      "\u001b[2K   \u001b[90m━━━━━━━━━━━━━━━━━━━━━━━━━━━━━━━━━━━━━━━━\u001b[0m \u001b[32m21.1/21.1 MB\u001b[0m \u001b[31m83.9 MB/s\u001b[0m eta \u001b[36m0:00:00\u001b[0m\n",
      "\u001b[?25h"
     ]
    }
   ],
   "source": [
    "!pip install -q transformers sentence-transformers"
   ]
  },
  {
   "cell_type": "code",
   "execution_count": null,
   "metadata": {
    "colab": {
     "base_uri": "https://localhost:8080/",
     "height": 543,
     "referenced_widgets": [
      "bba9c14c110a465ea7a011a3a8d04463",
      "efacc304c5fe429bb9b3e22804574a75",
      "6a2ea22ba1ae43abb592d1c71502ef6b",
      "deff2fb7e4d149b6906b3bb1fb0b6023",
      "7e10431b9798465a81af24231e215229",
      "c915953421334ae8be432f1d9d0333a2",
      "70b66471290c420d92fc10d53901aa95",
      "0281d23bebc94fb291df7ef8bc6d2fba",
      "a968b67b32314a6fae276fa0627c988d",
      "b5441557ffcb4b9caa54aca495ffaac1",
      "e4384219cf5f42008ee2f77570b817f3",
      "6dd419b03ccf4c5da3f7379a29c875e4",
      "8c8cf5bb3fef49a99e68277486f499f0",
      "f31f374a42854126a65afa22960041c3",
      "134a3c607dd54320b778fce09be111da",
      "283388042fd1435396b6de8b21a4fa82",
      "1b697add57104696be06826bf9da2a69",
      "5263bca0a9094b56a31708bb79859df1",
      "a907368ead064c9e98e0e03f47f2b795",
      "b65e48a51a6840c6a293c5bef1ced645",
      "c2d1f91df9964d46bf3efce14d70b307",
      "e91b02cf9df6456bb7e2dcbd331ce4ca",
      "d974ac7a6aa84bc9bae352c93b7cd60c",
      "5c6aa7a54ed843d4b96d9b9b5959f72a",
      "fd0dd48ea5b74a2eb5d79e4c578e9f16",
      "9e35d146baa849f3bde0031b87684099",
      "d3f4dad4611142ee9d00e6ab6185b50d",
      "f3c0bed1ff97429685aeec0be61dec7b",
      "88d56dc96085435c90c6934e464bc177",
      "c51d9448db6a47cfac39d4996b087b17",
      "478231a4d5e54c609dea7c5e30c371a3",
      "bb954b660202460f81675e3f6a625475",
      "5292d1217e524ff8a9e3489f9bad6be7",
      "cd65a17927da4e67b7ea60e52d251311",
      "30771d542d9344f68e3d107cc42e8c83",
      "d733ead72a924e68b6341adfc86ab735",
      "d166982d702f495885b425da6fba3a20",
      "293669ede539402f84d7a9ffb37e18c7",
      "ae120a018c9d407eab77429560ccef61",
      "2b34418ff2444ede9fc343322392c2f9",
      "6b93f053e9554cb1a0174c78fb3e772a",
      "23ba15b1b70949fc98a93dd04fc0c723",
      "94530726d2b54a89b022602a3299b859",
      "df45d52013774a87970773ea0ce065ff",
      "5d85e9aa59ff485da91a6c0641409ddd",
      "b19cb330a74b47d98f14e6e844aab85b",
      "fa8948db8a3445dca63591ea542fc805",
      "1d992bc27f474bcc9e214819177ba6ac",
      "1072d8af6704426a9d39c2fbfe76c528",
      "3396a9456e394caf9ab3671950c2a980",
      "3e09060f3dbc467cb779471d77fcf3c0",
      "7ef6415729b9485cb94340a6611e3073",
      "ac25bfe80cf844919bf3762e16bda736",
      "205b8104eb9b4822b771f282e1475b92",
      "d0d805ad88874c7da1bd4070694cbe81",
      "1dc0fde7aa964276a43dc753fea957bf",
      "460c4ba8e87f413a9e69ee06a82c1665",
      "29d63500b5ae4d3ab6eb20df50b5f321",
      "b1bc05bb1c5442a2816eeb67415538c5",
      "b8a01b669eb14caf8cd1e81618deb3df",
      "878256fe0fc64d8aad9c1bac1f90e713",
      "cde019a0d77e4f94b56406e9f74f690a",
      "e3531f97ad674b2fa80156b9b48aa46d",
      "659af43b32c248c687e676a180b3d2a2",
      "429d26227cd548b084f61f25a56338d9",
      "6e25b9575a6e45288e6ed0364dafb068",
      "ac41938e98f24304b590da0254422e9f",
      "5843350519534036ad5eae69edac0a1c",
      "f5f58cfbca3d4ad2958845f669c118ae",
      "5a3e2f9c03d9415b8fb6d06d73ea4a04",
      "2a4c87c924b84670bb4b05e62d876ed2",
      "353ad9843a8a4df7a4a4a6047ada7e64",
      "187aed6e869442589ec1ddaf11347515",
      "a06d3965ce5d4979a644efdea621b47c",
      "69de36108d7e4fb4b53d6db3a70d6ecb",
      "50d2277fb9a94abf9b2182c71ad8fbb3",
      "ffecb4838148432f86a7a247dd8c0a53",
      "a785a08ca84e45f38db86445ef605671",
      "e819dddd0e6e4167a60e3ab7d8323225",
      "0968ff4633a74b6bb220cabcedeaac0b",
      "150502ff63294e5db138050988a18fc9",
      "107046e4e84b429e9c379f8fa02b3555",
      "850f0300ff2d40a6ab750e49551dbc46",
      "575bf6de009f443dbd820e6836a805fb",
      "7c0c5ef79aaf41ddbf92c7f661e18f88",
      "15e90116ff684ec795451bbe29d85700",
      "ecdecf7f6dfc4f2ca2ea190465e3c869",
      "c4ea2138f1c34ed286bab59d3e56c862",
      "8f949ee5cef342abacf48134aa882c80",
      "6b498a78b7b44b1e8a0e6253a8953292",
      "ef4beefc85ef4e2db6bcbd12377e6ee3",
      "0307fb4580454d02984c744f5dc30820",
      "9ae13751490e433a898efb0efcce5442",
      "b764e044f3964f328d94d554ef547028",
      "45888856ccd5453c832b56216ae7c966",
      "2740a498e74d473d8f146562dffe4f7b",
      "d036b66bd8824e19b9c48ed731e62ab9",
      "b93bc2570d334624b3e7e82c1844ef89",
      "1fb846ff7bdc4cba8565cfd300b8bb29",
      "dcf9eb7c5af540f8a0b849db03d30b77",
      "85c92b489d4d42cda11750381ea095f4",
      "ba6bea27c229483fa46b18f2189e4fd4",
      "1a77de2a76f44c4dbe49fe78cda5815f",
      "bc0e53ad4d9842c0ab843d4f6c21b703",
      "e2d715c55d2c493da6b2970ee6741f19",
      "d372829d091042a8809d95273ab33a68",
      "501e786ad5c44bcb9da5aac0c129f11e",
      "6baf42a1e36143d5b9715cff97da3ec0",
      "3e9ae99a889c439cb9dde9e6de662b36",
      "a2ec23e56ace4e7ea78b36beb9dc241e",
      "806b2faf5c314f489b48fb09020c6ea8",
      "880a8b355657461498668566c35841e8",
      "4b69b887593047718513af7aabbc654f",
      "4c7cd68730da4412b47059953ca17560",
      "2e9189902ddd481387c1a1e1045c98e7",
      "62b37e7c52834891b4aad41e48c9160e",
      "cf0374dc5707457583da92544c198433",
      "437e59b814644ce8bf6131252c559eee",
      "492e7ba4c62e4cf88d54373247b312ca",
      "68ac14f7af144de58409df2e94cc0877",
      "56d33c890dee48fa8b34a58da75e1e35",
      "036198ccfa8345a183f6525c09e0253b",
      "154de77c04c4456ab46ba3737508b4c7",
      "eda4a7c4219a4927bfc9c080d7abc8a6",
      "32808b3f76524fc4b90ee65f6276c1d9",
      "ae2ddaa5104940648608133baa75d9df",
      "4390885747434af5a8b3b3f09d278ea9",
      "1bfeffef4f1e4d5393e57f74d1703005",
      "5cdd416170c642eb96477c27a585eb3b",
      "e37490f4a2e84a5b827b55bf716c09c7",
      "6d05e63f295542d497c3133a74e18c52",
      "fd34abb9b7864535911d844ba9ab1dea",
      "e59d2c963b8d4c6a924b0724cbd2134f",
      "522592f5dab7490e81d14b1f6fdfa19e",
      "a9d7906c95ee4fadb229c0ee73ced957",
      "3758c311818e4c73bc51be19f7441449",
      "2494d5fd5a3c43edacbd10a29b97df04",
      "111671b4437147b9bc349fd18acd4322",
      "edcf38b91db14a5f91ce7804b77c6e1d",
      "a563398bf48d4c2b8ca4053b18de0995",
      "051f8bc8842b438a8db7b3df3db0350f",
      "26b401985a8848cfa12183bc1764b079",
      "4d7163c515d649acae8bd23347903cbc"
     ]
    },
    "id": "y76VQgG8LETf",
    "outputId": "203036d6-fa8d-4078-970b-89d597fe3c36"
   },
   "outputs": [
    {
     "name": "stderr",
     "output_type": "stream",
     "text": [
      "/usr/local/lib/python3.11/dist-packages/huggingface_hub/utils/_auth.py:94: UserWarning: \n",
      "The secret `HF_TOKEN` does not exist in your Colab secrets.\n",
      "To authenticate with the Hugging Face Hub, create a token in your settings tab (https://huggingface.co/settings/tokens), set it as secret in your Google Colab and restart your session.\n",
      "You will be able to reuse this secret in all of your notebooks.\n",
      "Please note that authentication is recommended but still optional to access public models or datasets.\n",
      "  warnings.warn(\n"
     ]
    },
    {
     "data": {
      "application/vnd.jupyter.widget-view+json": {
       "model_id": "bba9c14c110a465ea7a011a3a8d04463",
       "version_major": 2,
       "version_minor": 0
      },
      "text/plain": [
       "modules.json:   0%|          | 0.00/229 [00:00<?, ?B/s]"
      ]
     },
     "metadata": {},
     "output_type": "display_data"
    },
    {
     "data": {
      "application/vnd.jupyter.widget-view+json": {
       "model_id": "6dd419b03ccf4c5da3f7379a29c875e4",
       "version_major": 2,
       "version_minor": 0
      },
      "text/plain": [
       "config_sentence_transformers.json:   0%|          | 0.00/124 [00:00<?, ?B/s]"
      ]
     },
     "metadata": {},
     "output_type": "display_data"
    },
    {
     "data": {
      "application/vnd.jupyter.widget-view+json": {
       "model_id": "d974ac7a6aa84bc9bae352c93b7cd60c",
       "version_major": 2,
       "version_minor": 0
      },
      "text/plain": [
       "README.md:   0%|          | 0.00/4.02k [00:00<?, ?B/s]"
      ]
     },
     "metadata": {},
     "output_type": "display_data"
    },
    {
     "data": {
      "application/vnd.jupyter.widget-view+json": {
       "model_id": "cd65a17927da4e67b7ea60e52d251311",
       "version_major": 2,
       "version_minor": 0
      },
      "text/plain": [
       "sentence_bert_config.json:   0%|          | 0.00/53.0 [00:00<?, ?B/s]"
      ]
     },
     "metadata": {},
     "output_type": "display_data"
    },
    {
     "data": {
      "application/vnd.jupyter.widget-view+json": {
       "model_id": "5d85e9aa59ff485da91a6c0641409ddd",
       "version_major": 2,
       "version_minor": 0
      },
      "text/plain": [
       "config.json:   0%|          | 0.00/707 [00:00<?, ?B/s]"
      ]
     },
     "metadata": {},
     "output_type": "display_data"
    },
    {
     "data": {
      "application/vnd.jupyter.widget-view+json": {
       "model_id": "1dc0fde7aa964276a43dc753fea957bf",
       "version_major": 2,
       "version_minor": 0
      },
      "text/plain": [
       "pytorch_model.bin:   0%|          | 0.00/467M [00:00<?, ?B/s]"
      ]
     },
     "metadata": {},
     "output_type": "display_data"
    },
    {
     "data": {
      "application/vnd.jupyter.widget-view+json": {
       "model_id": "ac41938e98f24304b590da0254422e9f",
       "version_major": 2,
       "version_minor": 0
      },
      "text/plain": [
       "model.safetensors:   0%|          | 0.00/467M [00:00<?, ?B/s]"
      ]
     },
     "metadata": {},
     "output_type": "display_data"
    },
    {
     "data": {
      "application/vnd.jupyter.widget-view+json": {
       "model_id": "a785a08ca84e45f38db86445ef605671",
       "version_major": 2,
       "version_minor": 0
      },
      "text/plain": [
       "tokenizer_config.json:   0%|          | 0.00/394 [00:00<?, ?B/s]"
      ]
     },
     "metadata": {},
     "output_type": "display_data"
    },
    {
     "data": {
      "application/vnd.jupyter.widget-view+json": {
       "model_id": "8f949ee5cef342abacf48134aa882c80",
       "version_major": 2,
       "version_minor": 0
      },
      "text/plain": [
       "vocab.txt:   0%|          | 0.00/336k [00:00<?, ?B/s]"
      ]
     },
     "metadata": {},
     "output_type": "display_data"
    },
    {
     "data": {
      "application/vnd.jupyter.widget-view+json": {
       "model_id": "dcf9eb7c5af540f8a0b849db03d30b77",
       "version_major": 2,
       "version_minor": 0
      },
      "text/plain": [
       "tokenizer.json:   0%|          | 0.00/967k [00:00<?, ?B/s]"
      ]
     },
     "metadata": {},
     "output_type": "display_data"
    },
    {
     "data": {
      "application/vnd.jupyter.widget-view+json": {
       "model_id": "806b2faf5c314f489b48fb09020c6ea8",
       "version_major": 2,
       "version_minor": 0
      },
      "text/plain": [
       "special_tokens_map.json:   0%|          | 0.00/112 [00:00<?, ?B/s]"
      ]
     },
     "metadata": {},
     "output_type": "display_data"
    },
    {
     "data": {
      "application/vnd.jupyter.widget-view+json": {
       "model_id": "036198ccfa8345a183f6525c09e0253b",
       "version_major": 2,
       "version_minor": 0
      },
      "text/plain": [
       "config.json:   0%|          | 0.00/190 [00:00<?, ?B/s]"
      ]
     },
     "metadata": {},
     "output_type": "display_data"
    },
    {
     "data": {
      "application/vnd.jupyter.widget-view+json": {
       "model_id": "e59d2c963b8d4c6a924b0724cbd2134f",
       "version_major": 2,
       "version_minor": 0
      },
      "text/plain": [
       "Batches:   0%|          | 0/3 [00:00<?, ?it/s]"
      ]
     },
     "metadata": {},
     "output_type": "display_data"
    }
   ],
   "source": [
    "# 1. 임포트\n",
    "from sentence_transformers import SentenceTransformer\n",
    "from sklearn.cluster import KMeans\n",
    "from sklearn.metrics import silhouette_score\n",
    "from sklearn.metrics import pairwise_distances_argmin_min\n",
    "import matplotlib.pyplot as plt\n",
    "import pandas as pd\n",
    "\n",
    "# 2. SBERT 임베딩\n",
    "model = SentenceTransformer('snunlp/KR-SBERT-V40K-klueNLI-augSTS')\n",
    "texts = filtered_data['text'].tolist()\n",
    "sbert_embeddings = model.encode(texts, show_progress_bar=True)"
   ]
  },
  {
   "cell_type": "code",
   "execution_count": null,
   "metadata": {
    "colab": {
     "base_uri": "https://localhost:8080/"
    },
    "id": "xziU2noFLIkO",
    "outputId": "7db5cdd7-0a7d-43ff-b39d-7953f07bc5f9"
   },
   "outputs": [
    {
     "name": "stdout",
     "output_type": "stream",
     "text": [
      "✅ 최적 K 값: 4\n"
     ]
    }
   ],
   "source": [
    "# 3. 최적의 K 찾기 (silhouette)\n",
    "sil_scores = []\n",
    "K_range = range(2, min(11, len(texts)))  # 데이터 수가 적을 경우 대비\n",
    "for k in K_range:\n",
    "    kmeans = KMeans(n_clusters=k, random_state=42)\n",
    "    labels = kmeans.fit_predict(sbert_embeddings)\n",
    "    score = silhouette_score(sbert_embeddings, labels)\n",
    "    sil_scores.append(score)\n",
    "\n",
    "# 최적 K 선택\n",
    "best_k = K_range[sil_scores.index(max(sil_scores))]\n",
    "print(f\"✅ 최적 K 값: {best_k}\")"
   ]
  },
  {
   "cell_type": "code",
   "execution_count": null,
   "metadata": {
    "colab": {
     "base_uri": "https://localhost:8080/"
    },
    "id": "DGvhJ8svLOjJ",
    "outputId": "d512ba54-389b-4365-f495-f55d74025034"
   },
   "outputs": [
    {
     "name": "stdout",
     "output_type": "stream",
     "text": [
      "✅ 군집별 대표 기사 인덱스: [59 43  0 55]\n"
     ]
    }
   ],
   "source": [
    "# 4. 최종 KMeans 수행 및 중심 기사 선택\n",
    "kmeans = KMeans(n_clusters=best_k, random_state=42)\n",
    "cluster_labels = kmeans.fit_predict(sbert_embeddings)\n",
    "cluster_centers = kmeans.cluster_centers_\n",
    "\n",
    "# 군집 중심과 가장 가까운 기사 인덱스\n",
    "selected_indices, _ = pairwise_distances_argmin_min(cluster_centers, sbert_embeddings)\n",
    "print(f\"✅ 군집별 대표 기사 인덱스: {selected_indices}\")"
   ]
  },
  {
   "cell_type": "code",
   "execution_count": null,
   "metadata": {
    "colab": {
     "base_uri": "https://localhost:8080/"
    },
    "id": "aRwFpDRNLWQM",
    "outputId": "f4071a8c-a428-451e-c51c-e34323228456"
   },
   "outputs": [
    {
     "name": "stdout",
     "output_type": "stream",
     "text": [
      "✅ 엑셀 파일 저장 완료: 대표_기사_목록.xlsx\n"
     ]
    }
   ],
   "source": [
    "######추출된 기사 확인용 코드 (미시행해도 최종 결과에 지장 X)\n",
    "# 대표 기사 정보 추출 (요약 없이 기사 본문 포함)\n",
    "summary_rows = []\n",
    "for idx in selected_indices:\n",
    "    row = filtered_data.iloc[idx]\n",
    "    summary_rows.append({\n",
    "        \"언론사\": row['press'],\n",
    "        \"작성일자\": row['created_date'],\n",
    "        \"제목\": row['title'],\n",
    "        \"기사 본문\": row['content'],\n",
    "        \"기사 전문 보기\": row['url']\n",
    "    })\n",
    "\n",
    "# 데이터프레임 변환\n",
    "summary_df = pd.DataFrame(summary_rows)\n",
    "\n",
    "# 엑셀 파일로 저장\n",
    "output_file = \"대표_기사_목록.xlsx\"\n",
    "summary_df.to_excel(output_file, index=False)\n",
    "\n",
    "print(f\"✅ 엑셀 파일 저장 완료: {output_file}\")"
   ]
  },
  {
   "cell_type": "code",
   "execution_count": null,
   "metadata": {
    "colab": {
     "base_uri": "https://localhost:8080/"
    },
    "id": "Cq_-ufYNOTt8",
    "outputId": "f23baf16-c9c9-4688-e18e-a974f1732501"
   },
   "outputs": [
    {
     "name": "stdout",
     "output_type": "stream",
     "text": [
      "Drive already mounted at /content/drive; to attempt to forcibly remount, call drive.mount(\"/content/drive\", force_remount=True).\n",
      "✅ Google Drive 저장 완료: /content/drive/MyDrive/Colab 결과/대표_기사_목록.xlsx\n"
     ]
    }
   ],
   "source": [
    "######추출된 기사 확인용 코드 (미시행해도 최종 결과에 지장 X)\n",
    "import os\n",
    "import shutil\n",
    "\n",
    "# 1. Google Drive 마운트\n",
    "drive.mount('/content/drive')\n",
    "\n",
    "# 2. 저장 경로 설정\n",
    "drive_dir = '/content/drive/MyDrive/Colab 결과'\n",
    "os.makedirs(drive_dir, exist_ok=True)\n",
    "\n",
    "# 3. 파일 복사\n",
    "shutil.copy(\"대표_기사_목록.xlsx\", os.path.join(drive_dir, \"대표_기사_목록.xlsx\"))\n",
    "\n",
    "print(f\"✅ Google Drive 저장 완료: {drive_dir}/대표_기사_목록.xlsx\")"
   ]
  },
  {
   "cell_type": "code",
   "execution_count": null,
   "metadata": {
    "colab": {
     "base_uri": "https://localhost:8080/"
    },
    "id": "gvmyaozqSx0M",
    "outputId": "e088f2a0-fb84-4226-a8c9-f479a370c9b9"
   },
   "outputs": [
    {
     "name": "stdout",
     "output_type": "stream",
     "text": [
      "Requirement already satisfied: sentencepiece in /usr/local/lib/python3.11/dist-packages (0.2.0)\n"
     ]
    }
   ],
   "source": [
    "!pip install sentencepiece"
   ]
  },
  {
   "cell_type": "code",
   "execution_count": null,
   "metadata": {
    "colab": {
     "base_uri": "https://localhost:8080/"
    },
    "id": "pj2Wx-AHTNMb",
    "outputId": "56aa3eb8-517e-4c25-9809-13e204c248f7"
   },
   "outputs": [
    {
     "name": "stderr",
     "output_type": "stream",
     "text": [
      "You passed along `num_labels=3` with an incompatible id to label map: {'0': 'NEGATIVE', '1': 'POSITIVE'}. The number of labels will be overwritten to 2.\n",
      "100%|██████████| 65/65 [10:37<00:00,  9.80s/it]\n"
     ]
    }
   ],
   "source": [
    "from transformers import AutoTokenizer, AutoModelForSeq2SeqLM\n",
    "import torch\n",
    "from tqdm import tqdm\n",
    "\n",
    "# tqdm 연동\n",
    "tqdm.pandas()\n",
    "\n",
    "# 1. 모델 및 토크나이저 로딩\n",
    "model_name = \"digit82/kobart-summarization\"\n",
    "tokenizer = AutoTokenizer.from_pretrained(model_name)\n",
    "model = AutoModelForSeq2SeqLM.from_pretrained(model_name)\n",
    "\n",
    "# 2. 요약 함수 정의\n",
    "def summarize_kobart(text):\n",
    "    # 예외 처리: 빈 문장이나 짧은 문장은 요약 생략\n",
    "    if not isinstance(text, str) or len(text.strip()) < 10:\n",
    "        return \"\"\n",
    "\n",
    "    input_ids = tokenizer.encode(text, return_tensors=\"pt\", truncation=True, max_length=1024)\n",
    "    summary_ids = model.generate(\n",
    "        input_ids,\n",
    "        max_length=100,\n",
    "        min_length=20,\n",
    "        length_penalty=2.0,\n",
    "        num_beams=4,\n",
    "        early_stopping=True\n",
    "    )\n",
    "    return tokenizer.decode(summary_ids[0], skip_special_tokens=True)\n",
    "\n",
    "# 3. 요약 수행\n",
    "filtered_data['kobart_summary'] = filtered_data['text'].progress_apply(summarize_kobart)"
   ]
  },
  {
   "cell_type": "code",
   "execution_count": null,
   "metadata": {
    "colab": {
     "base_uri": "https://localhost:8080/"
    },
    "id": "o5A12Ja_b47K",
    "outputId": "27764a0b-df6c-4f82-f8ce-6a7fbad7930c"
   },
   "outputs": [
    {
     "name": "stdout",
     "output_type": "stream",
     "text": [
      "Collecting xlsxwriter\n",
      "  Downloading XlsxWriter-3.2.3-py3-none-any.whl.metadata (2.7 kB)\n",
      "Downloading XlsxWriter-3.2.3-py3-none-any.whl (169 kB)\n",
      "\u001b[?25l   \u001b[90m━━━━━━━━━━━━━━━━━━━━━━━━━━━━━━━━━━━━━━━━\u001b[0m \u001b[32m0.0/169.4 kB\u001b[0m \u001b[31m?\u001b[0m eta \u001b[36m-:--:--\u001b[0m\r\u001b[2K   \u001b[90m━━━━━━━━━━━━━━━━━━━━━━━━━━━━━━━━━━━━━━━━\u001b[0m \u001b[32m169.4/169.4 kB\u001b[0m \u001b[31m5.2 MB/s\u001b[0m eta \u001b[36m0:00:00\u001b[0m\n",
      "\u001b[?25hInstalling collected packages: xlsxwriter\n",
      "Successfully installed xlsxwriter-3.2.3\n"
     ]
    }
   ],
   "source": [
    "!pip install xlsxwriter"
   ]
  },
  {
   "cell_type": "code",
   "execution_count": null,
   "metadata": {
    "colab": {
     "base_uri": "https://localhost:8080/"
    },
    "id": "x2Zme7V2WK6E",
    "outputId": "149b2da6-cf97-49a3-9d28-e2bf10f373b3"
   },
   "outputs": [
    {
     "name": "stdout",
     "output_type": "stream",
     "text": [
      "✅ 엑셀 파일이 성공적으로 저장되었습니다: /content/drive/My Drive/Colab 결과/생성형 요약.xlsx\n"
     ]
    }
   ],
   "source": [
    "# ✅ 대표 기사 인덱스 사용\n",
    "representative_articles = filtered_data.loc[selected_indices].copy()\n",
    "\n",
    "# ✅ 필요한 열만 선택 및 이름 변경\n",
    "output_df = representative_articles[['press', 'created_date', 'title', 'kobart_summary', 'url']].copy()\n",
    "output_df.columns = ['언론사', '게재일자', '제목', '기사 요약', '기사 전문 보기']\n",
    "\n",
    "# ✅ 최상단 문구\n",
    "headline = f'\"{keywords}\"을 포함하는 기사들 중 가장 다른 논조의 기사들입니다.'\n",
    "\n",
    "# ✅ Google Drive 저장 경로\n",
    "excel_path = \"/content/drive/My Drive/Colab 결과/생성형 요약.xlsx\"\n",
    "\n",
    "# ✅ 엑셀 파일로 저장\n",
    "with pd.ExcelWriter(excel_path, engine='xlsxwriter') as writer:\n",
    "    output_df.to_excel(writer, sheet_name='요약결과', startrow=1, index=False)\n",
    "\n",
    "    workbook  = writer.book\n",
    "    worksheet = writer.sheets['요약결과']\n",
    "    worksheet.write(0, 0, headline)\n",
    "\n",
    "print(f\"✅ 엑셀 파일이 성공적으로 저장되었습니다: {excel_path}\")"
   ]
  }
 ],
 "metadata": {
  "colab": {
   "provenance": []
  },
  "kernelspec": {
   "display_name": "Python 3",
   "name": "python3"
  },
  "language_info": {
   "name": "python"
  }
 },
 "nbformat": 4,
 "nbformat_minor": 0
}
