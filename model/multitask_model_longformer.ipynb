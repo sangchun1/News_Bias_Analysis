{
  "cells": [
    {
      "cell_type": "markdown",
      "metadata": {
        "id": "FQP17VyYrGOd"
      },
      "source": [
        "# 뉴스 편향성 분석 모델\n",
        "\n",
        "이 노트북은 뉴스 기사의 민주당과 국힘에 대한 편향성을 분석하는 딥러닝 모델을 구현합니다."
      ]
    },
    {
      "cell_type": "code",
      "execution_count": null,
      "metadata": {
        "id": "GKX5JlcJrGOf"
      },
      "outputs": [],
      "source": [
        "import pandas as pd\n",
        "import numpy as np\n",
        "import torch\n",
        "from torch.utils.data import Dataset, DataLoader\n",
        "from transformers import (\n",
        "    AutoTokenizer,\n",
        "    AutoModel,\n",
        "    Trainer,\n",
        "    TrainingArguments,\n",
        "    EarlyStoppingCallback,\n",
        "    DataCollatorWithPadding\n",
        ")\n",
        "from sklearn.model_selection import train_test_split\n",
        "from sklearn.metrics import classification_report, f1_score\n",
        "from sklearn.utils.class_weight import compute_class_weight\n",
        "import matplotlib.pyplot as plt\n",
        "import seaborn as sns\n",
        "from tqdm import tqdm\n",
        "import os\n",
        "os.environ[\"WANDB_DISABLED\"] = \"true\""
      ]
    },
    {
      "cell_type": "code",
      "execution_count": null,
      "metadata": {
        "id": "VuCOajc7ro6C"
      },
      "outputs": [],
      "source": [
        "from google.colab import drive\n",
        "drive.mount('/content/drive')"
      ]
    },
    {
      "cell_type": "markdown",
      "metadata": {
        "id": "l2Ve1yObrGOh"
      },
      "source": [
        "## 1. 데이터 로드 및 전처리"
      ]
    },
    {
      "cell_type": "code",
      "execution_count": 2,
      "metadata": {
        "id": "9NxpMI4yrGOh"
      },
      "outputs": [],
      "source": [
        "# 베이스라인 결과 로드\n",
        "baseline_results = pd.read_csv('./baseline_results/baseline_results.csv').iloc[0]"
      ]
    },
    {
      "cell_type": "code",
      "execution_count": null,
      "metadata": {
        "colab": {
          "base_uri": "https://localhost:8080/"
        },
        "id": "G-KM2_bTrGOh",
        "outputId": "275acb69-f255-40e9-bc00-7765815ada8e"
      },
      "outputs": [],
      "source": [
        "# 데이터 로드\n",
        "df = pd.read_csv('../data/정당_관점_라벨링_최종_업데이트.csv')  # 파일 경로는 실제 경로에 맞게 수정해주세요\n",
        "\n",
        "# 정당 레이블 매핑\n",
        "party_mapping = {'국민의힘': 0, '민주당': 1, '그외': 2}\n",
        "\n",
        "# 정당 레이블 변환\n",
        "df['party_label'] = df['party'].map(party_mapping)\n",
        "\n",
        "# NaN 값 처리\n",
        "df = df.dropna(subset=['title_cleaned', 'content_cleaned', 'party_label'])\n",
        "\n",
        "# 제목과 본문 결합\n",
        "df['text'] = df['title_cleaned'] + ' ' + df['content_cleaned']\n",
        "\n",
        "print(f\"전체 데이터 수: {len(df)}\")\n",
        "print(\"\\n정당별 기사 수:\")\n",
        "print(df['party'].value_counts())\n",
        "print(\"\\n정당 레이블 분포:\")\n",
        "print(df['party_label'].value_counts())"
      ]
    },
    {
      "cell_type": "markdown",
      "metadata": {
        "id": "2w5Vfl0FrGOi"
      },
      "source": [
        "## 2. 데이터셋 클래스 정의"
      ]
    },
    {
      "cell_type": "code",
      "execution_count": 4,
      "metadata": {
        "id": "oPSBBP7zrGOi"
      },
      "outputs": [],
      "source": [
        "class NewsDataset(Dataset):\n",
        "    def __init__(self, texts, party_labels, tokenizer, max_length=1600):\n",
        "        self.texts = texts\n",
        "        self.party_labels = party_labels\n",
        "        self.tokenizer = tokenizer\n",
        "        self.max_length = max_length\n",
        "\n",
        "    def __len__(self):\n",
        "        return len(self.texts)\n",
        "\n",
        "    def __getitem__(self, idx):\n",
        "        text = str(self.texts[idx])\n",
        "        encoding = self.tokenizer(\n",
        "            text,\n",
        "            add_special_tokens=True,\n",
        "            max_length=self.max_length,\n",
        "            padding='max_length',\n",
        "            truncation=True,\n",
        "            return_tensors='pt'\n",
        "        )\n",
        "\n",
        "        # 텐서 차원 조정\n",
        "        input_ids = encoding['input_ids'].squeeze(0)  # [max_length]\n",
        "        attention_mask = encoding['attention_mask'].squeeze(0)  # [max_length]\n",
        "\n",
        "        return {\n",
        "            'input_ids': input_ids,\n",
        "            'attention_mask': attention_mask,\n",
        "            'party_label': torch.tensor(self.party_labels[idx], dtype=torch.long)\n",
        "        }"
      ]
    },
    {
      "cell_type": "markdown",
      "metadata": {
        "id": "77WSb_bCrGOi"
      },
      "source": [
        "## 3. 모델 정의"
      ]
    },
    {
      "cell_type": "code",
      "execution_count": 5,
      "metadata": {
        "id": "ypWhGC5A3TEo"
      },
      "outputs": [],
      "source": [
        "class NewsBiasModel(torch.nn.Module):\n",
        "    def __init__(self, model_name, num_party_labels=3, class_weights=None,\n",
        "                 dropout_rate=0.2, hidden_size=512):\n",
        "        super().__init__()\n",
        "        self.longformer = AutoModel.from_pretrained(model_name)\n",
        "        self.register_buffer(\"class_weights\", torch.tensor(class_weights, dtype=torch.float))\n",
        "\n",
        "        # 드롭아웃 레이어\n",
        "        self.dropout = torch.nn.Dropout(dropout_rate)\n",
        "\n",
        "        # 특성 추출 레이어\n",
        "        hidden_size_longformer = self.longformer.config.hidden_size\n",
        "        self.feature_layer = torch.nn.Sequential(\n",
        "            torch.nn.Linear(hidden_size_longformer, hidden_size),\n",
        "            torch.nn.LayerNorm(hidden_size),\n",
        "            torch.nn.ReLU(),\n",
        "            torch.nn.Dropout(dropout_rate)\n",
        "        )\n",
        "\n",
        "        # BiLSTM 레이어\n",
        "        self.bilstm = torch.nn.LSTM(\n",
        "            input_size=hidden_size,\n",
        "            hidden_size=hidden_size // 2,\n",
        "            num_layers=1,\n",
        "            batch_first=True,\n",
        "            bidirectional=True,\n",
        "            dropout=dropout_rate+0.1\n",
        "        )\n",
        "\n",
        "        # 정당 분류기\n",
        "        self.party_classifier = torch.nn.Sequential(\n",
        "            torch.nn.Linear(hidden_size, hidden_size // 2),\n",
        "            torch.nn.LayerNorm(hidden_size // 2),\n",
        "            torch.nn.ReLU(),\n",
        "            torch.nn.Dropout(dropout_rate),\n",
        "            torch.nn.Linear(hidden_size // 2, num_party_labels)\n",
        "        )\n",
        "\n",
        "    def forward(self, input_ids, attention_mask, party_label=None):\n",
        "        # Longformer 출력\n",
        "        outputs = self.longformer(input_ids=input_ids, attention_mask=attention_mask)\n",
        "        sequence_output = outputs.last_hidden_state  # (batch_size, seq_len, 768)\n",
        "\n",
        "        # 특성 추출\n",
        "        features = self.dropout(sequence_output)\n",
        "        features = self.feature_layer(features)  # (batch_size, seq_len, hidden_size)\n",
        "\n",
        "        # BiLSTM 적용\n",
        "        lstm_output, _ = self.bilstm(features)  # (batch_size, seq_len, hidden_size)\n",
        "        \n",
        "        # 최종 특성 추출 (평균 풀링)\n",
        "        final_features = torch.mean(lstm_output, dim=1)  # (batch_size, hidden_size)\n",
        "\n",
        "        # 정당 예측\n",
        "        party_logits = self.party_classifier(final_features)  # (batch_size, num_party_labels)\n",
        "\n",
        "        if party_label is not None:\n",
        "            loss_fct = torch.nn.CrossEntropyLoss(weight=self.class_weights)\n",
        "            party_loss = loss_fct(party_logits, party_label)\n",
        "            return {'loss': party_loss, 'party_logits': party_logits}\n",
        "\n",
        "        return {'party_logits': party_logits}"
      ]
    },
    {
      "cell_type": "markdown",
      "metadata": {
        "id": "qej8WSW-rGOj"
      },
      "source": [
        "## 4. 학습 준비"
      ]
    },
    {
      "cell_type": "code",
      "execution_count": 6,
      "metadata": {
        "id": "lAGRBPcCrGOj"
      },
      "outputs": [],
      "source": [
        "# 데이터 분할\n",
        "train_texts, val_texts, train_party_labels, val_party_labels = train_test_split(\n",
        "    df['text'].values,\n",
        "    df['party_label'].values,\n",
        "    test_size=0.1,\n",
        "    random_state=42\n",
        ")"
      ]
    },
    {
      "cell_type": "code",
      "execution_count": null,
      "metadata": {
        "colab": {
          "base_uri": "https://localhost:8080/"
        },
        "id": "LSNgVIrzrGOk",
        "outputId": "253dcd89-9abc-4847-e3ac-7d11c2b23f5c"
      },
      "outputs": [],
      "source": [
        "# 토크나이저 초기화\n",
        "tokenizer = AutoTokenizer.from_pretrained('allenai/longformer-base-4096')\n",
        "\n",
        "# 데이터셋 생성\n",
        "train_dataset = NewsDataset(train_texts, train_party_labels, tokenizer, max_length=1600)\n",
        "val_dataset = NewsDataset(val_texts, val_party_labels, tokenizer, max_length=1600)"
      ]
    },
    {
      "cell_type": "code",
      "execution_count": null,
      "metadata": {
        "colab": {
          "base_uri": "https://localhost:8080/"
        },
        "id": "DuHA4ebdwhIt",
        "outputId": "0e8c8226-e8ff-44a6-a757-a6af6da96afe"
      },
      "outputs": [],
      "source": [
        "label_list = [example['party_label'] for example in train_dataset]\n",
        "class_weights = compute_class_weight(\n",
        "    class_weight='balanced',\n",
        "    classes=np.array([0, 1, 2]),  # 0: 국민의힘, 1: 민주당, 2: 그외\n",
        "    y=np.array(label_list)\n",
        ")\n",
        "print(\"클래스 가중치:\", class_weights)"
      ]
    },
    {
      "cell_type": "code",
      "execution_count": null,
      "metadata": {
        "colab": {
          "base_uri": "https://localhost:8080/"
        },
        "id": "8n9BGJBmrGOk",
        "outputId": "66b6229b-f9cf-4edc-ef3b-c7455661b503"
      },
      "outputs": [],
      "source": [
        "# 모델 초기화\n",
        "device = torch.device('cuda' if torch.cuda.is_available() else 'cpu')\n",
        "\n",
        "# 모델 초기화 및 GPU 이동을 분리\n",
        "model = NewsBiasModel('allenai/longformer-base-4096', class_weights=class_weights)\n",
        "model = model.to(device)\n",
        "\n",
        "# 커스텀 데이터 콜레이터\n",
        "data_collator = DataCollatorWithPadding(tokenizer=tokenizer)"
      ]
    },
    {
      "cell_type": "code",
      "execution_count": 10,
      "metadata": {
        "id": "kzPA2RwLrGOk"
      },
      "outputs": [],
      "source": [
        "def compute_metrics(eval_pred):\n",
        "    party_preds = eval_pred.predictions\n",
        "    party_labels = eval_pred.label_ids\n",
        "\n",
        "    party_preds = np.argmax(party_preds, axis=1)\n",
        "\n",
        "    party_report = classification_report(\n",
        "        party_labels,\n",
        "        party_preds,\n",
        "        target_names=['국민의힘', '민주당', '그외'],\n",
        "        output_dict=True,\n",
        "        zero_division=0\n",
        "    )\n",
        "\n",
        "    return {\n",
        "        'party_f1': party_report['weighted avg']['f1-score'],\n",
        "        'party_accuracy': party_report['accuracy'],\n",
        "    }"
      ]
    },
    {
      "cell_type": "code",
      "execution_count": null,
      "metadata": {
        "colab": {
          "base_uri": "https://localhost:8080/"
        },
        "id": "K-2nkd1grGOk",
        "outputId": "dd2ec069-cda0-40d3-908e-4651e6afe330"
      },
      "outputs": [],
      "source": [
        "# 학습 인자 설정\n",
        "training_args = TrainingArguments(\n",
        "    output_dir='./news_bias_longformer_results',  # 디렉토리 이름 변경\n",
        "    num_train_epochs=9,\n",
        "    per_device_train_batch_size=16,\n",
        "    per_device_eval_batch_size=32,\n",
        "    learning_rate=3.3541e-05,\n",
        "    warmup_ratio=0.1135,\n",
        "    weight_decay=0.0256,\n",
        "    logging_dir='./news_bias_longformer_logs',  # 로그 디렉토리 이름 변경\n",
        "    logging_steps=100,\n",
        "    eval_strategy='epoch',\n",
        "    save_strategy='epoch',\n",
        "    load_best_model_at_end=True,\n",
        "    metric_for_best_model='party_f1',  # 평가 메트릭 이름 변경\n",
        "    gradient_accumulation_steps=3,  # 그래디언트 누적\n",
        "    max_grad_norm=0.7155,  # 그래디언트 클리핑\n",
        "    fp16=True,  # 혼합 정밀도 학습\n",
        "    label_smoothing_factor=0.0672,  # 레이블 스무딩\n",
        "    optim='adamw_torch',  # AdamW 옵티마이저 사용\n",
        "    lr_scheduler_type='cosine'\n",
        ")\n",
        "\n",
        "# 트레이너 초기화\n",
        "trainer = Trainer(\n",
        "    model=model,\n",
        "    args=training_args,\n",
        "    train_dataset=train_dataset,\n",
        "    eval_dataset=val_dataset,\n",
        "    data_collator=data_collator,\n",
        "    compute_metrics=compute_metrics,\n",
        "    callbacks=[EarlyStoppingCallback(early_stopping_patience=3, early_stopping_threshold=0.001)]\n",
        ")"
      ]
    },
    {
      "cell_type": "markdown",
      "metadata": {
        "id": "jLe9nQhxrGOl"
      },
      "source": [
        "## 5. 학습 및 평가"
      ]
    },
    {
      "cell_type": "code",
      "execution_count": null,
      "metadata": {
        "colab": {
          "base_uri": "https://localhost:8080/",
          "height": 390
        },
        "id": "WbIU-kBrrGOl",
        "outputId": "1f8fe94e-25de-4ba1-d1e0-f759a467c9b6"
      },
      "outputs": [],
      "source": [
        "# 학습 실행\n",
        "trainer.train()\n",
        "\n",
        "# 최종 평가\n",
        "final_metrics = trainer.evaluate()\n",
        "print(\"\\n최종 평가 결과:\")\n",
        "print(f\"정당 분류 F1 점수: {final_metrics['eval_party_f1']:.4f}\")\n",
        "print(f\"정당 분류 정확도: {final_metrics['eval_party_accuracy']:.4f}\")"
      ]
    },
    {
      "cell_type": "code",
      "execution_count": null,
      "metadata": {
        "colab": {
          "base_uri": "https://localhost:8080/",
          "height": 112
        },
        "id": "0zU7U1pRrGOl",
        "outputId": "2db0550d-b27d-4f94-8c16-f927d0fd0026"
      },
      "outputs": [],
      "source": [
        "# 베이스라인과 성능 비교\n",
        "comparison_results = {\n",
        "    'Model': ['Baseline', 'News Bias BERT'],  # 모델 이름 변경\n",
        "    'Party F1': [baseline_results['party_f1'], final_metrics['eval_party_f1']],  # 메트릭 이름 변경\n",
        "    'Party Accuracy': [baseline_results['party_accuracy'], final_metrics['eval_party_accuracy']],  # 메트릭 이름 변경\n",
        "}\n",
        "\n",
        "comparison_df = pd.DataFrame(comparison_results)\n",
        "comparison_df.to_csv('./news_bias_results/model_comparison.csv', index=False)  # 저장 경로 변경\n",
        "comparison_df.head()"
      ]
    },
    {
      "cell_type": "code",
      "execution_count": null,
      "metadata": {
        "colab": {
          "base_uri": "https://localhost:8080/",
          "height": 564
        },
        "id": "d58HDhqPrGOl",
        "outputId": "3f86cc3f-73a3-4a45-92c1-d00f4891c50b"
      },
      "outputs": [],
      "source": [
        "# 성능 향상 시각화\n",
        "plt.figure(figsize=(12, 6))\n",
        "metrics = ['Party F1', 'Party Accuracy']  # 메트릭 이름 변경\n",
        "x = np.arange(len(metrics))\n",
        "width = 0.35\n",
        "\n",
        "plt.bar(x - width/2, comparison_df.iloc[0, 1:], width, label='Baseline')\n",
        "plt.bar(x + width/2, comparison_df.iloc[1, 1:], width, label='News Bias BERT')  # 모델 이름 변경\n",
        "\n",
        "plt.xlabel('Metrics')\n",
        "plt.ylabel('Score')\n",
        "plt.title('Model Performance Comparison')\n",
        "plt.xticks(x, metrics)\n",
        "plt.legend()\n",
        "\n",
        "plt.savefig('./news_bias_results/performance_comparison.png')  # 저장 경로 변경\n",
        "plt.show()"
      ]
    },
    {
      "cell_type": "markdown",
      "metadata": {
        "id": "ugrzbdzaYDx_"
      },
      "source": [
        "## 6. 하이퍼파라미터 튜닝"
      ]
    },
    {
      "cell_type": "code",
      "execution_count": null,
      "metadata": {
        "collapsed": true,
        "id": "wbQAOmXzaOeu"
      },
      "outputs": [],
      "source": [
        "!pip install optuna\n",
        "!pip install optuna-integration[pytorch_lightning]  # 설치 후 세션을 다시 시작해야 함"
      ]
    },
    {
      "cell_type": "code",
      "execution_count": 15,
      "metadata": {
        "collapsed": true,
        "id": "qfJ6GSaRYGXr"
      },
      "outputs": [],
      "source": [
        "import optuna\n",
        "from optuna.integration import PyTorchLightningPruningCallback\n",
        "from sklearn.model_selection import KFold"
      ]
    },
    {
      "cell_type": "code",
      "execution_count": 16,
      "metadata": {
        "id": "MWUVlAd1YHuh"
      },
      "outputs": [],
      "source": [
        "def objective(trial):\n",
        "    # 하이퍼파라미터 정의\n",
        "    params = {\n",
        "        'learning_rate': trial.suggest_float('learning_rate', 1e-6, 1e-4, log=True),\n",
        "        'weight_decay': trial.suggest_float('weight_decay', 0.01, 0.04),\n",
        "        'dropout_rate': trial.suggest_float('dropout_rate', 0.1, 0.3),\n",
        "        'hidden_size': trial.suggest_int('hidden_size', 256, 1024),\n",
        "        'num_epochs': trial.suggest_int('num_epochs', 5, 15),\n",
        "        'batch_size': trial.suggest_categorical('batch_size', [16, 32, 64]),\n",
        "        'warmup_ratio': trial.suggest_float('warmup_ratio', 0.1, 0.2),\n",
        "        'label_smoothing': trial.suggest_float('label_smoothing', 0.05, 0.10),\n",
        "        'gradient_accumulation_steps': trial.suggest_int('gradient_accumulation_steps', 1, 4),\n",
        "        'max_grad_norm': trial.suggest_float('max_grad_norm', 0.5, 1.0)\n",
        "    }\n",
        "\n",
        "    # K-fold 교차 검증\n",
        "    kf = KFold(n_splits=5, shuffle=True, random_state=42)\n",
        "    scores = []\n",
        "\n",
        "    for fold, (train_idx, val_idx) in enumerate(kf.split(df)):\n",
        "        # 데이터 분할\n",
        "        train_texts = df.iloc[train_idx]['text'].values\n",
        "        val_texts = df.iloc[val_idx]['text'].values\n",
        "        train_labels = df.iloc[train_idx]['party_label'].values\n",
        "        val_labels = df.iloc[val_idx]['party_label'].values\n",
        "\n",
        "        # 데이터셋 생성\n",
        "        train_dataset = NewsDataset(train_texts, train_labels, tokenizer)\n",
        "        val_dataset = NewsDataset(val_texts, val_labels, tokenizer)\n",
        "\n",
        "        # 모델 초기화\n",
        "        model = NewsBiasModel(\n",
        "            'klue/roberta-base',\n",
        "            class_weights=class_weights,\n",
        "            dropout_rate=params['dropout_rate'],\n",
        "            hidden_size=params['hidden_size']\n",
        "        )\n",
        "        model = model.to(device)\n",
        "\n",
        "        # 학습 인자 설정\n",
        "        training_args = TrainingArguments(\n",
        "            output_dir='./temp_results',\n",
        "            num_train_epochs=params['num_epochs'],\n",
        "            per_device_train_batch_size=params['batch_size'],\n",
        "            per_device_eval_batch_size=params['batch_size'] * 2,\n",
        "            learning_rate=params['learning_rate'],\n",
        "            warmup_ratio=params['warmup_ratio'],\n",
        "            weight_decay=params['weight_decay'],\n",
        "            logging_dir='./temp_logs',\n",
        "            logging_steps=100,\n",
        "            eval_strategy='epoch',\n",
        "            save_strategy='no',\n",
        "            load_best_model_at_end=False,\n",
        "            save_total_limit=0,\n",
        "            metric_for_best_model='party_f1',\n",
        "            gradient_accumulation_steps=params['gradient_accumulation_steps'],\n",
        "            max_grad_norm=params['max_grad_norm'],\n",
        "            fp16=True,\n",
        "            label_smoothing_factor=params['label_smoothing'],\n",
        "            optim='adamw_torch',\n",
        "            lr_scheduler_type='cosine'\n",
        "        )\n",
        "\n",
        "        # 트레이너 초기화\n",
        "        trainer = Trainer(\n",
        "            model=model,\n",
        "            args=training_args,\n",
        "            train_dataset=train_dataset,\n",
        "            eval_dataset=val_dataset,\n",
        "            data_collator=DataCollatorWithPadding(tokenizer=tokenizer),\n",
        "            compute_metrics=compute_metrics,\n",
        "            callbacks=[\n",
        "                EarlyStoppingCallback(\n",
        "                    early_stopping_patience=3,\n",
        "                    early_stopping_threshold=0.001\n",
        "                )\n",
        "            ]\n",
        "        )\n",
        "\n",
        "        # 학습\n",
        "        trainer.train()\n",
        "\n",
        "        # 평가\n",
        "        metrics = trainer.evaluate()\n",
        "        scores.append(metrics['eval_party_f1'])\n",
        "\n",
        "    # 평균 F1 점수 반환\n",
        "    return np.mean(scores)"
      ]
    },
    {
      "cell_type": "code",
      "execution_count": null,
      "metadata": {
        "collapsed": true,
        "id": "6z9yp8h6YIuQ"
      },
      "outputs": [],
      "source": [
        "# Optuna 스터디 생성 및 최적화 실행\n",
        "study = optuna.create_study(direction='maximize')\n",
        "study.optimize(objective, n_trials=20)  # 20회 시도\n",
        "\n",
        "# 최적의 하이퍼파라미터 출력\n",
        "print(\"Best trial:\")\n",
        "trial = study.best_trial\n",
        "print(\"  Value: \", trial.value)\n",
        "print(\"  Params: \")\n",
        "for key, value in trial.params.items():\n",
        "    print(f\"    {key}: {value}\")"
      ]
    },
    {
      "cell_type": "code",
      "execution_count": null,
      "metadata": {
        "id": "YNFgAwDb0-B5"
      },
      "outputs": [],
      "source": [
        "# 모든 trial의 결과를 DataFrame으로 저장\n",
        "trials_df = study.trials_dataframe()\n",
        "trials_df.to_csv('hyperparameter_trials.csv', index=False)\n",
        "trials_df.head()"
      ]
    },
    {
      "cell_type": "code",
      "execution_count": null,
      "metadata": {
        "colab": {
          "base_uri": "https://localhost:8080/"
        },
        "id": "GsSRPeZz-ZUv",
        "outputId": "21a897d6-c16d-49ed-ea21-2725dc297652"
      },
      "outputs": [],
      "source": [
        "print(trials_df.sort_values(by='value', ascending=False).iloc[0])"
      ]
    },
    {
      "cell_type": "code",
      "execution_count": 18,
      "metadata": {
        "id": "ljdiFvXNYJ5K"
      },
      "outputs": [],
      "source": [
        "# 최적의 하이퍼파라미터로 모델 학습\n",
        "best_params = trial.params"
      ]
    },
    {
      "cell_type": "code",
      "execution_count": null,
      "metadata": {
        "colab": {
          "base_uri": "https://localhost:8080/"
        },
        "id": "zpus7GUg-luX",
        "outputId": "015f7be1-6ba4-46c0-96e8-546298604274"
      },
      "outputs": [],
      "source": [
        "best_params"
      ]
    },
    {
      "cell_type": "markdown",
      "metadata": {
        "id": "9XeA16CVrGOl"
      },
      "source": [
        "## 7. 모델 저장 및 로드"
      ]
    },
    {
      "cell_type": "code",
      "execution_count": 24,
      "metadata": {
        "id": "IIz33sUorGOl"
      },
      "outputs": [],
      "source": [
        "# 모델 저장\n",
        "trainer.save_model('./news_bias_longformer_model')\n",
        "tokenizer.save_pretrained('./news_bias_longformer_model')\n",
        "\n",
        "# 모델 로드\n",
        "def load_model(model_path):\n",
        "    model = NewsBiasModel('allenai/longformer-base-4096')\n",
        "    model.load_state_dict(torch.load(f'{model_path}/pytorch_model.bin'))\n",
        "    tokenizer = AutoTokenizer.from_pretrained(model_path)\n",
        "    return model, tokenizer"
      ]
    },
    {
      "cell_type": "markdown",
      "metadata": {
        "id": "aordROJsrGOm"
      },
      "source": [
        "## 8. 새로운 기사에 대한 예측"
      ]
    },
    {
      "cell_type": "code",
      "execution_count": null,
      "metadata": {
        "id": "avCnDvgPrGOm"
      },
      "outputs": [],
      "source": [
        "def predict_news(text, model, tokenizer, device):\n",
        "    model.eval()\n",
        "    encoding = tokenizer(\n",
        "        text,\n",
        "        add_special_tokens=True,\n",
        "        max_length=1600,\n",
        "        padding='max_length',\n",
        "        truncation=True,\n",
        "        return_tensors='pt'\n",
        "    )\n",
        "\n",
        "    input_ids = encoding['input_ids'].to(device)\n",
        "    attention_mask = encoding['attention_mask'].to(device)\n",
        "\n",
        "    with torch.no_grad():\n",
        "        outputs = model(input_ids=input_ids, attention_mask=attention_mask)\n",
        "        party_pred = torch.argmax(outputs['party_logits'], dim=1).item()\n",
        "\n",
        "    # 정당 레이블 매핑\n",
        "    party_mapping = {0: '국민의힘', 1: '민주당', 2: '그외'}\n",
        "    return party_mapping[party_pred]  # 숫자 레이블을 정당 이름으로 변환하여 반환"
      ]
    },
    {
      "cell_type": "code",
      "execution_count": null,
      "metadata": {
        "id": "ibTpkLVDrGOm"
      },
      "outputs": [],
      "source": [
        "def predict_csv_file(csv_path, model, tokenizer, device):\n",
        "    # CSV 파일 로드\n",
        "    df = pd.read_csv(csv_path)\n",
        "\n",
        "    # 예측 결과를 저장할 리스트\n",
        "    party_predictions = []\n",
        "\n",
        "    # 각 텍스트에 대해 예측 수행\n",
        "    for text in tqdm(df['text'], desc=\"Predicting\"):\n",
        "        party_pred = predict_news(text, model, tokenizer, device)\n",
        "        party_predictions.append(party_pred)\n",
        "\n",
        "    # 예측 결과를 DataFrame에 추가\n",
        "    df['party'] = party_predictions\n",
        "\n",
        "    # 결과 저장\n",
        "    output_path = csv_path.replace('.csv', '_predicted.csv')\n",
        "    df.to_csv(output_path, index=False)\n",
        "\n",
        "    # 예측 결과 통계 출력\n",
        "    print(f\"\\n{csv_path} 예측 결과:\")\n",
        "    print(\"\\n정당 예측 분포:\")\n",
        "    print(df['party'].value_counts())\n",
        "\n",
        "    return df"
      ]
    },
    {
      "cell_type": "code",
      "execution_count": null,
      "metadata": {
        "id": "yYk-VBuGrGOm"
      },
      "outputs": [],
      "source": [
        "# 모델 로드\n",
        "model, tokenizer = load_model('./news_bias_longformer_model')  # 모델 경로 변경\n",
        "device = torch.device('cuda' if torch.cuda.is_available() else 'cpu')\n",
        "model = model.to(device)\n",
        "\n",
        "# CSV 파일 예측\n",
        "csv_path = \"../data/전체1.csv\"  # 여기에 실제 CSV 파일 경로를 입력하시면 됩니다\n",
        "predicted_df = predict_csv_file(csv_path, model, tokenizer, device)\n",
        "predicted_df.head()"
      ]
    },
    {
      "cell_type": "code",
      "execution_count": null,
      "metadata": {
        "id": "nLvrKe7rrGOm"
      },
      "outputs": [],
      "source": [
        "# 저장\n",
        "predicted_df.to_csv(csv_path, index=False)"
      ]
    }
  ],
  "metadata": {
    "accelerator": "GPU",
    "colab": {
      "gpuType": "A100",
      "machine_shape": "hm",
      "provenance": []
    },
    "kernelspec": {
      "display_name": "base",
      "language": "python",
      "name": "python3"
    },
    "language_info": {
      "codemirror_mode": {
        "name": "ipython",
        "version": 3
      },
      "file_extension": ".py",
      "mimetype": "text/x-python",
      "name": "python",
      "nbconvert_exporter": "python",
      "pygments_lexer": "ipython3",
      "version": "3.12.3"
    }
  },
  "nbformat": 4,
  "nbformat_minor": 0
}
