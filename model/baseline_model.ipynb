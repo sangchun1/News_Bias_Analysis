{
 "cells": [
  {
   "cell_type": "markdown",
   "metadata": {},
   "source": [
    "# 뉴스 편향성 분석 - 베이스라인 모델\n",
    "\n",
    "이 노트북은 뉴스 기사의 편향성과 감성을 분석하는 베이스라인 모델을 구현합니다.\n",
    "TF-IDF + Logistic Regression을 사용하여 기본적인 성능을 측정합니다."
   ]
  },
  {
   "cell_type": "code",
   "execution_count": 1,
   "metadata": {},
   "outputs": [],
   "source": [
    "# 필요한 라이브러리 임포트\n",
    "import pandas as pd\n",
    "import numpy as np\n",
    "from sklearn.feature_extraction.text import TfidfVectorizer\n",
    "from sklearn.linear_model import LogisticRegression\n",
    "from sklearn.pipeline import Pipeline\n",
    "from sklearn.metrics import classification_report\n",
    "from sklearn.model_selection import train_test_split\n",
    "from tqdm import tqdm\n",
    "import matplotlib.pyplot as plt\n",
    "import seaborn as sns"
   ]
  },
  {
   "cell_type": "markdown",
   "metadata": {},
   "source": [
    "## 1. 데이터 로드 및 전처리"
   ]
  },
  {
   "cell_type": "code",
   "execution_count": 2,
   "metadata": {},
   "outputs": [
    {
     "name": "stdout",
     "output_type": "stream",
     "text": [
      "전체 데이터 수: 1025\n",
      "\n",
      "정당별 기사 수:\n",
      "party\n",
      "그외      430\n",
      "민주당     320\n",
      "국민의힘    275\n",
      "Name: count, dtype: int64\n",
      "\n",
      "정당 레이블 분포:\n",
      "party_label\n",
      "2    430\n",
      "1    320\n",
      "0    275\n",
      "Name: count, dtype: int64\n"
     ]
    }
   ],
   "source": [
    "# 데이터 로드\n",
    "df = pd.read_csv('../data/정당_관점_라벨링_최종_업데이트.csv')\n",
    "\n",
    "# 정당 레이블 매핑\n",
    "party_mapping = {'국민의힘': 0, '민주당': 1, '그외': 2}\n",
    "\n",
    "# 정당 레이블 변환\n",
    "df['party_label'] = df['party'].map(party_mapping)\n",
    "\n",
    "# NaN 값 처리\n",
    "df = df.dropna(subset=['title_cleaned', 'content_cleaned', 'party_label'])\n",
    "\n",
    "# 제목과 본문 결합\n",
    "df['text'] = df['title_cleaned'] + ' ' + df['content_cleaned']\n",
    "\n",
    "print(f\"전체 데이터 수: {len(df)}\")\n",
    "print(\"\\n정당별 기사 수:\")\n",
    "print(df['party'].value_counts())\n",
    "print(\"\\n정당 레이블 분포:\")\n",
    "print(df['party_label'].value_counts())"
   ]
  },
  {
   "cell_type": "markdown",
   "metadata": {},
   "source": [
    "## 2. 베이스라인 모델 클래스 정의"
   ]
  },
  {
   "cell_type": "code",
   "execution_count": 3,
   "metadata": {},
   "outputs": [],
   "source": [
    "class BaselineModel:\n",
    "    \"\"\"\n",
    "    TF-IDF + Logistic Regression을 사용한 베이스라인 모델\n",
    "    \"\"\"\n",
    "    def __init__(self):\n",
    "        # 분석을 위한 파이프라인\n",
    "        self.party_pipeline = Pipeline([\n",
    "            ('tfidf', TfidfVectorizer(\n",
    "                max_features=5000,\n",
    "                ngram_range=(1, 2),\n",
    "                min_df=2,\n",
    "                max_df=0.95\n",
    "            )),\n",
    "            ('clf', LogisticRegression(\n",
    "                max_iter=1000,\n",
    "                class_weight='balanced',\n",
    "                random_state=42\n",
    "            ))\n",
    "        ])\n",
    "    \n",
    "    def train(self, train_texts, train_party_labels):\n",
    "        \"\"\"모델 학습\"\"\"\n",
    "        print(\"모델 학습 중...\")\n",
    "        self.party_pipeline.fit(train_texts, train_party_labels)\n",
    "        print(\"모델 학습 완료!\")\n",
    "    \n",
    "    def predict(self, texts):\n",
    "        \"\"\"예측 수행\"\"\"\n",
    "        party_preds = self.party_pipeline.predict(texts)\n",
    "        party_probs = self.party_pipeline.predict_proba(texts)\n",
    "        \n",
    "        return {\n",
    "            'party_preds': party_preds,\n",
    "            'party_probs': party_probs\n",
    "        }\n",
    "    \n",
    "    def evaluate(self, texts, true_party_labels):\n",
    "        \"\"\"모델 평가\"\"\"\n",
    "        party_preds = self.party_pipeline.predict(texts)\n",
    "        party_report = classification_report(\n",
    "            true_party_labels, \n",
    "            party_preds, \n",
    "            target_names=['국민의힘', '민주당', '그외'],\n",
    "            output_dict=True\n",
    "        )\n",
    "        \n",
    "        return {\n",
    "            'party_report': party_report\n",
    "        }"
   ]
  },
  {
   "cell_type": "markdown",
   "metadata": {},
   "source": [
    "## 3. 모델 학습 및 평가"
   ]
  },
  {
   "cell_type": "code",
   "execution_count": 4,
   "metadata": {},
   "outputs": [],
   "source": [
    "# 데이터 분할\n",
    "train_df, val_df = train_test_split(df, test_size=0.2, random_state=42)"
   ]
  },
  {
   "cell_type": "code",
   "execution_count": 5,
   "metadata": {},
   "outputs": [
    {
     "name": "stdout",
     "output_type": "stream",
     "text": [
      "모델 학습 중...\n",
      "모델 학습 완료!\n"
     ]
    }
   ],
   "source": [
    "# 베이스라인 모델 초기화 및 학습\n",
    "baseline_model = BaselineModel()\n",
    "baseline_model.train(\n",
    "    train_df['text'].values,\n",
    "    train_df['party_label'].values\n",
    ")"
   ]
  },
  {
   "cell_type": "code",
   "execution_count": 6,
   "metadata": {},
   "outputs": [
    {
     "name": "stdout",
     "output_type": "stream",
     "text": [
      "\n",
      "베이스라인 모델 성능:\n",
      "\n",
      "분석 결과:\n",
      "F1 점수: 0.6406\n",
      "정확도: 0.6439\n"
     ]
    }
   ],
   "source": [
    "# 검증 데이터로 평가\n",
    "results = baseline_model.evaluate(\n",
    "    val_df['text'].values,\n",
    "    val_df['party_label'].values\n",
    ")\n",
    "\n",
    "# 결과 출력\n",
    "print(\"\\n베이스라인 모델 성능:\")\n",
    "print(\"\\n분석 결과:\")\n",
    "print(f\"F1 점수: {results['party_report']['weighted avg']['f1-score']:.4f}\")\n",
    "print(f\"정확도: {results['party_report']['accuracy']:.4f}\")"
   ]
  },
  {
   "cell_type": "markdown",
   "metadata": {},
   "source": [
    "## 4. 결과 저장 및 시각화"
   ]
  },
  {
   "cell_type": "code",
   "execution_count": 7,
   "metadata": {},
   "outputs": [],
   "source": [
    "# 결과 저장\n",
    "baseline_results = {\n",
    "    'party_f1': results['party_report']['weighted avg']['f1-score'],\n",
    "    'party_accuracy': results['party_report']['accuracy']\n",
    "}\n",
    "\n",
    "pd.DataFrame([baseline_results]).to_csv('./baseline_results/baseline_results.csv', index=False)"
   ]
  },
  {
   "cell_type": "code",
   "execution_count": 8,
   "metadata": {},
   "outputs": [
    {
     "data": {
      "image/png": "[encoded data removed]",
      "text/plain": [
       "<Figure size 800x600 with 1 Axes>"
      ]
     },
     "metadata": {},
     "output_type": "display_data"
    }
   ],
   "source": [
    "# 결과 시각화\n",
    "plt.figure(figsize=(8, 6))\n",
    "party_metrics = ['F1 Score', 'Accuracy']\n",
    "party_values = [results['party_report']['weighted avg']['f1-score'], \n",
    "                results['party_report']['accuracy']]\n",
    "plt.bar(party_metrics, party_values)\n",
    "plt.title('Party Classification Performance')\n",
    "plt.ylim(0, 1)\n",
    "plt.tight_layout()\n",
    "plt.savefig('./baseline_results/baseline_performance.png')\n",
    "plt.show()"
   ]
  }
 ],
 "metadata": {
  "kernelspec": {
   "display_name": "base",
   "language": "python",
   "name": "python3"
  },
  "language_info": {
   "codemirror_mode": {
    "name": "ipython",
    "version": 3
   },
   "file_extension": ".py",
   "mimetype": "text/x-python",
   "name": "python",
   "nbconvert_exporter": "python",
   "pygments_lexer": "ipython3",
   "version": "3.12.3"
  }
 },
 "nbformat": 4,
 "nbformat_minor": 4
}
