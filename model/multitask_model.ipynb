{
  "cells": [
    {
      "cell_type": "markdown",
      "metadata": {
        "id": "FQP17VyYrGOd"
      },
      "source": [
        "# 뉴스 편향성 분석 모델\n",
        "\n",
        "이 노트북은 뉴스 기사의 민주당과 국힘에 대한 편향성을 분석하는 딥러닝 모델을 구현합니다."
      ]
    },
    {
      "cell_type": "code",
      "execution_count": 43,
      "metadata": {
        "id": "GKX5JlcJrGOf"
      },
      "outputs": [],
      "source": [
        "import pandas as pd\n",
        "import numpy as np\n",
        "import torch\n",
        "from torch.utils.data import Dataset, DataLoader\n",
        "from transformers import (\n",
        "    AutoTokenizer,\n",
        "    AutoModel,\n",
        "    Trainer,\n",
        "    TrainingArguments,\n",
        "    EarlyStoppingCallback,\n",
        "    DataCollatorWithPadding\n",
        ")\n",
        "from sklearn.model_selection import train_test_split\n",
        "from sklearn.metrics import classification_report, f1_score\n",
        "from sklearn.utils.class_weight import compute_class_weight\n",
        "import matplotlib.pyplot as plt\n",
        "import seaborn as sns\n",
        "from tqdm import tqdm"
      ]
    },
    {
      "cell_type": "code",
      "execution_count": 44,
      "metadata": {
        "colab": {
          "base_uri": "https://localhost:8080/"
        },
        "id": "VuCOajc7ro6C",
        "outputId": "fb6f153b-12ea-4fcc-c409-149787aa3fa1"
      },
      "outputs": [
        {
          "name": "stdout",
          "output_type": "stream",
          "text": [
            "Drive already mounted at /content/drive; to attempt to forcibly remount, call drive.mount(\"/content/drive\", force_remount=True).\n"
          ]
        }
      ],
      "source": [
        "from google.colab import drive\n",
        "drive.mount('/content/drive')"
      ]
    },
    {
      "cell_type": "markdown",
      "metadata": {
        "id": "l2Ve1yObrGOh"
      },
      "source": [
        "## 1. 데이터 로드 및 전처리"
      ]
    },
    {
      "cell_type": "code",
      "execution_count": 45,
      "metadata": {
        "id": "9NxpMI4yrGOh"
      },
      "outputs": [],
      "source": [
        "# 베이스라인 결과 로드\n",
        "baseline_results = pd.read_csv('/content/drive/MyDrive/텍스트데이터분석을 위한 딥러닝/팀프로젝트/baseline_results/baseline_results.csv').iloc[0]"
      ]
    },
    {
      "cell_type": "code",
      "execution_count": 46,
      "metadata": {
        "colab": {
          "base_uri": "https://localhost:8080/"
        },
        "id": "G-KM2_bTrGOh",
        "outputId": "f1a5726b-f46b-49ed-b45b-4565c1f26c31"
      },
      "outputs": [
        {
          "name": "stdout",
          "output_type": "stream",
          "text": [
            "전체 데이터 수: 400\n",
            "\n",
            "정당별 기사 수:\n",
            "party\n",
            "민주당     200\n",
            "국민의힘    200\n",
            "Name: count, dtype: int64\n",
            "\n",
            "스탠스 분포:\n",
            "stance_label\n",
            "1    216\n",
            "2    148\n",
            "0     36\n",
            "Name: count, dtype: int64\n"
          ]
        }
      ],
      "source": [
        "# 데이터 로드\n",
        "df = pd.read_csv('/content/drive/MyDrive/텍스트데이터분석을 위한 딥러닝/팀프로젝트/data/라벨링_자동분류결과.csv')\n",
        "\n",
        "# 스탠스 레이블 매핑\n",
        "stance_mapping = {'우호': 0, '중립': 1, '비판': 2}\n",
        "\n",
        "# 스탠스 레이블 변환\n",
        "df['stance_label'] = df['auto_label'].map(stance_mapping)\n",
        "\n",
        "# NaN 값 처리\n",
        "df = df.dropna(subset=['text', 'stance_label'])\n",
        "\n",
        "print(f\"전체 데이터 수: {len(df)}\")\n",
        "print(\"\\n정당별 기사 수:\")\n",
        "print(df['party'].value_counts())\n",
        "print(\"\\n스탠스 분포:\")\n",
        "print(df['stance_label'].value_counts())"
      ]
    },
    {
      "cell_type": "markdown",
      "metadata": {
        "id": "2w5Vfl0FrGOi"
      },
      "source": [
        "## 2. 데이터셋 클래스 정의"
      ]
    },
    {
      "cell_type": "code",
      "execution_count": 47,
      "metadata": {
        "id": "oPSBBP7zrGOi"
      },
      "outputs": [],
      "source": [
        "class NewsDataset(Dataset):\n",
        "    def __init__(self, texts, stance_labels, tokenizer, max_length=512):\n",
        "        self.texts = texts\n",
        "        self.stance_labels = stance_labels\n",
        "        self.tokenizer = tokenizer\n",
        "        self.max_length = max_length\n",
        "\n",
        "    def __len__(self):\n",
        "        return len(self.texts)\n",
        "\n",
        "    def __getitem__(self, idx):\n",
        "        text = str(self.texts[idx])\n",
        "        encoding = self.tokenizer(\n",
        "            text,\n",
        "            add_special_tokens=True,\n",
        "            max_length=self.max_length,\n",
        "            padding='max_length',\n",
        "            truncation=True,\n",
        "            return_tensors='pt'\n",
        "        )\n",
        "\n",
        "        # 텐서 차원 조정\n",
        "        input_ids = encoding['input_ids'].squeeze(0)  # [max_length]\n",
        "        attention_mask = encoding['attention_mask'].squeeze(0)  # [max_length]\n",
        "\n",
        "        return {\n",
        "            'input_ids': input_ids,\n",
        "            'attention_mask': attention_mask,\n",
        "            'stance_label': torch.tensor(self.stance_labels[idx], dtype=torch.long)\n",
        "        }"
      ]
    },
    {
      "cell_type": "markdown",
      "metadata": {
        "id": "77WSb_bCrGOi"
      },
      "source": [
        "## 3. 모델 정의"
      ]
    },
    {
      "cell_type": "code",
      "execution_count": 48,
      "metadata": {
        "id": "tVNpa6dtrGOi"
      },
      "outputs": [],
      "source": [
        "class MultiTaskNewsModel(torch.nn.Module):\n",
        "    def __init__(self, model_name, num_stance_labels=3, num_sentiment_labels=3, mask_token_id=50264, class_weights=None):\n",
        "        super().__init__()\n",
        "        # 기본 모델 로드\n",
        "        self.bert = AutoModel.from_pretrained(model_name)\n",
        "        self.mask_token_id = mask_token_id\n",
        "        self.register_buffer(\"class_weights\", torch.tensor(class_weights, dtype=torch.float))\n",
        "\n",
        "        # 드롭아웃 레이어\n",
        "        self.dropout = torch.nn.Dropout(0.2)\n",
        "\n",
        "        # 공통 특성 추출 레이어\n",
        "        hidden_size = self.bert.config.hidden_size\n",
        "        self.shared_layer = torch.nn.Linear(hidden_size, 256)\n",
        "        self.activation = torch.nn.ReLU()\n",
        "\n",
        "        # 스탠스 분류기\n",
        "        self.stance_classifier = torch.nn.Sequential(\n",
        "            torch.nn.Linear(256, 128),\n",
        "            torch.nn.ReLU(),\n",
        "            torch.nn.Dropout(0.1),\n",
        "            torch.nn.Linear(128, num_stance_labels)\n",
        "        )\n",
        "\n",
        "        # 감성 분류기\n",
        "        self.sentiment_classifier = torch.nn.Sequential(\n",
        "            torch.nn.Linear(256, 128),\n",
        "            torch.nn.ReLU(),\n",
        "            torch.nn.Dropout(0.1),\n",
        "            torch.nn.Linear(128, num_sentiment_labels)\n",
        "        )\n",
        "\n",
        "        # 감성 손실 계산용 vocab projection 레이어\n",
        "        self.sentiment_vocab_projection = torch.nn.Linear(hidden_size, self.bert.config.vocab_size)\n",
        "\n",
        "        # 모델 가중치 초기화\n",
        "        self._init_weights()\n",
        "\n",
        "    def _init_weights(self):\n",
        "        \"\"\"모델 가중치 초기화\"\"\"\n",
        "        for module in [self.shared_layer, self.stance_classifier, self.sentiment_classifier]:\n",
        "            for m in module.modules():\n",
        "                if isinstance(m, torch.nn.Linear):\n",
        "                    torch.nn.init.xavier_uniform_(m.weight)\n",
        "                    if m.bias is not None:\n",
        "                        torch.nn.init.zeros_(m.bias)\n",
        "\n",
        "    def forward(self, input_ids, attention_mask, stance_label=None):\n",
        "        # BERT 출력\n",
        "        outputs = self.bert(input_ids=input_ids, attention_mask=attention_mask)\n",
        "        pooled_output = outputs.last_hidden_state[:, 0, :]  # [CLS] 토큰\n",
        "\n",
        "        # 공통 특성 추출\n",
        "        shared_features = self.dropout(pooled_output)\n",
        "        shared_features = self.shared_layer(shared_features)\n",
        "        shared_features = self.activation(shared_features)\n",
        "\n",
        "        # 스탠스 예측\n",
        "        stance_logits = self.stance_classifier(shared_features)\n",
        "\n",
        "        # 감성 예측\n",
        "        sentiment_logits = self.sentiment_classifier(shared_features)\n",
        "\n",
        "        if stance_label is not None:\n",
        "            # 스탠스 손실 계산\n",
        "            loss_fct = torch.nn.CrossEntropyLoss(weight=self.class_weights)\n",
        "            stance_loss = loss_fct(stance_logits, stance_label)\n",
        "\n",
        "            # 감성 분석 손실 계산\n",
        "            sentiment_loss = self._compute_sentiment_loss(sentiment_logits, input_ids, attention_mask)\n",
        "\n",
        "            # 총 손실 계산\n",
        "            total_loss = stance_loss + 0.5 * sentiment_loss\n",
        "\n",
        "            return {\n",
        "                'loss': total_loss,\n",
        "                'stance_logits': stance_logits,\n",
        "                'sentiment_logits': sentiment_logits\n",
        "            }\n",
        "\n",
        "        return {\n",
        "            'stance_logits': stance_logits,\n",
        "            'sentiment_logits': sentiment_logits\n",
        "        }\n",
        "\n",
        "    def _compute_sentiment_loss(self, sentiment_logits, input_ids, attention_mask):\n",
        "        \"\"\"단순화된 감성 분석 손실 계산\"\"\"\n",
        "        try:\n",
        "            # 마스킹된 입력 생성\n",
        "            masked_input_ids = input_ids.clone()\n",
        "            mask_prob = 0.15\n",
        "\n",
        "            # 마스킹 마스크 생성 (패딩 토큰 제외)\n",
        "            mask_mask = torch.rand_like(input_ids.float()) < mask_prob\n",
        "            mask_mask = mask_mask & (attention_mask == 1)\n",
        "\n",
        "            if not mask_mask.any():\n",
        "                return torch.tensor(0.0, device=input_ids.device)\n",
        "\n",
        "            # 마스킹 적용\n",
        "            mask_token_id = self.mask_token_id\n",
        "            masked_input_ids[mask_mask] = mask_token_id\n",
        "\n",
        "            # 마스킹된 입력에 대한 예측\n",
        "            # 입력 텐서의 차원 확인 및 조정\n",
        "            if len(masked_input_ids.shape) == 1:\n",
        "                masked_input_ids = masked_input_ids.unsqueeze(0)\n",
        "            if len(attention_mask.shape) == 1:\n",
        "                attention_mask = attention_mask.unsqueeze(0)\n",
        "\n",
        "            # BERT 모델에 입력\n",
        "            masked_outputs = self.bert(\n",
        "                input_ids=masked_input_ids,\n",
        "                attention_mask=attention_mask,\n",
        "                return_dict=True\n",
        "            )\n",
        "\n",
        "            # 마스킹된 위치의 로짓 추출\n",
        "            last_hidden_state = masked_outputs.last_hidden_state  # [batch_size, seq_len, hidden_size]\n",
        "            masked_positions = mask_mask.nonzero(as_tuple=True)  # (batch_indices, seq_indices)\n",
        "\n",
        "            # 마스킹된 위치의 로짓만 추출\n",
        "            masked_logits = last_hidden_state[masked_positions]  # [num_masked, hidden_size]\n",
        "\n",
        "            # 원본 입력과의 차이를 손실로 사용\n",
        "            target_ids = input_ids[mask_mask]  # [num_masked]\n",
        "\n",
        "            # 로짓을 어휘 크기에 맞게 변환\n",
        "            vocab_size = self.bert.config.vocab_size\n",
        "\n",
        "            # 로짓 투사 후 CrossEntropyLoss 계산\n",
        "            masked_logits = self.sentiment_vocab_projection(masked_logits)\n",
        "\n",
        "            # 라벨 범위 검증\n",
        "            assert torch.max(target_ids) < vocab_size, f\"target_id max {torch.max(target_ids)} >= vocab size {vocab_size}\"\n",
        "            assert torch.min(target_ids) >= 0, f\"target_id min {torch.min(target_ids)} < 0\"\n",
        "\n",
        "            # 손실 계산\n",
        "            loss_fct = torch.nn.CrossEntropyLoss()\n",
        "            sentiment_loss = loss_fct(masked_logits, target_ids)\n",
        "\n",
        "            return sentiment_loss\n",
        "\n",
        "        except Exception as e:\n",
        "            print(f\"감성 분석 손실 계산 중 오류 발생: {str(e)}\")\n",
        "            return torch.tensor(0.0, device=input_ids.device)"
      ]
    },
    {
      "cell_type": "markdown",
      "metadata": {
        "id": "qej8WSW-rGOj"
      },
      "source": [
        "## 4. 학습 준비"
      ]
    },
    {
      "cell_type": "code",
      "execution_count": 49,
      "metadata": {
        "id": "lAGRBPcCrGOj"
      },
      "outputs": [],
      "source": [
        "# 데이터 분할\n",
        "train_texts, val_texts, train_party_labels, val_party_labels, train_stance_labels, val_stance_labels = train_test_split(\n",
        "    df['text'].values,\n",
        "    df['party'].values,\n",
        "    df['stance_label'].values,\n",
        "    test_size=0.1,\n",
        "    random_state=42\n",
        ")"
      ]
    },
    {
      "cell_type": "code",
      "execution_count": 50,
      "metadata": {
        "id": "LSNgVIrzrGOk"
      },
      "outputs": [],
      "source": [
        "# 토크나이저 초기화\n",
        "tokenizer = AutoTokenizer.from_pretrained('klue/roberta-base')\n",
        "\n",
        "# 데이터셋 생성\n",
        "train_dataset = NewsDataset(train_texts, train_stance_labels, tokenizer)\n",
        "val_dataset = NewsDataset(val_texts, val_stance_labels, tokenizer)"
      ]
    },
    {
      "cell_type": "code",
      "execution_count": 51,
      "metadata": {
        "colab": {
          "base_uri": "https://localhost:8080/"
        },
        "id": "DuHA4ebdwhIt",
        "outputId": "f50f363a-d97a-4a0b-e854-461a25df331a"
      },
      "outputs": [
        {
          "name": "stdout",
          "output_type": "stream",
          "text": [
            "클래스 가중치: [3.87096774 0.6122449  0.90225564]\n"
          ]
        }
      ],
      "source": [
        "label_list = [example['stance_label'] for example in train_dataset]\n",
        "class_weights = compute_class_weight(\n",
        "    class_weight='balanced',\n",
        "    classes=np.array([0, 1, 2]),\n",
        "    y=np.array(label_list)\n",
        ")\n",
        "print(\"클래스 가중치:\", class_weights)"
      ]
    },
    {
      "cell_type": "code",
      "execution_count": 52,
      "metadata": {
        "colab": {
          "base_uri": "https://localhost:8080/"
        },
        "id": "8n9BGJBmrGOk",
        "outputId": "3d3eda63-359d-43eb-a9d9-f61d214180dd"
      },
      "outputs": [
        {
          "name": "stderr",
          "output_type": "stream",
          "text": [
            "Some weights of RobertaModel were not initialized from the model checkpoint at klue/roberta-base and are newly initialized: ['pooler.dense.bias', 'pooler.dense.weight']\n",
            "You should probably TRAIN this model on a down-stream task to be able to use it for predictions and inference.\n"
          ]
        }
      ],
      "source": [
        "# 모델 초기화\n",
        "device = torch.device('cuda' if torch.cuda.is_available() else 'cpu')\n",
        "\n",
        "# 모델 초기화 및 GPU 이동을 분리\n",
        "model = MultiTaskNewsModel('klue/roberta-base', mask_token_id=tokenizer.mask_token_id, class_weights=class_weights)\n",
        "model = model.to(device)\n",
        "\n",
        "# 커스텀 데이터 콜레이터\n",
        "data_collator = DataCollatorWithPadding(tokenizer=tokenizer)"
      ]
    },
    {
      "cell_type": "code",
      "execution_count": 56,
      "metadata": {
        "id": "kzPA2RwLrGOk"
      },
      "outputs": [],
      "source": [
        "def compute_metrics(eval_pred):\n",
        "    stance_preds, sentiment_preds = eval_pred.predictions\n",
        "    stance_labels = eval_pred.label_ids\n",
        "\n",
        "    stance_preds = np.argmax(stance_preds, axis=1)\n",
        "    sentiment_logits = torch.tensor(sentiment_preds, dtype=torch.float32)\n",
        "\n",
        "    stance_report = classification_report(\n",
        "        stance_labels,\n",
        "        stance_preds,\n",
        "        target_names=['우호', '중립', '비판'],\n",
        "        output_dict=True,\n",
        "        zero_division=0\n",
        "    )\n",
        "\n",
        "    # 감성 softmax 평균 출력용\n",
        "    sentiment_softmax = torch.nn.functional.softmax(sentiment_logits, dim=-1).numpy()\n",
        "    mean_sentiment = sentiment_softmax.mean(axis=0)  # 긍/중/부 평균 확률\n",
        "\n",
        "    return {\n",
        "        'stance_f1': stance_report['weighted avg']['f1-score'],\n",
        "        'stance_accuracy': stance_report['accuracy'],\n",
        "    }"
      ]
    },
    {
      "cell_type": "code",
      "execution_count": 60,
      "metadata": {
        "id": "K-2nkd1grGOk"
      },
      "outputs": [],
      "source": [
        "# 학습 인자 설정\n",
        "training_args = TrainingArguments(\n",
        "    output_dir='./multitask_results',\n",
        "    num_train_epochs=10,\n",
        "    per_device_train_batch_size=16,\n",
        "    per_device_eval_batch_size=32,\n",
        "    learning_rate=1e-5,\n",
        "    warmup_ratio=0.1,\n",
        "    weight_decay=0.05,\n",
        "    logging_dir='./multitask_logs',\n",
        "    logging_steps=100,\n",
        "    eval_strategy='epoch',\n",
        "    save_strategy='epoch',\n",
        "    load_best_model_at_end=True,\n",
        "    metric_for_best_model='stance_f1',\n",
        "    gradient_accumulation_steps=2,  # 그래디언트 누적\n",
        "    fp16=True,  # 혼합 정밀도 학습\n",
        "    label_smoothing_factor=0.1,  # 레이블 스무딩\n",
        "    optim='adamw_torch'  # AdamW 옵티마이저 사용\n",
        ")\n",
        "\n",
        "# 트레이너 초기화\n",
        "trainer = Trainer(\n",
        "    model=model,\n",
        "    args=training_args,\n",
        "    train_dataset=train_dataset,\n",
        "    eval_dataset=val_dataset,\n",
        "    data_collator=data_collator,\n",
        "    compute_metrics=compute_metrics,\n",
        "    callbacks=[EarlyStoppingCallback(early_stopping_patience=2, early_stopping_threshold=0.001)]\n",
        ")"
      ]
    },
    {
      "cell_type": "markdown",
      "metadata": {
        "id": "jLe9nQhxrGOl"
      },
      "source": [
        "## 5. 학습 및 평가"
      ]
    },
    {
      "cell_type": "code",
      "execution_count": 61,
      "metadata": {
        "colab": {
          "base_uri": "https://localhost:8080/",
          "height": 499
        },
        "id": "WbIU-kBrrGOl",
        "outputId": "3b4e2c29-a8bf-4a3f-905c-d238320d2081"
      },
      "outputs": [
        {
          "data": {
            "text/html": [
              "\n",
              "    <div>\n",
              "      \n",
              "      <progress value='48' max='120' style='width:300px; height:20px; vertical-align: middle;'></progress>\n",
              "      [ 48/120 00:25 < 00:40, 1.78 it/s, Epoch 4/10]\n",
              "    </div>\n",
              "    <table border=\"1\" class=\"dataframe\">\n",
              "  <thead>\n",
              " <tr style=\"text-align: left;\">\n",
              "      <th>Epoch</th>\n",
              "      <th>Training Loss</th>\n",
              "      <th>Validation Loss</th>\n",
              "      <th>Stance F1</th>\n",
              "      <th>Stance Accuracy</th>\n",
              "    </tr>\n",
              "  </thead>\n",
              "  <tbody>\n",
              "    <tr>\n",
              "      <td>1</td>\n",
              "      <td>No log</td>\n",
              "      <td>6.305852</td>\n",
              "      <td>0.523519</td>\n",
              "      <td>0.550000</td>\n",
              "    </tr>\n",
              "    <tr>\n",
              "      <td>2</td>\n",
              "      <td>No log</td>\n",
              "      <td>6.446114</td>\n",
              "      <td>0.563718</td>\n",
              "      <td>0.575000</td>\n",
              "    </tr>\n",
              "    <tr>\n",
              "      <td>3</td>\n",
              "      <td>No log</td>\n",
              "      <td>6.778306</td>\n",
              "      <td>0.396796</td>\n",
              "      <td>0.450000</td>\n",
              "    </tr>\n",
              "    <tr>\n",
              "      <td>4</td>\n",
              "      <td>No log</td>\n",
              "      <td>6.761790</td>\n",
              "      <td>0.427846</td>\n",
              "      <td>0.450000</td>\n",
              "    </tr>\n",
              "  </tbody>\n",
              "</table><p>"
            ],
            "text/plain": [
              "<IPython.core.display.HTML object>"
            ]
          },
          "metadata": {},
          "output_type": "display_data"
        },
        {
          "name": "stdout",
          "output_type": "stream",
          "text": [
            "{'우호': {'precision': 0.5, 'recall': 0.2, 'f1-score': 0.2857142857142857, 'support': 5.0}, '중립': {'precision': 0.6666666666666666, 'recall': 0.4, 'f1-score': 0.5, 'support': 20.0}, '비판': {'precision': 0.5, 'recall': 0.8666666666666667, 'f1-score': 0.6341463414634146, 'support': 15.0}, 'accuracy': 0.55, 'macro avg': {'precision': 0.5555555555555555, 'recall': 0.48888888888888893, 'f1-score': 0.4732868757259001, 'support': 40.0}, 'weighted avg': {'precision': 0.5833333333333333, 'recall': 0.55, 'f1-score': 0.5235191637630662, 'support': 40.0}}\n",
            "평균 감정 분포 (softmax): [0.37421745 0.45653385 0.16924872]\n",
            "{'우호': {'precision': 0.3333333333333333, 'recall': 0.2, 'f1-score': 0.25, 'support': 5.0}, '중립': {'precision': 0.5833333333333334, 'recall': 0.7, 'f1-score': 0.6363636363636364, 'support': 20.0}, '비판': {'precision': 0.6153846153846154, 'recall': 0.5333333333333333, 'f1-score': 0.5714285714285714, 'support': 15.0}, 'accuracy': 0.575, 'macro avg': {'precision': 0.5106837606837608, 'recall': 0.4777777777777777, 'f1-score': 0.48593073593073594, 'support': 40.0}, 'weighted avg': {'precision': 0.5641025641025641, 'recall': 0.575, 'f1-score': 0.5637175324675324, 'support': 40.0}}\n",
            "평균 감정 분포 (softmax): [0.3866403  0.44759494 0.16576481]\n",
            "{'우호': {'precision': 0.3333333333333333, 'recall': 0.2, 'f1-score': 0.25, 'support': 5.0}, '중립': {'precision': 0.4838709677419355, 'recall': 0.75, 'f1-score': 0.5882352941176471, 'support': 20.0}, '비판': {'precision': 0.3333333333333333, 'recall': 0.13333333333333333, 'f1-score': 0.19047619047619047, 'support': 15.0}, 'accuracy': 0.45, 'macro avg': {'precision': 0.38351254480286734, 'recall': 0.3611111111111111, 'f1-score': 0.3429038281979458, 'support': 40.0}, 'weighted avg': {'precision': 0.4086021505376344, 'recall': 0.45, 'f1-score': 0.396796218487395, 'support': 40.0}}\n",
            "평균 감정 분포 (softmax): [0.37099728 0.40532342 0.22367921]\n",
            "{'우호': {'precision': 0.3333333333333333, 'recall': 0.2, 'f1-score': 0.25, 'support': 5.0}, '중립': {'precision': 0.48148148148148145, 'recall': 0.65, 'f1-score': 0.5531914893617021, 'support': 20.0}, '비판': {'precision': 0.4, 'recall': 0.26666666666666666, 'f1-score': 0.32, 'support': 15.0}, 'accuracy': 0.45, 'macro avg': {'precision': 0.4049382716049383, 'recall': 0.37222222222222223, 'f1-score': 0.37439716312056737, 'support': 40.0}, 'weighted avg': {'precision': 0.43240740740740746, 'recall': 0.45, 'f1-score': 0.42784574468085107, 'support': 40.0}}\n",
            "평균 감정 분포 (softmax): [0.36062476 0.4159282  0.22344708]\n"
          ]
        },
        {
          "data": {
            "text/html": [
              "\n",
              "    <div>\n",
              "      \n",
              "      <progress value='2' max='2' style='width:300px; height:20px; vertical-align: middle;'></progress>\n",
              "      [2/2 00:00]\n",
              "    </div>\n",
              "    "
            ],
            "text/plain": [
              "<IPython.core.display.HTML object>"
            ]
          },
          "metadata": {},
          "output_type": "display_data"
        },
        {
          "name": "stdout",
          "output_type": "stream",
          "text": [
            "{'우호': {'precision': 0.3333333333333333, 'recall': 0.2, 'f1-score': 0.25, 'support': 5.0}, '중립': {'precision': 0.5833333333333334, 'recall': 0.7, 'f1-score': 0.6363636363636364, 'support': 20.0}, '비판': {'precision': 0.6153846153846154, 'recall': 0.5333333333333333, 'f1-score': 0.5714285714285714, 'support': 15.0}, 'accuracy': 0.575, 'macro avg': {'precision': 0.5106837606837608, 'recall': 0.4777777777777777, 'f1-score': 0.48593073593073594, 'support': 40.0}, 'weighted avg': {'precision': 0.5641025641025641, 'recall': 0.575, 'f1-score': 0.5637175324675324, 'support': 40.0}}\n",
            "평균 감정 분포 (softmax): [0.3866403  0.44759494 0.16576481]\n",
            "\n",
            "최종 평가 결과:\n",
            "스탠스 F1 점수: 0.5637\n",
            "스탠스 정확도: 0.5750\n"
          ]
        }
      ],
      "source": [
        "# 학습 실행\n",
        "trainer.train()\n",
        "\n",
        "# 최종 평가\n",
        "final_metrics = trainer.evaluate()\n",
        "print(\"\\n최종 평가 결과:\")\n",
        "print(f\"스탠스 F1 점수: {final_metrics['eval_stance_f1']:.4f}\")\n",
        "print(f\"스탠스 정확도: {final_metrics['eval_stance_accuracy']:.4f}\")"
      ]
    },
    {
      "cell_type": "code",
      "execution_count": 62,
      "metadata": {
        "colab": {
          "base_uri": "https://localhost:8080/",
          "height": 112
        },
        "id": "0zU7U1pRrGOl",
        "outputId": "1a828e71-7c1c-4c7a-9ef7-cabbe0c5482a"
      },
      "outputs": [
        {
          "data": {
            "application/vnd.google.colaboratory.intrinsic+json": {
              "summary": "{\n  \"name\": \"comparison_df\",\n  \"rows\": 2,\n  \"fields\": [\n    {\n      \"column\": \"Model\",\n      \"properties\": {\n        \"dtype\": \"string\",\n        \"num_unique_values\": 2,\n        \"samples\": [\n          \"Multitask BERT\",\n          \"Baseline\"\n        ],\n        \"semantic_type\": \"\",\n        \"description\": \"\"\n      }\n    },\n    {\n      \"column\": \"Stance F1\",\n      \"properties\": {\n        \"dtype\": \"number\",\n        \"std\": 0.09230242487325865,\n        \"min\": 0.5637175324675324,\n        \"max\": 0.6942528735632185,\n        \"num_unique_values\": 2,\n        \"samples\": [\n          0.5637175324675324,\n          0.6942528735632185\n        ],\n        \"semantic_type\": \"\",\n        \"description\": \"\"\n      }\n    },\n    {\n      \"column\": \"Stance Accuracy\",\n      \"properties\": {\n        \"dtype\": \"number\",\n        \"std\": 0.08838834764831845,\n        \"min\": 0.575,\n        \"max\": 0.7,\n        \"num_unique_values\": 2,\n        \"samples\": [\n          0.575,\n          0.7\n        ],\n        \"semantic_type\": \"\",\n        \"description\": \"\"\n      }\n    }\n  ]\n}",
              "type": "dataframe",
              "variable_name": "comparison_df"
            },
            "text/html": [
              "\n",
              "  <div id=\"df-4e6a9df8-4dc1-4efa-bca0-8879739e3446\" class=\"colab-df-container\">\n",
              "    <div>\n",
              "<style scoped>\n",
              "    .dataframe tbody tr th:only-of-type {\n",
              "        vertical-align: middle;\n",
              "    }\n",
              "\n",
              "    .dataframe tbody tr th {\n",
              "        vertical-align: top;\n",
              "    }\n",
              "\n",
              "    .dataframe thead th {\n",
              "        text-align: right;\n",
              "    }\n",
              "</style>\n",
              "<table border=\"1\" class=\"dataframe\">\n",
              "  <thead>\n",
              "    <tr style=\"text-align: right;\">\n",
              "      <th></th>\n",
              "      <th>Model</th>\n",
              "      <th>Stance F1</th>\n",
              "      <th>Stance Accuracy</th>\n",
              "    </tr>\n",
              "  </thead>\n",
              "  <tbody>\n",
              "    <tr>\n",
              "      <th>0</th>\n",
              "      <td>Baseline</td>\n",
              "      <td>0.694253</td>\n",
              "      <td>0.700</td>\n",
              "    </tr>\n",
              "    <tr>\n",
              "      <th>1</th>\n",
              "      <td>Multitask BERT</td>\n",
              "      <td>0.563718</td>\n",
              "      <td>0.575</td>\n",
              "    </tr>\n",
              "  </tbody>\n",
              "</table>\n",
              "</div>\n",
              "    <div class=\"colab-df-buttons\">\n",
              "\n",
              "  <div class=\"colab-df-container\">\n",
              "    <button class=\"colab-df-convert\" onclick=\"convertToInteractive('df-4e6a9df8-4dc1-4efa-bca0-8879739e3446')\"\n",
              "            title=\"Convert this dataframe to an interactive table.\"\n",
              "            style=\"display:none;\">\n",
              "\n",
              "  <svg xmlns=\"http://www.w3.org/2000/svg\" height=\"24px\" viewBox=\"0 -960 960 960\">\n",
              "    <path d=\"M120-120v-720h720v720H120Zm60-500h600v-160H180v160Zm220 220h160v-160H400v160Zm0 220h160v-160H400v160ZM180-400h160v-160H180v160Zm440 0h160v-160H620v160ZM180-180h160v-160H180v160Zm440 0h160v-160H620v160Z\"/>\n",
              "  </svg>\n",
              "    </button>\n",
              "\n",
              "  <style>\n",
              "    .colab-df-container {\n",
              "      display:flex;\n",
              "      gap: 12px;\n",
              "    }\n",
              "\n",
              "    .colab-df-convert {\n",
              "      background-color: #E8F0FE;\n",
              "      border: none;\n",
              "      border-radius: 50%;\n",
              "      cursor: pointer;\n",
              "      display: none;\n",
              "      fill: #1967D2;\n",
              "      height: 32px;\n",
              "      padding: 0 0 0 0;\n",
              "      width: 32px;\n",
              "    }\n",
              "\n",
              "    .colab-df-convert:hover {\n",
              "      background-color: #E2EBFA;\n",
              "      box-shadow: 0px 1px 2px rgba(60, 64, 67, 0.3), 0px 1px 3px 1px rgba(60, 64, 67, 0.15);\n",
              "      fill: #174EA6;\n",
              "    }\n",
              "\n",
              "    .colab-df-buttons div {\n",
              "      margin-bottom: 4px;\n",
              "    }\n",
              "\n",
              "    [theme=dark] .colab-df-convert {\n",
              "      background-color: #3B4455;\n",
              "      fill: #D2E3FC;\n",
              "    }\n",
              "\n",
              "    [theme=dark] .colab-df-convert:hover {\n",
              "      background-color: #434B5C;\n",
              "      box-shadow: 0px 1px 3px 1px rgba(0, 0, 0, 0.15);\n",
              "      filter: drop-shadow(0px 1px 2px rgba(0, 0, 0, 0.3));\n",
              "      fill: #FFFFFF;\n",
              "    }\n",
              "  </style>\n",
              "\n",
              "    <script>\n",
              "      const buttonEl =\n",
              "        document.querySelector('#df-4e6a9df8-4dc1-4efa-bca0-8879739e3446 button.colab-df-convert');\n",
              "      buttonEl.style.display =\n",
              "        google.colab.kernel.accessAllowed ? 'block' : 'none';\n",
              "\n",
              "      async function convertToInteractive(key) {\n",
              "        const element = document.querySelector('#df-4e6a9df8-4dc1-4efa-bca0-8879739e3446');\n",
              "        const dataTable =\n",
              "          await google.colab.kernel.invokeFunction('convertToInteractive',\n",
              "                                                    [key], {});\n",
              "        if (!dataTable) return;\n",
              "\n",
              "        const docLinkHtml = 'Like what you see? Visit the ' +\n",
              "          '<a target=\"_blank\" href=https://colab.research.google.com/notebooks/data_table.ipynb>data table notebook</a>'\n",
              "          + ' to learn more about interactive tables.';\n",
              "        element.innerHTML = '';\n",
              "        dataTable['output_type'] = 'display_data';\n",
              "        await google.colab.output.renderOutput(dataTable, element);\n",
              "        const docLink = document.createElement('div');\n",
              "        docLink.innerHTML = docLinkHtml;\n",
              "        element.appendChild(docLink);\n",
              "      }\n",
              "    </script>\n",
              "  </div>\n",
              "\n",
              "\n",
              "    <div id=\"df-2a7cc4af-9f8f-4f32-b7b5-1673de26801e\">\n",
              "      <button class=\"colab-df-quickchart\" onclick=\"quickchart('df-2a7cc4af-9f8f-4f32-b7b5-1673de26801e')\"\n",
              "                title=\"Suggest charts\"\n",
              "                style=\"display:none;\">\n",
              "\n",
              "<svg xmlns=\"http://www.w3.org/2000/svg\" height=\"24px\"viewBox=\"0 0 24 24\"\n",
              "     width=\"24px\">\n",
              "    <g>\n",
              "        <path d=\"M19 3H5c-1.1 0-2 .9-2 2v14c0 1.1.9 2 2 2h14c1.1 0 2-.9 2-2V5c0-1.1-.9-2-2-2zM9 17H7v-7h2v7zm4 0h-2V7h2v10zm4 0h-2v-4h2v4z\"/>\n",
              "    </g>\n",
              "</svg>\n",
              "      </button>\n",
              "\n",
              "<style>\n",
              "  .colab-df-quickchart {\n",
              "      --bg-color: #E8F0FE;\n",
              "      --fill-color: #1967D2;\n",
              "      --hover-bg-color: #E2EBFA;\n",
              "      --hover-fill-color: #174EA6;\n",
              "      --disabled-fill-color: #AAA;\n",
              "      --disabled-bg-color: #DDD;\n",
              "  }\n",
              "\n",
              "  [theme=dark] .colab-df-quickchart {\n",
              "      --bg-color: #3B4455;\n",
              "      --fill-color: #D2E3FC;\n",
              "      --hover-bg-color: #434B5C;\n",
              "      --hover-fill-color: #FFFFFF;\n",
              "      --disabled-bg-color: #3B4455;\n",
              "      --disabled-fill-color: #666;\n",
              "  }\n",
              "\n",
              "  .colab-df-quickchart {\n",
              "    background-color: var(--bg-color);\n",
              "    border: none;\n",
              "    border-radius: 50%;\n",
              "    cursor: pointer;\n",
              "    display: none;\n",
              "    fill: var(--fill-color);\n",
              "    height: 32px;\n",
              "    padding: 0;\n",
              "    width: 32px;\n",
              "  }\n",
              "\n",
              "  .colab-df-quickchart:hover {\n",
              "    background-color: var(--hover-bg-color);\n",
              "    box-shadow: 0 1px 2px rgba(60, 64, 67, 0.3), 0 1px 3px 1px rgba(60, 64, 67, 0.15);\n",
              "    fill: var(--button-hover-fill-color);\n",
              "  }\n",
              "\n",
              "  .colab-df-quickchart-complete:disabled,\n",
              "  .colab-df-quickchart-complete:disabled:hover {\n",
              "    background-color: var(--disabled-bg-color);\n",
              "    fill: var(--disabled-fill-color);\n",
              "    box-shadow: none;\n",
              "  }\n",
              "\n",
              "  .colab-df-spinner {\n",
              "    border: 2px solid var(--fill-color);\n",
              "    border-color: transparent;\n",
              "    border-bottom-color: var(--fill-color);\n",
              "    animation:\n",
              "      spin 1s steps(1) infinite;\n",
              "  }\n",
              "\n",
              "  @keyframes spin {\n",
              "    0% {\n",
              "      border-color: transparent;\n",
              "      border-bottom-color: var(--fill-color);\n",
              "      border-left-color: var(--fill-color);\n",
              "    }\n",
              "    20% {\n",
              "      border-color: transparent;\n",
              "      border-left-color: var(--fill-color);\n",
              "      border-top-color: var(--fill-color);\n",
              "    }\n",
              "    30% {\n",
              "      border-color: transparent;\n",
              "      border-left-color: var(--fill-color);\n",
              "      border-top-color: var(--fill-color);\n",
              "      border-right-color: var(--fill-color);\n",
              "    }\n",
              "    40% {\n",
              "      border-color: transparent;\n",
              "      border-right-color: var(--fill-color);\n",
              "      border-top-color: var(--fill-color);\n",
              "    }\n",
              "    60% {\n",
              "      border-color: transparent;\n",
              "      border-right-color: var(--fill-color);\n",
              "    }\n",
              "    80% {\n",
              "      border-color: transparent;\n",
              "      border-right-color: var(--fill-color);\n",
              "      border-bottom-color: var(--fill-color);\n",
              "    }\n",
              "    90% {\n",
              "      border-color: transparent;\n",
              "      border-bottom-color: var(--fill-color);\n",
              "    }\n",
              "  }\n",
              "</style>\n",
              "\n",
              "      <script>\n",
              "        async function quickchart(key) {\n",
              "          const quickchartButtonEl =\n",
              "            document.querySelector('#' + key + ' button');\n",
              "          quickchartButtonEl.disabled = true;  // To prevent multiple clicks.\n",
              "          quickchartButtonEl.classList.add('colab-df-spinner');\n",
              "          try {\n",
              "            const charts = await google.colab.kernel.invokeFunction(\n",
              "                'suggestCharts', [key], {});\n",
              "          } catch (error) {\n",
              "            console.error('Error during call to suggestCharts:', error);\n",
              "          }\n",
              "          quickchartButtonEl.classList.remove('colab-df-spinner');\n",
              "          quickchartButtonEl.classList.add('colab-df-quickchart-complete');\n",
              "        }\n",
              "        (() => {\n",
              "          let quickchartButtonEl =\n",
              "            document.querySelector('#df-2a7cc4af-9f8f-4f32-b7b5-1673de26801e button');\n",
              "          quickchartButtonEl.style.display =\n",
              "            google.colab.kernel.accessAllowed ? 'block' : 'none';\n",
              "        })();\n",
              "      </script>\n",
              "    </div>\n",
              "\n",
              "    </div>\n",
              "  </div>\n"
            ],
            "text/plain": [
              "            Model  Stance F1  Stance Accuracy\n",
              "0        Baseline   0.694253            0.700\n",
              "1  Multitask BERT   0.563718            0.575"
            ]
          },
          "execution_count": 62,
          "metadata": {},
          "output_type": "execute_result"
        }
      ],
      "source": [
        "# 베이스라인과 성능 비교\n",
        "comparison_results = {\n",
        "    'Model': ['Baseline', 'Multitask BERT'],\n",
        "    'Stance F1': [baseline_results['stance_f1'], final_metrics['eval_stance_f1']],\n",
        "    'Stance Accuracy': [baseline_results['stance_accuracy'], final_metrics['eval_stance_accuracy']],\n",
        "}\n",
        "\n",
        "comparison_df = pd.DataFrame(comparison_results)\n",
        "comparison_df.to_csv('./multitask_results/model_comparison.csv', index=False)\n",
        "comparison_df.head()"
      ]
    },
    {
      "cell_type": "code",
      "execution_count": 25,
      "metadata": {
        "colab": {
          "base_uri": "https://localhost:8080/",
          "height": 564
        },
        "id": "d58HDhqPrGOl",
        "outputId": "958057e6-a98b-44ce-8855-31e7924f31ec"
      },
      "outputs": [
        {
          "data": {
            "image/png": "[encoded data removed]",
            "text/plain": [
              "<Figure size 1200x600 with 1 Axes>"
            ]
          },
          "metadata": {},
          "output_type": "display_data"
        }
      ],
      "source": [
        "# 성능 향상 시각화\n",
        "plt.figure(figsize=(12, 6))\n",
        "metrics = ['Stance F1', 'Stance Accuracy']\n",
        "x = np.arange(len(metrics))\n",
        "width = 0.35\n",
        "\n",
        "plt.bar(x - width/2, comparison_df.iloc[0, 1:], width, label='Baseline')\n",
        "plt.bar(x + width/2, comparison_df.iloc[1, 1:], width, label='Multitask BERT')\n",
        "\n",
        "plt.xlabel('Metrics')\n",
        "plt.ylabel('Score')\n",
        "plt.title('Model Performance Comparison')\n",
        "plt.xticks(x, metrics)\n",
        "plt.legend()\n",
        "\n",
        "plt.savefig('./multitask_results/performance_comparison.png')\n",
        "plt.show()"
      ]
    },
    {
      "cell_type": "markdown",
      "metadata": {
        "id": "9XeA16CVrGOl"
      },
      "source": [
        "## 6. 모델 저장 및 로드"
      ]
    },
    {
      "cell_type": "code",
      "execution_count": null,
      "metadata": {
        "id": "IIz33sUorGOl"
      },
      "outputs": [],
      "source": [
        "# 모델 저장\n",
        "trainer.save_model('./best_model')\n",
        "tokenizer.save_pretrained('./best_model')\n",
        "\n",
        "# 모델 로드\n",
        "def load_model(model_path):\n",
        "    model = MultiTaskNewsModel('klue/roberta-base')\n",
        "    model.load_state_dict(torch.load(f'{model_path}/pytorch_model.bin'))\n",
        "    tokenizer = AutoTokenizer.from_pretrained(model_path)\n",
        "    return model, tokenizer"
      ]
    },
    {
      "cell_type": "markdown",
      "metadata": {
        "id": "aordROJsrGOm"
      },
      "source": [
        "## 7. 새로운 기사에 대한 예측"
      ]
    },
    {
      "cell_type": "code",
      "execution_count": null,
      "metadata": {
        "id": "avCnDvgPrGOm"
      },
      "outputs": [],
      "source": [
        "def predict_news(text, model, tokenizer, device):\n",
        "    model.eval()\n",
        "    encoding = tokenizer(\n",
        "        text,\n",
        "        add_special_tokens=True,\n",
        "        max_length=512,\n",
        "        padding='max_length',\n",
        "        truncation=True,\n",
        "        return_tensors='pt'\n",
        "    )\n",
        "\n",
        "    input_ids = encoding['input_ids'].to(device)\n",
        "    attention_mask = encoding['attention_mask'].to(device)\n",
        "\n",
        "    with torch.no_grad():\n",
        "        outputs = model(input_ids=input_ids, attention_mask=attention_mask)\n",
        "        stance_pred = torch.argmax(outputs['stance_logits'], dim=1).item()\n",
        "        sentiment_pred = torch.argmax(outputs['sentiment_logits'], dim=1).item()\n",
        "\n",
        "    return stance_pred, sentiment_pred"
      ]
    },
    {
      "cell_type": "code",
      "execution_count": null,
      "metadata": {
        "id": "ibTpkLVDrGOm"
      },
      "outputs": [],
      "source": [
        "def predict_csv_file(csv_path, model, tokenizer, device):\n",
        "    # CSV 파일 로드\n",
        "    df = pd.read_csv(csv_path)\n",
        "\n",
        "    # 예측 결과를 저장할 리스트\n",
        "    stance_predictions = []\n",
        "    sentiment_predictions = []\n",
        "\n",
        "    # 각 텍스트에 대해 예측 수행\n",
        "    for text in tqdm(df['text'], desc=\"Predicting\"):\n",
        "        stance_pred, sentiment_pred = predict_news(text, model, tokenizer, device)\n",
        "        stance_predictions.append(stance_pred)\n",
        "        sentiment_predictions.append(sentiment_pred)\n",
        "\n",
        "    # 예측 결과를 DataFrame에 추가\n",
        "    df['stance_label'] = stance_predictions\n",
        "    df['sentiment_label'] = sentiment_predictions\n",
        "\n",
        "    # 예측 결과를 숫자에서 텍스트로 변환\n",
        "    stance_mapping = {v: k for k, v in stance_mapping.items()}\n",
        "    sentiment_mapping = {v: k for k, v in sentiment_mapping.items()}\n",
        "\n",
        "    df['stance'] = df['stance_label'].map(stance_mapping)\n",
        "    df['sentiment'] = df['sentiment_label'].map(sentiment_mapping)\n",
        "\n",
        "    # 결과 저장\n",
        "    output_path = csv_path.replace('.csv', '_predicted.csv')\n",
        "    df.to_csv(output_path, index=False)\n",
        "\n",
        "    # 예측 결과 통계 출력\n",
        "    print(f\"\\n{csv_path} 예측 결과:\")\n",
        "    print(\"\\n스탠스 예측 분포:\")\n",
        "    print(df['stance'].value_counts())\n",
        "    print(\"\\n감성 예측 분포:\")\n",
        "    print(df['sentiment'].value_counts())\n",
        "\n",
        "    return df"
      ]
    },
    {
      "cell_type": "code",
      "execution_count": null,
      "metadata": {
        "id": "yYk-VBuGrGOm"
      },
      "outputs": [],
      "source": [
        "# 모델 로드\n",
        "model, tokenizer = load_model('./best_model')\n",
        "device = torch.device('cuda' if torch.cuda.is_available() else 'cpu')\n",
        "model = model.to(device)\n",
        "\n",
        "# CSV 파일 예측\n",
        "csv_path = \"/content/drive/MyDrive/텍스트데이터분석을 위한 딥러닝/팀프로젝트/data/전체1.csv\"  # 여기에 실제 CSV 파일 경로를 입력하시면 됩니다\n",
        "predicted_df = predict_csv_file(csv_path, model, tokenizer, device)\n",
        "predicted_df.head()"
      ]
    },
    {
      "cell_type": "code",
      "execution_count": null,
      "metadata": {
        "id": "nLvrKe7rrGOm"
      },
      "outputs": [],
      "source": [
        "# 저장\n",
        "predicted_df.to_csv(csv_path, index=False)"
      ]
    }
  ],
  "metadata": {
    "accelerator": "GPU",
    "colab": {
      "gpuType": "A100",
      "machine_shape": "hm",
      "provenance": []
    },
    "kernelspec": {
      "display_name": "base",
      "language": "python",
      "name": "python3"
    },
    "language_info": {
      "codemirror_mode": {
        "name": "ipython",
        "version": 3
      },
      "file_extension": ".py",
      "mimetype": "text/x-python",
      "name": "python",
      "nbconvert_exporter": "python",
      "pygments_lexer": "ipython3",
      "version": "3.12.3"
    }
  },
  "nbformat": 4,
  "nbformat_minor": 0
}
