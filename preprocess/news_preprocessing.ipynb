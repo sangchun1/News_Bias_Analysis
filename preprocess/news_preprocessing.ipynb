{
 "cells": [
  {
   "cell_type": "markdown",
   "metadata": {},
   "source": [
    "# 뉴스 데이터 전처리\n",
    "\n",
    "이 노트북은 크롤링한 뉴스 데이터를 BERT 모델 학습을 위해 전처리하는 과정을 담고 있습니다."
   ]
  },
  {
   "cell_type": "code",
   "execution_count": 12,
   "metadata": {},
   "outputs": [],
   "source": [
    "import pandas as pd\n",
    "import numpy as np\n",
    "from pathlib import Path\n",
    "import re"
   ]
  },
  {
   "cell_type": "markdown",
   "metadata": {},
   "source": [
    "## 1. 데이터 로드 및 병합"
   ]
  },
  {
   "cell_type": "code",
   "execution_count": 2,
   "metadata": {},
   "outputs": [
    {
     "name": "stdout",
     "output_type": "stream",
     "text": [
      "총 85698 개의 기사가 있습니다.\n"
     ]
    }
   ],
   "source": [
    "# 데이터 경로 설정\n",
    "data_path = Path('../data')\n",
    "\n",
    "# 모든 CSV 파일 리스트 가져오기\n",
    "csv_files = list(data_path.glob('*.csv'))\n",
    "\n",
    "# 데이터프레임 리스트 생성\n",
    "dfs = []\n",
    "for file in csv_files:\n",
    "    df = pd.read_csv(file)\n",
    "    # 언론사 이름 추출 (파일명에서)\n",
    "    press_name = file.stem.split('_')[0]\n",
    "    df['press'] = press_name\n",
    "    dfs.append(df)\n",
    "\n",
    "# 모든 데이터프레임 병합\n",
    "combined_df = pd.concat(dfs, ignore_index=True)\n",
    "print(f\"총 {len(combined_df)} 개의 기사가 있습니다.\")"
   ]
  },
  {
   "cell_type": "markdown",
   "metadata": {},
   "source": [
    "## 2. 텍스트 전처리"
   ]
  },
  {
   "cell_type": "code",
   "execution_count": 13,
   "metadata": {},
   "outputs": [],
   "source": [
    "def clean_text(text):\n",
    "    if not isinstance(text, str):\n",
    "        return \"\"\n",
    "    \n",
    "    # URL 제거\n",
    "    text = re.sub(r'https?://\\S+', '', text)\n",
    "    \n",
    "    # HTML 태그 제거\n",
    "    text = re.sub(r'<[^>]+>', '', text)\n",
    "    \n",
    "    # 줄바꿈/개행 문자를 공백으로 변환\n",
    "    text = re.sub(r'[\\n\\r]+', ' ', text)\n",
    "    \n",
    "    # 특수문자 제거 (한글, 영문자, 숫자만 남김)\n",
    "    text = re.sub(r'[^\\w\\s가-힣]', ' ', text)\n",
    "    \n",
    "    # 연속된 공백 제거\n",
    "    text = re.sub(r'\\s+', ' ', text)\n",
    "    \n",
    "    # 문장 시작과 끝의 공백 제거\n",
    "    text = text.strip()\n",
    "    \n",
    "    return text"
   ]
  },
  {
   "cell_type": "code",
   "execution_count": 4,
   "metadata": {},
   "outputs": [
    {
     "name": "stdout",
     "output_type": "stream",
     "text": [
      "중복 제거 후 남은 기사 수: 79023\n"
     ]
    }
   ],
   "source": [
    "# 결측치 제거\n",
    "combined_df = combined_df.dropna(subset=['title', 'content'])\n",
    "\n",
    "# 제목과 본문 전처리\n",
    "combined_df['title_cleaned'] = combined_df['title'].apply(clean_text)\n",
    "combined_df['content_cleaned'] = combined_df['content'].apply(clean_text)\n",
    "\n",
    "# 제목과 본문 결합\n",
    "combined_df['text'] = combined_df['title_cleaned'] + ' ' + combined_df['content_cleaned']\n",
    "\n",
    "# 너무 짧은 기사 제거 (예: 100자 미만)\n",
    "combined_df = combined_df[combined_df['text'].str.len() >= 100]\n",
    "\n",
    "# 중복 기사 제거 (제목과 본문이 동일한 경우)\n",
    "combined_df = combined_df.drop_duplicates(subset=['title_cleaned', 'content_cleaned'])\n",
    "\n",
    "# 중복 제거 후 데이터 수 확인\n",
    "print(f\"중복 제거 후 남은 기사 수: {len(combined_df)}\")"
   ]
  },
  {
   "cell_type": "code",
   "execution_count": 8,
   "metadata": {},
   "outputs": [],
   "source": [
    "# 전처리된 통합 데이터셋 저장\n",
    "combined_df[[\"title_cleaned\", \"content_cleaned\", \"text\", \"press\", \"created_date\"]].to_csv(\"../data/전체통합.csv\", index=False)"
   ]
  },
  {
   "cell_type": "markdown",
   "metadata": {},
   "source": [
    "## 3. 레이블링\n",
    "\n",
    "언론사별로 편향성 레이블을 부여합니다."
   ]
  },
  {
   "cell_type": "code",
   "execution_count": null,
   "metadata": {},
   "outputs": [],
   "source": [
    "# 언론사별 편향성 레이블 매핑\n"
   ]
  }
 ],
 "metadata": {
  "kernelspec": {
   "display_name": "base",
   "language": "python",
   "name": "python3"
  },
  "language_info": {
   "codemirror_mode": {
    "name": "ipython",
    "version": 3
   },
   "file_extension": ".py",
   "mimetype": "text/x-python",
   "name": "python",
   "nbconvert_exporter": "python",
   "pygments_lexer": "ipython3",
   "version": "3.12.3"
  }
 },
 "nbformat": 4,
 "nbformat_minor": 4
}
