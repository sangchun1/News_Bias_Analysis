{
 "cells": [
  {
   "cell_type": "markdown",
   "metadata": {},
   "source": [
    "# 뉴스 데이터 전처리\n",
    "\n",
    "이 노트북은 크롤링한 뉴스 데이터를 BERT 모델 학습을 위해 전처리하는 과정을 담고 있습니다."
   ]
  },
  {
   "cell_type": "code",
   "execution_count": 1,
   "metadata": {},
   "outputs": [],
   "source": [
    "import pandas as pd\n",
    "import numpy as np\n",
    "from pathlib import Path\n",
    "import re\n",
    "from sklearn.model_selection import train_test_split\n",
    "from transformers import AutoTokenizer\n",
    "import torch\n",
    "from tqdm import tqdm"
   ]
  },
  {
   "cell_type": "markdown",
   "metadata": {},
   "source": [
    "## 1. 데이터 로드 및 병합"
   ]
  },
  {
   "cell_type": "code",
   "execution_count": 2,
   "metadata": {},
   "outputs": [
    {
     "name": "stdout",
     "output_type": "stream",
     "text": [
      "총 85698 개의 기사가 있습니다.\n"
     ]
    }
   ],
   "source": [
    "# 데이터 경로 설정\n",
    "data_path = Path('../data')\n",
    "\n",
    "# 모든 CSV 파일 리스트 가져오기\n",
    "csv_files = list(data_path.glob('*.csv'))\n",
    "\n",
    "# 데이터프레임 리스트 생성\n",
    "dfs = []\n",
    "for file in csv_files:\n",
    "    df = pd.read_csv(file)\n",
    "    # 언론사 이름 추출 (파일명에서)\n",
    "    press_name = file.stem.split('_')[0]\n",
    "    df['press'] = press_name\n",
    "    dfs.append(df)\n",
    "\n",
    "# 모든 데이터프레임 병합\n",
    "combined_df = pd.concat(dfs, ignore_index=True)\n",
    "print(f\"총 {len(combined_df)} 개의 기사가 있습니다.\")"
   ]
  },
  {
   "cell_type": "markdown",
   "metadata": {},
   "source": [
    "## 2. 텍스트 전처리"
   ]
  },
  {
   "cell_type": "code",
   "execution_count": 3,
   "metadata": {},
   "outputs": [
    {
     "name": "stdout",
     "output_type": "stream",
     "text": [
      "중복 제거 후 남은 기사 수: 79024\n"
     ]
    }
   ],
   "source": [
    "def clean_text(text):\n",
    "    if not isinstance(text, str):\n",
    "        return \"\"\n",
    "    # HTML 태그 제거\n",
    "    text = re.sub(r'<[^>]+>', '', text)\n",
    "    # 특수문자 제거\n",
    "    text = re.sub(r'[^\\w\\s가-힣]', ' ', text)\n",
    "    # 연속된 공백 제거\n",
    "    text = re.sub(r'\\s+', ' ', text)\n",
    "    return text.strip()\n",
    "\n",
    "# 결측치 제거\n",
    "combined_df = combined_df.dropna(subset=['title', 'content'])\n",
    "\n",
    "# 제목과 본문 전처리\n",
    "combined_df['title_cleaned'] = combined_df['title'].apply(clean_text)\n",
    "combined_df['content_cleaned'] = combined_df['content'].apply(clean_text)\n",
    "\n",
    "# 제목과 본문 결합\n",
    "combined_df['text'] = combined_df['title_cleaned'] + ' ' + combined_df['content_cleaned']\n",
    "\n",
    "# 너무 짧은 기사 제거 (예: 100자 미만)\n",
    "combined_df = combined_df[combined_df['text'].str.len() >= 100]\n",
    "\n",
    "# 중복 기사 제거 (제목과 본문이 동일한 경우)\n",
    "combined_df = combined_df.drop_duplicates(subset=['title_cleaned', 'content_cleaned'])\n",
    "\n",
    "# 중복 제거 후 데이터 수 확인\n",
    "print(f\"중복 제거 후 남은 기사 수: {len(combined_df)}\")"
   ]
  },
  {
   "cell_type": "code",
   "execution_count": 10,
   "metadata": {},
   "outputs": [
    {
     "data": {
      "text/plain": [
       "(0             한 총리 \"의료개혁특위, 의료계 · 전문가·환자 모두 포괄해 구성\"\n",
       " 1             민주 김준혁, '이대생 성상납 · 위안부' 발언 사과…\"진심 반성\"\n",
       " 2    TV 토론 격돌한 명룡…이재명 \"사탕발림 옳지 않다\"…원희룡 \"2년간 한 게 없다\"\n",
       " 3               민주당, '이대생 성 상납 발언' 김준혁에 \"부적절…사과 권고\"\n",
       " 4            민주 김준혁, '이대생 성 상납 · 위안부' 발언 사과…\"진심 반성\"\n",
       " Name: title, dtype: object,\n",
       " 0    한덕수 국무총리는 윤석열 대통령이 제안해 출범하게 될 대통령 직속 의료개혁특별위원회...\n",
       " 1    더불어민주당 경기 수원정 김준혁 후보는 '이화여대 김활란 초대 총장이 미군에게 학생...\n",
       " 2    4·10 총선 인천 계양을 지역구에서 이른바 '명룡 대전'을 벌이는 더불어민주당 이...\n",
       " 3    더불어민주당은 오늘(2일) '이화여대 김활란 초대 총장이 미군에게 학생들을 성 상납...\n",
       " 4    더불어민주당 김준혁(경기 수원정) 후보는 오늘(2일) '이화여대 김활란 초대 총장이...\n",
       " Name: content, dtype: object)"
      ]
     },
     "execution_count": 10,
     "metadata": {},
     "output_type": "execute_result"
    }
   ],
   "source": [
    "# 전처리 전\n",
    "combined_df[\"title\"].iloc[:5], combined_df[\"content\"].iloc[:5]"
   ]
  },
  {
   "cell_type": "code",
   "execution_count": 9,
   "metadata": {},
   "outputs": [
    {
     "data": {
      "text/plain": [
       "(0              한 총리 의료개혁특위 의료계 전문가 환자 모두 포괄해 구성\n",
       " 1                민주 김준혁 이대생 성상납 위안부 발언 사과 진심 반성\n",
       " 2    TV 토론 격돌한 명룡 이재명 사탕발림 옳지 않다 원희룡 2년간 한 게 없다\n",
       " 3                민주당 이대생 성 상납 발언 김준혁에 부적절 사과 권고\n",
       " 4               민주 김준혁 이대생 성 상납 위안부 발언 사과 진심 반성\n",
       " Name: title_cleaned, dtype: object,\n",
       " 0    한덕수 국무총리는 윤석열 대통령이 제안해 출범하게 될 대통령 직속 의료개혁특별위원회...\n",
       " 1    더불어민주당 경기 수원정 김준혁 후보는 이화여대 김활란 초대 총장이 미군에게 학생들...\n",
       " 2    4 10 총선 인천 계양을 지역구에서 이른바 명룡 대전 을 벌이는 더불어민주당 이재...\n",
       " 3    더불어민주당은 오늘 2일 이화여대 김활란 초대 총장이 미군에게 학생들을 성 상납시켰...\n",
       " 4    더불어민주당 김준혁 경기 수원정 후보는 오늘 2일 이화여대 김활란 초대 총장이 미군...\n",
       " Name: content_cleaned, dtype: object)"
      ]
     },
     "execution_count": 9,
     "metadata": {},
     "output_type": "execute_result"
    }
   ],
   "source": [
    "# 전처리 후\n",
    "combined_df[\"title_cleaned\"].iloc[:5], combined_df[\"content_cleaned\"].iloc[:5]"
   ]
  },
  {
   "cell_type": "code",
   "execution_count": 12,
   "metadata": {},
   "outputs": [
    {
     "name": "stdout",
     "output_type": "stream",
     "text": [
      "<class 'pandas.core.frame.DataFrame'>\n",
      "Index: 79024 entries, 0 to 85697\n",
      "Data columns (total 13 columns):\n",
      " #   Column           Non-Null Count  Dtype \n",
      "---  ------           --------------  ----- \n",
      " 0   title            79024 non-null  object\n",
      " 1   content          79024 non-null  object\n",
      " 2   press            79024 non-null  object\n",
      " 3   url              79024 non-null  object\n",
      " 4   created_date     79024 non-null  object\n",
      " 5   modified_date    59642 non-null  object\n",
      " 6   journalist       67600 non-null  object\n",
      " 7   comment_count    79024 non-null  int64 \n",
      " 8   related_titles   78522 non-null  object\n",
      " 9   related_urls     78522 non-null  object\n",
      " 10  title_cleaned    79024 non-null  object\n",
      " 11  content_cleaned  79024 non-null  object\n",
      " 12  text             79024 non-null  object\n",
      "dtypes: int64(1), object(12)\n",
      "memory usage: 8.4+ MB\n"
     ]
    }
   ],
   "source": [
    "combined_df.info()"
   ]
  },
  {
   "cell_type": "markdown",
   "metadata": {},
   "source": [
    "## 3. 레이블링\n",
    "\n",
    "언론사별로 편향성 레이블을 부여합니다."
   ]
  },
  {
   "cell_type": "code",
   "execution_count": null,
   "metadata": {},
   "outputs": [],
   "source": [
    "# 언론사별 편향성 레이블 매핑\n"
   ]
  },
  {
   "cell_type": "markdown",
   "metadata": {},
   "source": [
    "## 4. 데이터셋 분할"
   ]
  },
  {
   "cell_type": "code",
   "execution_count": null,
   "metadata": {},
   "outputs": [],
   "source": [
    "# train/validation/test 분할 (70/15/15)\n",
    "train_df, temp_df = train_test_split(combined_df, test_size=0.3, random_state=42, stratify=combined_df['bias'])\n",
    "val_df, test_df = train_test_split(temp_df, test_size=0.5, random_state=42, stratify=temp_df['bias'])\n",
    "\n",
    "print(f\"Train set: {len(train_df)} samples\")\n",
    "print(f\"Validation set: {len(val_df)} samples\")\n",
    "print(f\"Test set: {len(test_df)} samples\")"
   ]
  },
  {
   "cell_type": "markdown",
   "metadata": {},
   "source": [
    "## 5. BERT 토크나이징 준비"
   ]
  },
  {
   "cell_type": "code",
   "execution_count": null,
   "metadata": {},
   "outputs": [],
   "source": [
    "# BERT 토크나이저 로드\n",
    "tokenizer = AutoTokenizer.from_pretrained('klue/bert-base')\n",
    "\n",
    "def prepare_bert_input(text, max_length=512):\n",
    "    # 토크나이징\n",
    "    encoding = tokenizer(\n",
    "        text,\n",
    "        max_length=max_length,\n",
    "        padding='max_length',\n",
    "        truncation=True,\n",
    "        return_tensors='pt'\n",
    "    )\n",
    "    return encoding\n",
    "\n",
    "# 데이터셋 저장\n",
    "train_df.to_csv('train.csv', index=False)\n",
    "val_df.to_csv('val.csv', index=False)\n",
    "test_df.to_csv('test.csv', index=False)"
   ]
  }
 ],
 "metadata": {
  "kernelspec": {
   "display_name": "base",
   "language": "python",
   "name": "python3"
  },
  "language_info": {
   "codemirror_mode": {
    "name": "ipython",
    "version": 3
   },
   "file_extension": ".py",
   "mimetype": "text/x-python",
   "name": "python",
   "nbconvert_exporter": "python",
   "pygments_lexer": "ipython3",
   "version": "3.12.3"
  }
 },
 "nbformat": 4,
 "nbformat_minor": 4
}
