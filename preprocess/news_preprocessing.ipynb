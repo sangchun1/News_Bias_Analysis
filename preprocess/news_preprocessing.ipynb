{
 "cells": [
  {
   "cell_type": "markdown",
   "metadata": {},
   "source": [
    "# 뉴스 데이터 전처리\n",
    "\n",
    "이 노트북은 크롤링한 뉴스 데이터를 BERT 모델 학습을 위해 전처리하는 과정을 담고 있습니다."
   ]
  },
  {
   "cell_type": "code",
   "execution_count": 3,
   "metadata": {},
   "outputs": [],
   "source": [
    "import pandas as pd\n",
    "import numpy as np\n",
    "from pathlib import Path\n",
    "import re"
   ]
  },
  {
   "cell_type": "markdown",
   "metadata": {},
   "source": [
    "## 1. 데이터 로드 및 병합"
   ]
  },
  {
   "cell_type": "code",
   "execution_count": 2,
   "metadata": {},
   "outputs": [
    {
     "name": "stdout",
     "output_type": "stream",
     "text": [
      "총 85698 개의 기사가 있습니다.\n"
     ]
    }
   ],
   "source": [
    "# 데이터 경로 설정\n",
    "data_path = Path('../data')\n",
    "\n",
    "# 모든 CSV 파일 리스트 가져오기\n",
    "csv_files = list(data_path.glob('*.csv'))\n",
    "\n",
    "# 데이터프레임 리스트 생성\n",
    "dfs = []\n",
    "for file in csv_files:\n",
    "    df = pd.read_csv(file)\n",
    "    # 언론사 이름 추출 (파일명에서)\n",
    "    press_name = file.stem.split('_')[0]\n",
    "    df['press'] = press_name\n",
    "    dfs.append(df)\n",
    "\n",
    "# 모든 데이터프레임 병합\n",
    "combined_df = pd.concat(dfs, ignore_index=True)\n",
    "print(f\"총 {len(combined_df)} 개의 기사가 있습니다.\")"
   ]
  },
  {
   "cell_type": "code",
   "execution_count": 16,
   "metadata": {},
   "outputs": [
    {
     "name": "stdout",
     "output_type": "stream",
     "text": [
      "총 85698 개의 기사가 있습니다.\n"
     ]
    }
   ],
   "source": [
    "# 이미 병합했다면\n",
    "combined_df = pd.read_csv('../data/전체통합.csv')\n",
    "print(f\"총 {len(combined_df)} 개의 기사가 있습니다.\")"
   ]
  },
  {
   "cell_type": "markdown",
   "metadata": {},
   "source": [
    "## 2. 텍스트 전처리"
   ]
  },
  {
   "cell_type": "code",
   "execution_count": 6,
   "metadata": {},
   "outputs": [],
   "source": [
    "def clean_text1(text):\n",
    "    if not isinstance(text, str):\n",
    "        return \"\"\n",
    "    \n",
    "    # URL 제거\n",
    "    text = re.sub(r'https?://\\S+', '', text)\n",
    "    \n",
    "    # HTML 태그 제거\n",
    "    text = re.sub(r'<[^>]+>', '', text)\n",
    "    \n",
    "    # 줄바꿈/개행 문자를 공백으로 변환\n",
    "    text = re.sub(r'[\\n\\r]+', ' ', text)\n",
    "    \n",
    "    # 특수문자 제거 (한글, 영문자, 숫자만 남김)\n",
    "    text = re.sub(r'[^\\w\\s가-힣]', ' ', text)\n",
    "    \n",
    "    # 연속된 공백 제거\n",
    "    text = re.sub(r'\\s+', ' ', text)\n",
    "    \n",
    "    # 문장 시작과 끝의 공백 제거\n",
    "    text = text.strip()\n",
    "    \n",
    "    return text"
   ]
  },
  {
   "cell_type": "code",
   "execution_count": 5,
   "metadata": {},
   "outputs": [],
   "source": [
    "def clean_text(text):\n",
    "    if not isinstance(text, str):\n",
    "        return \"\"\n",
    "\n",
    "    # (1) 기자/출처 제거\n",
    "    text = re.sub(r'\\([^\\)]+기자\\)', '', text)\n",
    "    text = re.sub(r'[가-힣]{2,4}\\s?기자(입니다)?', '', text)\n",
    "    text = re.sub(r'기자\\s*=\\s*', '', text)\n",
    "    text = re.sub(r'사진[=:\\-]\\s*[^,\\n]+', '', text)\n",
    "    text = re.sub(r'(연합뉴스|뉴스1|뉴시스|SBS|KBS|MBC|JTBC|YTN)', '', text)\n",
    "\n",
    "    # (2) HTML 태그 및 URL 제거\n",
    "    text = re.sub(r'<[^>]+>', '', text)\n",
    "    text = re.sub(r'https?://\\S+', '', text)\n",
    "\n",
    "    # (3) 괄호/대괄호 제거\n",
    "    text = re.sub(r'\\(서울=.*?\\)', '', text)\n",
    "    text = re.sub(r'\\[[^\\]]*\\]', '', text)\n",
    "\n",
    "    # (4) 공통 및 언론사 클리셰 제거\n",
    "    noise_patterns = [\n",
    "        r'무단 전재 및 재배포 금지',\n",
    "        r'해당 기사.*?무단 전재.*?금지합니다',\n",
    "        r'자세한 내용은.*?확인하십시오',\n",
    "        r'본 기사.*?무단 전재.*?금지',\n",
    "        r'ⓒ 오마이뉴스.*',\n",
    "        r'오마이뉴스\\s*ⓒ.*',\n",
    "        r'조선닷컴.*',\n",
    "        r'경향신문.*?재배포 금지',\n",
    "        r'중앙일보.*?무단 전재.*',\n",
    "        r'한국일보.*?저작권.*',\n",
    "        r'SBS.*?All rights reserved',\n",
    "        r'All rights reserved.*',\n",
    "        r'사진[=:\\-]\\s*[^,\\n]+',\n",
    "        r'\\(사진=\\s*SBS.*?\\)',\n",
    "        r'경향신문\\s*무단 전재.*',\n",
    "        r'동아일보\\s*무단 전재.*',\n",
    "        r'중앙일보\\s*재배포.*',\n",
    "        r'한국일보\\s*무단.*',\n",
    "        r'뉴스1',\n",
    "        r'연합뉴스',\n",
    "        r'뉴시스',\n",
    "        r'기자\\s*입력\\s*\\d{4}',\n",
    "        r'기자\\s*승인\\s*\\d{4}',\n",
    "        r'중앙일보\\s*제공',\n",
    "    ]\n",
    "    for pattern in noise_patterns:\n",
    "        text = re.sub(pattern, '', text)\n",
    "\n",
    "    # (5) 특수문자 정리 (의미 있는 기호는 유지)\n",
    "    text = re.sub(r'\\n+', ' ', text)\n",
    "    text = re.sub(r'\\s+', ' ', text)\n",
    "    text = re.sub(r'[^\\w\\s가-힣%℃·\\-]', '', text)\n",
    "\n",
    "    return text.strip()"
   ]
  },
  {
   "cell_type": "code",
   "execution_count": 17,
   "metadata": {},
   "outputs": [
    {
     "name": "stdout",
     "output_type": "stream",
     "text": [
      "중복 제거 후 남은 기사 수: 78973\n"
     ]
    }
   ],
   "source": [
    "# 결측치 제거\n",
    "combined_df = combined_df.dropna(subset=['title', 'content'])\n",
    "\n",
    "# 제목과 본문 전처리\n",
    "combined_df['title_cleaned'] = combined_df['title'].apply(clean_text1)\n",
    "combined_df['title_cleaned1'] = combined_df['title'].apply(clean_text)\n",
    "combined_df['content_cleaned'] = combined_df['content'].apply(clean_text)\n",
    "\n",
    "# 제목과 본문 결합\n",
    "combined_df['text'] = combined_df['title_cleaned'] + ' ' + combined_df['content_cleaned']\n",
    "\n",
    "# 너무 짧은 기사 제거 (예: 100자 미만)\n",
    "combined_df = combined_df[combined_df['text'].str.len() >= 100]\n",
    "\n",
    "# 중복 기사 제거 (제목과 본문이 동일한 경우)\n",
    "combined_df = combined_df.drop_duplicates(subset=['title_cleaned', 'content_cleaned'])\n",
    "\n",
    "# 중복 제거 후 데이터 수 확인\n",
    "print(f\"중복 제거 후 남은 기사 수: {len(combined_df)}\")"
   ]
  },
  {
   "cell_type": "code",
   "execution_count": 8,
   "metadata": {},
   "outputs": [
    {
     "name": "stdout",
     "output_type": "stream",
     "text": [
      "<class 'pandas.core.frame.DataFrame'>\n",
      "Index: 78927 entries, 0 to 85697\n",
      "Data columns (total 14 columns):\n",
      " #   Column           Non-Null Count  Dtype \n",
      "---  ------           --------------  ----- \n",
      " 0   title            78927 non-null  object\n",
      " 1   content          78927 non-null  object\n",
      " 2   press            78927 non-null  object\n",
      " 3   url              78927 non-null  object\n",
      " 4   created_date     78927 non-null  object\n",
      " 5   modified_date    59553 non-null  object\n",
      " 6   journalist       67561 non-null  object\n",
      " 7   comment_count    78927 non-null  int64 \n",
      " 8   related_titles   78425 non-null  object\n",
      " 9   related_urls     78425 non-null  object\n",
      " 10  title_cleaned1   78927 non-null  object\n",
      " 11  title_cleaned    78927 non-null  object\n",
      " 12  content_cleaned  78927 non-null  object\n",
      " 13  text             78927 non-null  object\n",
      "dtypes: int64(1), object(13)\n",
      "memory usage: 9.0+ MB\n"
     ]
    }
   ],
   "source": [
    "combined_df.info()"
   ]
  },
  {
   "cell_type": "code",
   "execution_count": 18,
   "metadata": {},
   "outputs": [],
   "source": [
    "# 전처리된 통합 데이터셋 저장\n",
    "combined_df.to_csv(\"../data/전체통합_전처리.csv\", index=False)"
   ]
  },
  {
   "cell_type": "code",
   "execution_count": 19,
   "metadata": {},
   "outputs": [],
   "source": [
    "import pandas as pd\n",
    "\n",
    "# 파일 경로\n",
    "path_labeled = '../data/정당_관점_라벨링_최종.csv'\n",
    "path_cleaned = '../data/전체통합_전처리.csv'\n",
    "\n",
    "# CSV 로딩\n",
    "df_labeled = pd.read_csv(path_labeled)\n",
    "df_cleaned = pd.read_csv(path_cleaned)"
   ]
  },
  {
   "cell_type": "code",
   "execution_count": 20,
   "metadata": {},
   "outputs": [
    {
     "name": "stdout",
     "output_type": "stream",
     "text": [
      "<class 'pandas.core.frame.DataFrame'>\n",
      "RangeIndex: 1000 entries, 0 to 999\n",
      "Data columns (total 3 columns):\n",
      " #   Column           Non-Null Count  Dtype \n",
      "---  ------           --------------  ----- \n",
      " 0   title_cleaned    1000 non-null   object\n",
      " 1   content_cleaned  1000 non-null   object\n",
      " 2   party            1000 non-null   object\n",
      "dtypes: object(3)\n",
      "memory usage: 23.6+ KB\n"
     ]
    }
   ],
   "source": [
    "df_labeled.info()"
   ]
  },
  {
   "cell_type": "code",
   "execution_count": 21,
   "metadata": {},
   "outputs": [
    {
     "name": "stdout",
     "output_type": "stream",
     "text": [
      "<class 'pandas.core.frame.DataFrame'>\n",
      "RangeIndex: 78973 entries, 0 to 78972\n",
      "Data columns (total 14 columns):\n",
      " #   Column           Non-Null Count  Dtype \n",
      "---  ------           --------------  ----- \n",
      " 0   title            78973 non-null  object\n",
      " 1   content          78973 non-null  object\n",
      " 2   press            78973 non-null  object\n",
      " 3   url              78973 non-null  object\n",
      " 4   created_date     78973 non-null  object\n",
      " 5   modified_date    59595 non-null  object\n",
      " 6   journalist       67571 non-null  object\n",
      " 7   comment_count    78973 non-null  int64 \n",
      " 8   related_titles   78471 non-null  object\n",
      " 9   related_urls     78471 non-null  object\n",
      " 10  title_cleaned    78973 non-null  object\n",
      " 11  title_cleaned1   78973 non-null  object\n",
      " 12  content_cleaned  78973 non-null  object\n",
      " 13  text             78973 non-null  object\n",
      "dtypes: int64(1), object(13)\n",
      "memory usage: 8.4+ MB\n"
     ]
    }
   ],
   "source": [
    "df_cleaned.info()"
   ]
  },
  {
   "cell_type": "code",
   "execution_count": 27,
   "metadata": {},
   "outputs": [],
   "source": [
    "df_cleaned.drop_duplicates(subset=['title', 'content'], inplace=True)"
   ]
  },
  {
   "cell_type": "code",
   "execution_count": 28,
   "metadata": {},
   "outputs": [],
   "source": [
    "# title 기준으로 merge (주의: title 컬럼이 서로 이름이 다를 수 있음)\n",
    "# 예: labeled 파일에는 title, cleaned 파일에는 title_cleaned1\n",
    "df_merged = pd.merge(df_labeled, df_cleaned, on=\"title_cleaned\", how=\"left\", suffixes=('_labeled', '_cleaned'))"
   ]
  },
  {
   "cell_type": "code",
   "execution_count": 30,
   "metadata": {},
   "outputs": [
    {
     "name": "stdout",
     "output_type": "stream",
     "text": [
      "<class 'pandas.core.frame.DataFrame'>\n",
      "RangeIndex: 1034 entries, 0 to 1033\n",
      "Data columns (total 16 columns):\n",
      " #   Column                   Non-Null Count  Dtype  \n",
      "---  ------                   --------------  -----  \n",
      " 0   title_cleaned            1034 non-null   object \n",
      " 1   content_cleaned_labeled  1034 non-null   object \n",
      " 2   party                    1034 non-null   object \n",
      " 3   title                    1033 non-null   object \n",
      " 4   content                  1033 non-null   object \n",
      " 5   press                    1033 non-null   object \n",
      " 6   url                      1033 non-null   object \n",
      " 7   created_date             1033 non-null   object \n",
      " 8   modified_date            809 non-null    object \n",
      " 9   journalist               876 non-null    object \n",
      " 10  comment_count            1033 non-null   float64\n",
      " 11  related_titles           1028 non-null   object \n",
      " 12  related_urls             1028 non-null   object \n",
      " 13  title_cleaned1           1033 non-null   object \n",
      " 14  content_cleaned_cleaned  1033 non-null   object \n",
      " 15  text                     1033 non-null   object \n",
      "dtypes: float64(1), object(15)\n",
      "memory usage: 129.4+ KB\n"
     ]
    }
   ],
   "source": [
    "df_merged.info()"
   ]
  },
  {
   "cell_type": "code",
   "execution_count": 31,
   "metadata": {},
   "outputs": [],
   "source": [
    "# 최신 전처리된 title과 content로 갱신\n",
    "df_merged[\"title_cleaned\"] = df_merged[\"title_cleaned1\"]\n",
    "df_merged[\"content_cleaned\"] = df_merged[\"content_cleaned_cleaned\"]\n",
    "\n",
    "# 불필요한 중복 컬럼 제거\n",
    "df_merged = df_merged.drop(columns=[\"title_cleaned1\", \"content_cleaned_labeled\", \"content_cleaned_cleaned\"])"
   ]
  },
  {
   "cell_type": "code",
   "execution_count": 34,
   "metadata": {},
   "outputs": [],
   "source": [
    "df_merged.drop_duplicates(subset=['title_cleaned', 'content_cleaned'], inplace=True)"
   ]
  },
  {
   "cell_type": "code",
   "execution_count": 38,
   "metadata": {},
   "outputs": [],
   "source": [
    "df_merged.dropna(subset=['title_cleaned', 'content_cleaned'],  inplace=True)"
   ]
  },
  {
   "cell_type": "code",
   "execution_count": 39,
   "metadata": {},
   "outputs": [
    {
     "name": "stdout",
     "output_type": "stream",
     "text": [
      "<class 'pandas.core.frame.DataFrame'>\n",
      "Index: 1025 entries, 0 to 1033\n",
      "Data columns (total 14 columns):\n",
      " #   Column           Non-Null Count  Dtype  \n",
      "---  ------           --------------  -----  \n",
      " 0   title_cleaned    1025 non-null   object \n",
      " 1   party            1025 non-null   object \n",
      " 2   title            1025 non-null   object \n",
      " 3   content          1025 non-null   object \n",
      " 4   press            1025 non-null   object \n",
      " 5   url              1025 non-null   object \n",
      " 6   created_date     1025 non-null   object \n",
      " 7   modified_date    801 non-null    object \n",
      " 8   journalist       870 non-null    object \n",
      " 9   comment_count    1025 non-null   float64\n",
      " 10  related_titles   1020 non-null   object \n",
      " 11  related_urls     1020 non-null   object \n",
      " 12  text             1025 non-null   object \n",
      " 13  content_cleaned  1025 non-null   object \n",
      "dtypes: float64(1), object(13)\n",
      "memory usage: 120.1+ KB\n"
     ]
    }
   ],
   "source": [
    "df_merged.info()"
   ]
  },
  {
   "cell_type": "code",
   "execution_count": 43,
   "metadata": {},
   "outputs": [],
   "source": [
    "# 필요한 컬럼만 선택 및 순서 지정\n",
    "final_columns = [\"title_cleaned\", \"content_cleaned\", \"text\", \"press\", \"created_date\", \"party\"]\n",
    "df_final = df_merged[final_columns]\n",
    "\n",
    "# 저장\n",
    "df_final.to_csv(\"../data/정당_관점_라벨링_최종_업데이트.csv\", index=False)"
   ]
  },
  {
   "cell_type": "code",
   "execution_count": 44,
   "metadata": {},
   "outputs": [
    {
     "name": "stdout",
     "output_type": "stream",
     "text": [
      "<class 'pandas.core.frame.DataFrame'>\n",
      "RangeIndex: 78973 entries, 0 to 78972\n",
      "Data columns (total 14 columns):\n",
      " #   Column           Non-Null Count  Dtype \n",
      "---  ------           --------------  ----- \n",
      " 0   title            78973 non-null  object\n",
      " 1   content          78973 non-null  object\n",
      " 2   press            78973 non-null  object\n",
      " 3   url              78973 non-null  object\n",
      " 4   created_date     78973 non-null  object\n",
      " 5   modified_date    59595 non-null  object\n",
      " 6   journalist       67571 non-null  object\n",
      " 7   comment_count    78973 non-null  int64 \n",
      " 8   related_titles   78471 non-null  object\n",
      " 9   related_urls     78471 non-null  object\n",
      " 10  title_cleaned    78973 non-null  object\n",
      " 11  title_cleaned1   78973 non-null  object\n",
      " 12  content_cleaned  78973 non-null  object\n",
      " 13  text             78973 non-null  object\n",
      "dtypes: int64(1), object(13)\n",
      "memory usage: 8.4+ MB\n"
     ]
    }
   ],
   "source": [
    "import pandas as pd\n",
    "\n",
    "df = pd.read_csv('../data/전체통합_전처리.csv')\n",
    "df.info()"
   ]
  },
  {
   "cell_type": "code",
   "execution_count": null,
   "metadata": {},
   "outputs": [],
   "source": [
    "df['title_cleaned'] = df['title_cleaned1']\n",
    "df = df[['title_cleaned', 'content_cleaned', 'text', 'press', 'url', 'created_date', 'modified_date', 'journalist', 'comment_count', 'related_titles', 'related_urls']]\n",
    "df.to_csv('../data/전체통합_전처리.csv', index=False)"
   ]
  },
  {
   "cell_type": "code",
   "execution_count": 46,
   "metadata": {},
   "outputs": [],
   "source": [
    "df.to_csv('../data/전체통합_전처리.csv', index=False)"
   ]
  },
  {
   "cell_type": "code",
   "execution_count": 48,
   "metadata": {},
   "outputs": [
    {
     "name": "stdout",
     "output_type": "stream",
     "text": [
      "전체 데이터 수: 78973\n"
     ]
    }
   ],
   "source": [
    "import pandas as pd\n",
    "import numpy as np\n",
    "\n",
    "# CSV 파일 읽기\n",
    "df = pd.read_csv('../data/전체통합_전처리.csv')\n",
    "\n",
    "# 전체 데이터 수 확인\n",
    "total_rows = len(df)\n",
    "print(f\"전체 데이터 수: {total_rows}\")"
   ]
  },
  {
   "cell_type": "code",
   "execution_count": 49,
   "metadata": {},
   "outputs": [
    {
     "name": "stdout",
     "output_type": "stream",
     "text": [
      "전체 1 크기: 3000\n",
      "전체 2 크기: 5000\n",
      "전체 3 크기: 10000\n",
      "전체 4 크기: 60973\n"
     ]
    }
   ],
   "source": [
    "# 랜덤하게 데이터 섞기\n",
    "df = df.sample(frac=1, random_state=42).reset_index(drop=True)\n",
    "\n",
    "# 각 그룹의 크기 설정\n",
    "group1_size = 3000\n",
    "group2_size = 5000\n",
    "group3_size = 10000\n",
    "group4_size = total_rows - (group1_size + group2_size + group3_size)\n",
    "\n",
    "# 데이터 분할\n",
    "group1 = df.iloc[:group1_size]\n",
    "group2 = df.iloc[group1_size:group1_size + group2_size]\n",
    "group3 = df.iloc[group1_size + group2_size:group1_size + group2_size + group3_size]\n",
    "group4 = df.iloc[group1_size + group2_size + group3_size:]\n",
    "\n",
    "# 각 그룹을 CSV 파일로 저장\n",
    "group1.to_csv('../model/data/전체1.csv', index=False)\n",
    "group2.to_csv('../model/data/전체2.csv', index=False)\n",
    "group3.to_csv('../model/data/전체3.csv', index=False)\n",
    "group4.to_csv('../model/data/전체4.csv', index=False)\n",
    "\n",
    "# 각 그룹의 크기 출력\n",
    "print(f\"전체 1 크기: {len(group1)}\")\n",
    "print(f\"전체 2 크기: {len(group2)}\")\n",
    "print(f\"전체 3 크기: {len(group3)}\")\n",
    "print(f\"전체 4 크기: {len(group4)}\")"
   ]
  }
 ],
 "metadata": {
  "kernelspec": {
   "display_name": "base",
   "language": "python",
   "name": "python3"
  },
  "language_info": {
   "codemirror_mode": {
    "name": "ipython",
    "version": 3
   },
   "file_extension": ".py",
   "mimetype": "text/x-python",
   "name": "python",
   "nbconvert_exporter": "python",
   "pygments_lexer": "ipython3",
   "version": "3.12.3"
  }
 },
 "nbformat": 4,
 "nbformat_minor": 4
}
