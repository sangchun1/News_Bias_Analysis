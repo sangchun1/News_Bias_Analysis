{
 "cells": [
  {
   "cell_type": "markdown",
   "metadata": {},
   "source": [
    "# 뉴스 데이터 감성 라벨링\n",
    "\n",
    "이 노트북은 크롤링한 뉴스 데이터를 BERT 모델 학습을 위해 감성 라벨링하는 과정을 담고 있습니다."
   ]
  },
  {
   "cell_type": "code",
   "execution_count": null,
   "metadata": {},
   "outputs": [],
   "source": [
    "import pandas as pd\n",
    "from konlpy.tag import Mecab\n",
    "import re"
   ]
  },
  {
   "cell_type": "code",
   "execution_count": null,
   "metadata": {},
   "outputs": [],
   "source": [
    "senti_dict = {}\n",
    "with open(\"SentiWord_Dict.txt\", \"r\", encoding=\"utf-8\") as f:\n",
    "    for line in f:\n",
    "        if line.strip() == \"\":\n",
    "            continue\n",
    "        phrase, score = line.strip().split('\\t')\n",
    "        if phrase:  # 단어 또는 구문\n",
    "            key = phrase.strip().split()[0]  # 첫 단어만 사용\n",
    "            if key not in senti_dict:\n",
    "                senti_dict[key] = int(score)"
   ]
  },
  {
   "cell_type": "code",
   "execution_count": null,
   "metadata": {},
   "outputs": [],
   "source": [
    "# 형태소 분석기\n",
    "mecab = Mecab()"
   ]
  },
  {
   "cell_type": "code",
   "execution_count": null,
   "metadata": {},
   "outputs": [],
   "source": [
    "def get_sentiment_label(text, senti_dict):\n",
    "    '''감성 점수 계산 함수'''\n",
    "    if pd.isnull(text) or text.strip() == \"\":\n",
    "        return \"neutral\"\n",
    "\n",
    "    words = mecab.morphs(text)\n",
    "    score = sum([senti_dict.get(w, 0) for w in words])\n",
    "    \n",
    "    if score > 0:\n",
    "        return \"긍정\"\n",
    "    elif score < 0:\n",
    "        return \"부정\"\n",
    "    else:\n",
    "        return \"중립\"\n"
   ]
  },
  {
   "cell_type": "code",
   "execution_count": null,
   "metadata": {},
   "outputs": [],
   "source": [
    "df = pd.read_csv(\"../data/정당_관점_라벨링_최종_업데이트.csv\")\n",
    "df.head()"
   ]
  },
  {
   "cell_type": "code",
   "execution_count": null,
   "metadata": {},
   "outputs": [],
   "source": [
    "df['sentiment'] = df['text'].apply(lambda x: get_sentiment_label(x, senti_dict))\n",
    "df[['text', 'sentiment']].head()"
   ]
  },
  {
   "cell_type": "code",
   "execution_count": null,
   "metadata": {},
   "outputs": [],
   "source": [
    "df.to_csv(\"../data/정당_관점_라벨링_최종_업데이트.csv\", index=False)\n",
    "print(\"✅ 감성 레이블링 완료 및 저장 완료\")"
   ]
  }
 ],
 "metadata": {
  "kernelspec": {
   "display_name": "base",
   "language": "python",
   "name": "python3"
  },
  "language_info": {
   "name": "python",
   "version": "3.12.3"
  }
 },
 "nbformat": 4,
 "nbformat_minor": 2
}
